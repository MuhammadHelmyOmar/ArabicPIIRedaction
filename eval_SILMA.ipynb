{
  "nbformat": 4,
  "nbformat_minor": 0,
  "metadata": {
    "colab": {
      "provenance": []
    },
    "kernelspec": {
      "name": "python3",
      "display_name": "Python 3"
    },
    "language_info": {
      "name": "python"
    }
  },
  "cells": [
    {
      "cell_type": "markdown",
      "source": [
        "## SILMA"
      ],
      "metadata": {
        "id": "JSsAwhB-M985"
      }
    },
    {
      "cell_type": "markdown",
      "source": [
        "### SILMA-2B-4bit"
      ],
      "metadata": {
        "id": "PFOFFoZunpk2"
      }
    },
    {
      "cell_type": "code",
      "source": [
        "# !pip install bitsandbytes accelerate\n",
        "from transformers import AutoTokenizer, AutoModelForCausalLM, BitsAndBytesConfig"
      ],
      "metadata": {
        "id": "msxzfcMAde1j"
      },
      "execution_count": null,
      "outputs": []
    },
    {
      "cell_type": "code",
      "source": [
        "model_id = \"silma-ai/SILMA-Kashif-2B-Instruct-v1.0-bnb-4bit\" # Quantized version\n",
        "quantization_config = BitsAndBytesConfig(load_in_4bit=True)\n",
        "tokenizer = AutoTokenizer.from_pretrained(model_id)\n",
        "\n",
        "model = AutoModelForCausalLM.from_pretrained(\n",
        "    model_id,\n",
        "    quantization_config = quantization_config,\n",
        ")"
      ],
      "metadata": {
        "id": "masiTJ6OdWt4"
      },
      "execution_count": null,
      "outputs": []
    },
    {
      "cell_type": "code",
      "source": [
        "messages = [\n",
        "    {\"role\": \"user\", \"content\": \"كم عدد أيام الأسبوع؟\"},\n",
        "]\n",
        "\n",
        "input_ids = tokenizer.apply_chat_template(messages, return_tensors=\"pt\", return_dict=True).to(\"cuda\")\n",
        "\n",
        "input_ids"
      ],
      "metadata": {
        "id": "RvMdoz8tiZFa"
      },
      "execution_count": null,
      "outputs": []
    },
    {
      "cell_type": "code",
      "source": [
        "outputs = model.generate(**input_ids, max_new_tokens=256)"
      ],
      "metadata": {
        "id": "4VpdHPFPi9Sb"
      },
      "execution_count": null,
      "outputs": []
    },
    {
      "cell_type": "code",
      "source": [
        "tokenizer.decode(outputs[0]).split(\"<start_of_turn>\")[-1]"
      ],
      "metadata": {
        "id": "E85GRMtol4fs"
      },
      "execution_count": null,
      "outputs": []
    },
    {
      "cell_type": "markdown",
      "source": [
        "### SILMA-2B"
      ],
      "metadata": {
        "id": "YRk7u6B4oIAh"
      }
    },
    {
      "cell_type": "code",
      "source": [
        "import torch\n",
        "from transformers import pipeline"
      ],
      "metadata": {
        "id": "HfyUaT6iqCcF"
      },
      "execution_count": null,
      "outputs": []
    },
    {
      "cell_type": "code",
      "source": [
        "pipe = pipeline(\n",
        "    \"text-generation\",\n",
        "    model=\"silma-ai/SILMA-Kashif-2B-Instruct-v1.0\",\n",
        "    model_kwargs={\"torch_dtype\": torch.bfloat16},\n",
        "    device=\"cuda\"\n",
        ")"
      ],
      "metadata": {
        "id": "KGt_QV4EoHP8"
      },
      "execution_count": null,
      "outputs": []
    },
    {
      "cell_type": "code",
      "source": [
        "messages = [\n",
        "    {\"role\": \"user\",\n",
        "     \"content\": \"\"\" Mask the PII as [masked] in the given source sentence\n",
        "\n",
        "     source: I sent my email address M.helmy@nu.edu.eg to my supervisor dr. gahda khoriba in Nile University.\n",
        "\n",
        "     target:\n",
        "     \"\"\"\n",
        "     }\n",
        "]\n",
        "\n",
        "outputs = pipe(messages, max_new_tokens=600)\n",
        "response = outputs[0][\"generated_text\"][-1][\"content\"].strip()"
      ],
      "metadata": {
        "id": "s3011Qx6qgGH"
      },
      "execution_count": null,
      "outputs": []
    },
    {
      "cell_type": "code",
      "source": [
        "response"
      ],
      "metadata": {
        "id": "xzoNrnzLrCuP"
      },
      "execution_count": null,
      "outputs": []
    },
    {
      "cell_type": "code",
      "source": [
        "messages = [\n",
        "    {\"role\": \"user\",\n",
        "     \"content\": f\"\"\" Mask the PII as [masked] in the given source sentence\n",
        "\n",
        "     source: {df[\"source\"][0]}\n",
        "\n",
        "     target:\n",
        "     \"\"\"\n",
        "     }\n",
        "]\n",
        "\n",
        "outputs = pipe(messages, max_new_tokens=600)\n",
        "response = outputs[0][\"generated_text\"][-1][\"content\"].strip()"
      ],
      "metadata": {
        "id": "x8_x4pNKwCqH"
      },
      "execution_count": null,
      "outputs": []
    },
    {
      "cell_type": "code",
      "source": [
        "print(df[\"source\"][0])\n",
        "print(response)"
      ],
      "metadata": {
        "id": "QWSCTXuQwLLk"
      },
      "execution_count": null,
      "outputs": []
    }
  ]
}