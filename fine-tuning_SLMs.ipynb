{
  "nbformat": 4,
  "nbformat_minor": 0,
  "metadata": {
    "colab": {
      "provenance": [],
      "include_colab_link": true
    },
    "kernelspec": {
      "name": "python3",
      "display_name": "Python 3"
    },
    "language_info": {
      "name": "python"
    }
  },
  "cells": [
    {
      "cell_type": "markdown",
      "metadata": {
        "id": "view-in-github",
        "colab_type": "text"
      },
      "source": [
        "<a href=\"https://colab.research.google.com/github/MuhammadHelmyOmar/ArabicPIIRedaction/blob/main/fine-tuning_SLMs.ipynb\" target=\"_parent\"><img src=\"https://colab.research.google.com/assets/colab-badge.svg\" alt=\"Open In Colab\"/></a>"
      ]
    },
    {
      "cell_type": "markdown",
      "source": [
        "# Data Preparation"
      ],
      "metadata": {
        "id": "vz0XTsAGP88t"
      }
    },
    {
      "cell_type": "code",
      "source": [
        "import pandas as pd"
      ],
      "metadata": {
        "id": "-SsmHMGiO3Sx"
      },
      "execution_count": 1,
      "outputs": []
    },
    {
      "cell_type": "markdown",
      "source": [
        "### Test data\n",
        "- Original Competition Data"
      ],
      "metadata": {
        "id": "uCthputZK4bO"
      }
    },
    {
      "cell_type": "code",
      "source": [
        "data_url = \"https://raw.githubusercontent.com/MuhammadHelmyOmar/ArabicPIIRedaction/main/data/data_final.xlsx\"\n",
        "\n",
        "test = pd.read_excel(data_url)\n",
        "\n",
        "test.head()"
      ],
      "metadata": {
        "colab": {
          "base_uri": "https://localhost:8080/",
          "height": 241
        },
        "id": "YZFHiCrhO5R4",
        "outputId": "ddcbc779-056f-4fb0-852b-a8bbbd1794e3"
      },
      "execution_count": 2,
      "outputs": [
        {
          "output_type": "execute_result",
          "data": {
            "text/plain": [
              "                                              source  \\\n",
              "0  الأستاذ أدولفوس ريغان زييمان، بصفتك المدير الت...   \n",
              "1  مرحبًا يا هانا، ممكن لو سمحتي تتحققي من التداع...   \n",
              "2  نطلب أيضًا مراجعة سياساتنا فيما يتعلق بالتغيير...   \n",
              "3  عزيزي ديفان، مطلوب تقديم عرض تقديمي على مستوى ...   \n",
              "4  ممكن كمان نعمل جلسة عن كيفية إدارة التوتر والت...   \n",
              "\n",
              "                                              target    dialect  \n",
              "0  الأستاذ [MASK]، بصفتك المدير التنفيذي الرئيسي ...      EGYPT  \n",
              "1  مرحبًا يا [MASK]، ممكن لو سمحتي تتحققي من التد...      EGYPT  \n",
              "2  نطلب أيضًا مراجعة سياساتنا فيما يتعلق بالتغيير...      SAUDI  \n",
              "3  عزيزي [MASK]، مطلوب تقديم عرض تقديمي على مستوى...      EGYPT  \n",
              "4  The sentence doesn't contain any personal or s...  LEVANTINE  "
            ],
            "text/html": [
              "\n",
              "  <div id=\"df-46187b92-f61d-4638-a830-511df4e83f82\" class=\"colab-df-container\">\n",
              "    <div>\n",
              "<style scoped>\n",
              "    .dataframe tbody tr th:only-of-type {\n",
              "        vertical-align: middle;\n",
              "    }\n",
              "\n",
              "    .dataframe tbody tr th {\n",
              "        vertical-align: top;\n",
              "    }\n",
              "\n",
              "    .dataframe thead th {\n",
              "        text-align: right;\n",
              "    }\n",
              "</style>\n",
              "<table border=\"1\" class=\"dataframe\">\n",
              "  <thead>\n",
              "    <tr style=\"text-align: right;\">\n",
              "      <th></th>\n",
              "      <th>source</th>\n",
              "      <th>target</th>\n",
              "      <th>dialect</th>\n",
              "    </tr>\n",
              "  </thead>\n",
              "  <tbody>\n",
              "    <tr>\n",
              "      <th>0</th>\n",
              "      <td>الأستاذ أدولفوس ريغان زييمان، بصفتك المدير الت...</td>\n",
              "      <td>الأستاذ [MASK]، بصفتك المدير التنفيذي الرئيسي ...</td>\n",
              "      <td>EGYPT</td>\n",
              "    </tr>\n",
              "    <tr>\n",
              "      <th>1</th>\n",
              "      <td>مرحبًا يا هانا، ممكن لو سمحتي تتحققي من التداع...</td>\n",
              "      <td>مرحبًا يا [MASK]، ممكن لو سمحتي تتحققي من التد...</td>\n",
              "      <td>EGYPT</td>\n",
              "    </tr>\n",
              "    <tr>\n",
              "      <th>2</th>\n",
              "      <td>نطلب أيضًا مراجعة سياساتنا فيما يتعلق بالتغيير...</td>\n",
              "      <td>نطلب أيضًا مراجعة سياساتنا فيما يتعلق بالتغيير...</td>\n",
              "      <td>SAUDI</td>\n",
              "    </tr>\n",
              "    <tr>\n",
              "      <th>3</th>\n",
              "      <td>عزيزي ديفان، مطلوب تقديم عرض تقديمي على مستوى ...</td>\n",
              "      <td>عزيزي [MASK]، مطلوب تقديم عرض تقديمي على مستوى...</td>\n",
              "      <td>EGYPT</td>\n",
              "    </tr>\n",
              "    <tr>\n",
              "      <th>4</th>\n",
              "      <td>ممكن كمان نعمل جلسة عن كيفية إدارة التوتر والت...</td>\n",
              "      <td>The sentence doesn't contain any personal or s...</td>\n",
              "      <td>LEVANTINE</td>\n",
              "    </tr>\n",
              "  </tbody>\n",
              "</table>\n",
              "</div>\n",
              "    <div class=\"colab-df-buttons\">\n",
              "\n",
              "  <div class=\"colab-df-container\">\n",
              "    <button class=\"colab-df-convert\" onclick=\"convertToInteractive('df-46187b92-f61d-4638-a830-511df4e83f82')\"\n",
              "            title=\"Convert this dataframe to an interactive table.\"\n",
              "            style=\"display:none;\">\n",
              "\n",
              "  <svg xmlns=\"http://www.w3.org/2000/svg\" height=\"24px\" viewBox=\"0 -960 960 960\">\n",
              "    <path d=\"M120-120v-720h720v720H120Zm60-500h600v-160H180v160Zm220 220h160v-160H400v160Zm0 220h160v-160H400v160ZM180-400h160v-160H180v160Zm440 0h160v-160H620v160ZM180-180h160v-160H180v160Zm440 0h160v-160H620v160Z\"/>\n",
              "  </svg>\n",
              "    </button>\n",
              "\n",
              "  <style>\n",
              "    .colab-df-container {\n",
              "      display:flex;\n",
              "      gap: 12px;\n",
              "    }\n",
              "\n",
              "    .colab-df-convert {\n",
              "      background-color: #E8F0FE;\n",
              "      border: none;\n",
              "      border-radius: 50%;\n",
              "      cursor: pointer;\n",
              "      display: none;\n",
              "      fill: #1967D2;\n",
              "      height: 32px;\n",
              "      padding: 0 0 0 0;\n",
              "      width: 32px;\n",
              "    }\n",
              "\n",
              "    .colab-df-convert:hover {\n",
              "      background-color: #E2EBFA;\n",
              "      box-shadow: 0px 1px 2px rgba(60, 64, 67, 0.3), 0px 1px 3px 1px rgba(60, 64, 67, 0.15);\n",
              "      fill: #174EA6;\n",
              "    }\n",
              "\n",
              "    .colab-df-buttons div {\n",
              "      margin-bottom: 4px;\n",
              "    }\n",
              "\n",
              "    [theme=dark] .colab-df-convert {\n",
              "      background-color: #3B4455;\n",
              "      fill: #D2E3FC;\n",
              "    }\n",
              "\n",
              "    [theme=dark] .colab-df-convert:hover {\n",
              "      background-color: #434B5C;\n",
              "      box-shadow: 0px 1px 3px 1px rgba(0, 0, 0, 0.15);\n",
              "      filter: drop-shadow(0px 1px 2px rgba(0, 0, 0, 0.3));\n",
              "      fill: #FFFFFF;\n",
              "    }\n",
              "  </style>\n",
              "\n",
              "    <script>\n",
              "      const buttonEl =\n",
              "        document.querySelector('#df-46187b92-f61d-4638-a830-511df4e83f82 button.colab-df-convert');\n",
              "      buttonEl.style.display =\n",
              "        google.colab.kernel.accessAllowed ? 'block' : 'none';\n",
              "\n",
              "      async function convertToInteractive(key) {\n",
              "        const element = document.querySelector('#df-46187b92-f61d-4638-a830-511df4e83f82');\n",
              "        const dataTable =\n",
              "          await google.colab.kernel.invokeFunction('convertToInteractive',\n",
              "                                                    [key], {});\n",
              "        if (!dataTable) return;\n",
              "\n",
              "        const docLinkHtml = 'Like what you see? Visit the ' +\n",
              "          '<a target=\"_blank\" href=https://colab.research.google.com/notebooks/data_table.ipynb>data table notebook</a>'\n",
              "          + ' to learn more about interactive tables.';\n",
              "        element.innerHTML = '';\n",
              "        dataTable['output_type'] = 'display_data';\n",
              "        await google.colab.output.renderOutput(dataTable, element);\n",
              "        const docLink = document.createElement('div');\n",
              "        docLink.innerHTML = docLinkHtml;\n",
              "        element.appendChild(docLink);\n",
              "      }\n",
              "    </script>\n",
              "  </div>\n",
              "\n",
              "\n",
              "    <div id=\"df-5ab5d8d8-bdee-4f17-bf5c-90f76cb991b6\">\n",
              "      <button class=\"colab-df-quickchart\" onclick=\"quickchart('df-5ab5d8d8-bdee-4f17-bf5c-90f76cb991b6')\"\n",
              "                title=\"Suggest charts\"\n",
              "                style=\"display:none;\">\n",
              "\n",
              "<svg xmlns=\"http://www.w3.org/2000/svg\" height=\"24px\"viewBox=\"0 0 24 24\"\n",
              "     width=\"24px\">\n",
              "    <g>\n",
              "        <path d=\"M19 3H5c-1.1 0-2 .9-2 2v14c0 1.1.9 2 2 2h14c1.1 0 2-.9 2-2V5c0-1.1-.9-2-2-2zM9 17H7v-7h2v7zm4 0h-2V7h2v10zm4 0h-2v-4h2v4z\"/>\n",
              "    </g>\n",
              "</svg>\n",
              "      </button>\n",
              "\n",
              "<style>\n",
              "  .colab-df-quickchart {\n",
              "      --bg-color: #E8F0FE;\n",
              "      --fill-color: #1967D2;\n",
              "      --hover-bg-color: #E2EBFA;\n",
              "      --hover-fill-color: #174EA6;\n",
              "      --disabled-fill-color: #AAA;\n",
              "      --disabled-bg-color: #DDD;\n",
              "  }\n",
              "\n",
              "  [theme=dark] .colab-df-quickchart {\n",
              "      --bg-color: #3B4455;\n",
              "      --fill-color: #D2E3FC;\n",
              "      --hover-bg-color: #434B5C;\n",
              "      --hover-fill-color: #FFFFFF;\n",
              "      --disabled-bg-color: #3B4455;\n",
              "      --disabled-fill-color: #666;\n",
              "  }\n",
              "\n",
              "  .colab-df-quickchart {\n",
              "    background-color: var(--bg-color);\n",
              "    border: none;\n",
              "    border-radius: 50%;\n",
              "    cursor: pointer;\n",
              "    display: none;\n",
              "    fill: var(--fill-color);\n",
              "    height: 32px;\n",
              "    padding: 0;\n",
              "    width: 32px;\n",
              "  }\n",
              "\n",
              "  .colab-df-quickchart:hover {\n",
              "    background-color: var(--hover-bg-color);\n",
              "    box-shadow: 0 1px 2px rgba(60, 64, 67, 0.3), 0 1px 3px 1px rgba(60, 64, 67, 0.15);\n",
              "    fill: var(--button-hover-fill-color);\n",
              "  }\n",
              "\n",
              "  .colab-df-quickchart-complete:disabled,\n",
              "  .colab-df-quickchart-complete:disabled:hover {\n",
              "    background-color: var(--disabled-bg-color);\n",
              "    fill: var(--disabled-fill-color);\n",
              "    box-shadow: none;\n",
              "  }\n",
              "\n",
              "  .colab-df-spinner {\n",
              "    border: 2px solid var(--fill-color);\n",
              "    border-color: transparent;\n",
              "    border-bottom-color: var(--fill-color);\n",
              "    animation:\n",
              "      spin 1s steps(1) infinite;\n",
              "  }\n",
              "\n",
              "  @keyframes spin {\n",
              "    0% {\n",
              "      border-color: transparent;\n",
              "      border-bottom-color: var(--fill-color);\n",
              "      border-left-color: var(--fill-color);\n",
              "    }\n",
              "    20% {\n",
              "      border-color: transparent;\n",
              "      border-left-color: var(--fill-color);\n",
              "      border-top-color: var(--fill-color);\n",
              "    }\n",
              "    30% {\n",
              "      border-color: transparent;\n",
              "      border-left-color: var(--fill-color);\n",
              "      border-top-color: var(--fill-color);\n",
              "      border-right-color: var(--fill-color);\n",
              "    }\n",
              "    40% {\n",
              "      border-color: transparent;\n",
              "      border-right-color: var(--fill-color);\n",
              "      border-top-color: var(--fill-color);\n",
              "    }\n",
              "    60% {\n",
              "      border-color: transparent;\n",
              "      border-right-color: var(--fill-color);\n",
              "    }\n",
              "    80% {\n",
              "      border-color: transparent;\n",
              "      border-right-color: var(--fill-color);\n",
              "      border-bottom-color: var(--fill-color);\n",
              "    }\n",
              "    90% {\n",
              "      border-color: transparent;\n",
              "      border-bottom-color: var(--fill-color);\n",
              "    }\n",
              "  }\n",
              "</style>\n",
              "\n",
              "      <script>\n",
              "        async function quickchart(key) {\n",
              "          const quickchartButtonEl =\n",
              "            document.querySelector('#' + key + ' button');\n",
              "          quickchartButtonEl.disabled = true;  // To prevent multiple clicks.\n",
              "          quickchartButtonEl.classList.add('colab-df-spinner');\n",
              "          try {\n",
              "            const charts = await google.colab.kernel.invokeFunction(\n",
              "                'suggestCharts', [key], {});\n",
              "          } catch (error) {\n",
              "            console.error('Error during call to suggestCharts:', error);\n",
              "          }\n",
              "          quickchartButtonEl.classList.remove('colab-df-spinner');\n",
              "          quickchartButtonEl.classList.add('colab-df-quickchart-complete');\n",
              "        }\n",
              "        (() => {\n",
              "          let quickchartButtonEl =\n",
              "            document.querySelector('#df-5ab5d8d8-bdee-4f17-bf5c-90f76cb991b6 button');\n",
              "          quickchartButtonEl.style.display =\n",
              "            google.colab.kernel.accessAllowed ? 'block' : 'none';\n",
              "        })();\n",
              "      </script>\n",
              "    </div>\n",
              "\n",
              "    </div>\n",
              "  </div>\n"
            ],
            "application/vnd.google.colaboratory.intrinsic+json": {
              "type": "dataframe",
              "variable_name": "test",
              "summary": "{\n  \"name\": \"test\",\n  \"rows\": 10447,\n  \"fields\": [\n    {\n      \"column\": \"source\",\n      \"properties\": {\n        \"dtype\": \"string\",\n        \"num_unique_values\": 10388,\n        \"samples\": [\n          \"\\u0628\\u0627\\u0644\\u0625\\u0636\\u0627\\u0641\\u0629 \\u0625\\u0644\\u0649 \\u0630\\u0644\\u0643\\u060c \\u0633\\u064a\\u0643\\u0648\\u0646 \\u0645\\u0646 \\u0627\\u0644\\u0645\\u0641\\u064a\\u062f \\u0625\\u0630\\u0627 \\u062a\\u0645\\u0643\\u0646\\u062a \\u0645\\u0646 \\u0645\\u0631\\u0627\\u062c\\u0639\\u0629 \\u0642\\u0648\\u0627\\u0646\\u064a\\u0646 \\u0627\\u0644\\u0625\\u062e\\u0644\\u0627\\u0621 \\u0627\\u0644\\u0645\\u062a\\u0639\\u0644\\u0642\\u0629 \\u0628\\u0628\\u062f\\u0641\\u0648\\u0631\\u062f\\u0634\\u064a\\u0631 \\u0643\\u062c\\u0632\\u0621 \\u0645\\u0646 \\u0628\\u062d\\u062b\\u0643.\",\n          \"\\u0627\\u0644\\u0645\\u0634\\u0627\\u0631\\u0643\\u060c \\u0625\\u0630\\u0627 \\u0644\\u0645 \\u062a\\u062a\\u0645\\u0643\\u0646 \\u0645\\u0646 \\u0645\\u062a\\u0627\\u0628\\u0639\\u0629 \\u0627\\u0644\\u0627\\u062e\\u062a\\u0628\\u0627\\u0631 \\u0627\\u0644\\u0646\\u0641\\u0633\\u064a \\u0645\\u0646 \\u0639\\u0646\\u0648\\u0627\\u0646 IP 124.56.187.21\\u060c \\u064a\\u0631\\u062c\\u0649 \\u0627\\u0644\\u062a\\u0648\\u0627\\u0635\\u0644 \\u0645\\u0639 \\u0641\\u0631\\u064a\\u0642 \\u0627\\u0644\\u062f\\u0639\\u0645 \\u0644\\u062f\\u064a\\u0646\\u0627. \\u0628\\u0633\\u0628\\u0628 \\u0627\\u0644\\u0628\\u0631\\u0648\\u062a\\u0648\\u0643\\u0648\\u0644\\u0627\\u062a \\u0627\\u0644\\u0635\\u0627\\u0631\\u0645\\u0629\\u060c \\u0627\\u0644\\u0645\\u0646\\u0635\\u0629 \\u062a\\u0633\\u0645\\u062d \\u0628\\u0627\\u0644\\u0648\\u0635\\u0648\\u0644 \\u0641\\u0642\\u0637 \\u0645\\u0646 \\u0639\\u0646\\u0648\\u0627\\u0646 IP \\u0627\\u0644\\u0645\\u0633\\u062c\\u0644.\",\n          \"\\u062a\\u0642\\u0631\\u064a\\u0631 \\u0645\\u0628\\u064a\\u0639\\u0627\\u062a \\u0627\\u0644\\u0641\\u0631\\u0646\\u0634\\u0627\\u064a\\u0632 \\u0628\\u062a\\u0627\\u0639\\u0643 \\u0628\\u0627\\u064a\\u0646 \\u0639\\u0644\\u064a\\u0647 \\u0646\\u0645\\u0637 \\u063a\\u064a\\u0631 \\u0639\\u0627\\u062f\\u064a \\u0641\\u064a \\u0627\\u0644\\u0639\\u0645\\u0644\\u064a\\u0627\\u062a. \\u0645\\u0645\\u0643\\u0646 \\u0646\\u062a\\u0639\\u0628\\u0643 \\u0625\\u0646\\u0643 \\u062a\\u0631\\u0627\\u062c\\u0639 \\u0627\\u0644\\u0633\\u062c\\u0644\\u0627\\u062a \\u0627\\u0644\\u0645\\u0631\\u062a\\u0628\\u0637\\u0629 \\u0628\\u0639\\u0646\\u0648\\u0627\\u0646 \\u0627\\u0644\\u0640 IP dbed:0a1c:432b:2df0:d1de:08d0:d99b:9ada\\u061f\"\n        ],\n        \"semantic_type\": \"\",\n        \"description\": \"\"\n      }\n    },\n    {\n      \"column\": \"target\",\n      \"properties\": {\n        \"dtype\": \"string\",\n        \"num_unique_values\": 9742,\n        \"samples\": [\n          \"\\u0627\\u0633\\u062a\\u0645\\u062a\\u0639\\u062a \\u0628\\u0642\\u0631\\u0627\\u0621\\u0629 \\u0645\\u0642\\u0627\\u0644\\u0627\\u062a\\u0643 \\u0639\\u0646 \\u0627\\u0644\\u0639\\u0644\\u0627\\u062c \\u0627\\u0644\\u0648\\u062c\\u0648\\u062f\\u064a\\u060c \\u064a\\u0627 [MASK]. \\u0645\\u0645\\u0643\\u0646 \\u062a\\u062d\\u062f\\u062f \\u0648\\u0642\\u062a \\u0634\\u0647\\u0631\\u064a \\u062a\\u0628\\u0639\\u062a\\u0644\\u064a \\u0641\\u064a\\u0647 \\u0623\\u062d\\u062f\\u062b \\u0627\\u0644\\u0645\\u0642\\u0627\\u0644\\u0627\\u062a \\u0639\\u0644\\u0649 \\u0628\\u0631\\u064a\\u062f\\u064a \\u0627\\u0644\\u0625\\u0644\\u0643\\u062a\\u0631\\u0648\\u0646\\u064a\\u061f \\u0648\\u0643\\u0645\\u0627\\u0646\\u060c \\u0645\\u0645\\u0643\\u0646 \\u062a\\u0634\\u0648\\u0641 \\u0625\\u0645\\u0643\\u0627\\u0646\\u064a\\u0629 \\u0646\\u0634\\u0631 \\u0645\\u0642\\u0627\\u0644\\u0627\\u062a\\u0643 \\u0641\\u064a \\u0645\\u062c\\u0644\\u0629 \\u0645\\u0637\\u0628\\u0648\\u0639\\u0629 \\u0641\\u064a [MASK]\\u061f\",\n          \"\\u0646\\u062d\\u0646 \\u0646\\u062d\\u062a\\u0631\\u0645 \\u0633\\u0631\\u064a\\u0629 \\u0627\\u0644\\u0645\\u0634\\u0627\\u0631\\u0643\\u064a\\u0646 \\u0644\\u062f\\u064a\\u0646\\u0627 \\u0648\\u0633\\u064a\\u062a\\u0645 \\u0627\\u0644\\u062d\\u0641\\u0627\\u0638 \\u0639\\u0644\\u0649 \\u062e\\u0635\\u0648\\u0635\\u064a\\u062a\\u0647\\u0645. \\u0625\\u0630\\u0627 \\u0643\\u0646\\u062a \\u062a\\u0631\\u063a\\u0628 \\u0641\\u064a \\u0627\\u0644\\u0628\\u0642\\u0627\\u0621 \\u0645\\u062c\\u0647\\u0648\\u0644\\u064b\\u0627 \\u062e\\u0644\\u0627\\u0644 \\u0627\\u0644\\u062c\\u0644\\u0633\\u0629\\u060c \\u064a\\u0631\\u062c\\u0649 \\u0627\\u0633\\u062a\\u062e\\u062f\\u0627\\u0645 \\u0631\\u0645\\u0632 \\u0627\\u0644\\u0645\\u0631\\u0648\\u0631 [MASK]. \\u0644\\u0646\\u0642\\u0644 \\u0647\\u0630\\u0627 \\u0627\\u0644\\u0631\\u0645\\u0632 \\u0628\\u0634\\u0643\\u0644 \\u0622\\u0645\\u0646\\u060c \\u0646\\u0642\\u062a\\u0631\\u062d \\u0627\\u0633\\u062a\\u062e\\u062f\\u0627\\u0645 \\u062e\\u062f\\u0645\\u0629 \\u0627\\u0644\\u0631\\u0633\\u0627\\u0626\\u0644 \\u0627\\u0644\\u0622\\u0645\\u0646\\u0629 \\u0627\\u0644\\u062e\\u0627\\u0635\\u0629 \\u0628\\u0646\\u0627 \\u0627\\u0644\\u0645\\u0648\\u062c\\u0648\\u062f\\u0629 \\u0639\\u0644\\u0649 [MASK].\",\n          \"\\u0627\\u0646\\u062a\\u0628\\u0627\\u0647\\u0643 \\u0636\\u0631\\u0648\\u0631\\u064a \\u0628\\u062e\\u0635\\u0648\\u0635 \\u0627\\u0646\\u062a\\u0647\\u0627\\u0643 \\u0644\\u0644\\u0642\\u0627\\u0646\\u0648\\u0646 \\u0627\\u0644\\u062f\\u0648\\u0644\\u064a \\u0641\\u064a \\u0627\\u0644\\u0641\\u0636\\u0627\\u0621 \\u0627\\u0644\\u0625\\u0644\\u0643\\u062a\\u0631\\u0648\\u0646\\u064a \\u062c\\u0627\\u064a \\u0645\\u0646 \\u0639\\u0646\\u0648\\u0627\\u0646 IP [MASK]. \\u0628\\u0635\\u0641\\u062a\\u0643 \\u0627\\u0644\\u0645\\u0646\\u062a\\u062c \\u0627\\u0644\\u0645\\u0628\\u0627\\u0634\\u0631 \\u0644\\u0644\\u0627\\u0633\\u062a\\u062e\\u062f\\u0627\\u0645\\u060c \\u0645\\u062f\\u062e\\u0644\\u0627\\u062a\\u0643 \\u0648\\u0625\\u062c\\u0631\\u0627\\u0621\\u0627\\u062a\\u0643 \\u0645\\u0647\\u0645\\u0629 \\u062c\\u062f\\u0627\\u064b.\"\n        ],\n        \"semantic_type\": \"\",\n        \"description\": \"\"\n      }\n    },\n    {\n      \"column\": \"dialect\",\n      \"properties\": {\n        \"dtype\": \"category\",\n        \"num_unique_values\": 4,\n        \"samples\": [\n          \"SAUDI\",\n          \"MSA\",\n          \"EGYPT\"\n        ],\n        \"semantic_type\": \"\",\n        \"description\": \"\"\n      }\n    }\n  ]\n}"
            }
          },
          "metadata": {},
          "execution_count": 2
        }
      ]
    },
    {
      "cell_type": "markdown",
      "source": [
        "### Train data\n",
        "- Created by Mosaab"
      ],
      "metadata": {
        "id": "Rc7U_0COLFBs"
      }
    },
    {
      "cell_type": "markdown",
      "source": [
        "##### Cleaning and preprocessing"
      ],
      "metadata": {
        "id": "COAdxUm1jBNf"
      }
    },
    {
      "cell_type": "code",
      "source": [
        "from google.colab import drive\n",
        "import random"
      ],
      "metadata": {
        "id": "nSbGSaxnLEcb"
      },
      "execution_count": 3,
      "outputs": []
    },
    {
      "cell_type": "code",
      "source": [
        "drive.mount('/content/drive')"
      ],
      "metadata": {
        "id": "lf2iWcP3dK3X",
        "colab": {
          "base_uri": "https://localhost:8080/"
        },
        "outputId": "c226cbb3-3e07-44ad-9fed-c8b577329463"
      },
      "execution_count": 4,
      "outputs": [
        {
          "output_type": "stream",
          "name": "stdout",
          "text": [
            "Mounted at /content/drive\n"
          ]
        }
      ]
    },
    {
      "cell_type": "code",
      "source": [
        "data_path = \"/content/drive/MyDrive/Colab Notebooks/ArabicPIIRedaction/data/ar_dataset_translated_fixed.csv\"\n",
        "\n",
        "train = pd.read_csv(data_path)"
      ],
      "metadata": {
        "id": "CMW4N-ORNfzY"
      },
      "execution_count": 6,
      "outputs": []
    },
    {
      "cell_type": "code",
      "source": [
        "train.drop([\"Unnamed: 0\",'lang'], axis=1, inplace=True)\n",
        "print(len(train))\n",
        "train.head()"
      ],
      "metadata": {
        "colab": {
          "base_uri": "https://localhost:8080/",
          "height": 345
        },
        "id": "5VXlg-xXcADE",
        "outputId": "f5f34aec-25b7-4c00-9c51-076438ff44ae"
      },
      "execution_count": 7,
      "outputs": [
        {
          "output_type": "stream",
          "name": "stdout",
          "text": [
            "209261\n"
          ]
        },
        {
          "output_type": "execute_result",
          "data": {
            "text/plain": [
              "                                              source  \\\n",
              "0  مرحبًا <!FIRSTNAME_1!> Johan </!FIRSTNAME_1!> ...   \n",
              "1  نحن نقوم بمراجعة القضية التي رفعها <!FIRSTNAME...   \n",
              "2  بسبب اتفاقية السرية، لا يمكن للمريضة <!SEX_1!>...   \n",
              "3  عزيزي ولي الأمر، يلزم الحصول على إذن في <!DATE...   \n",
              "4  تنظيم اجتماع حول <!AGE_1!> 7 سنوات </!AGE_1!> ...   \n",
              "\n",
              "                                              tokens  \\\n",
              "0  ['مرحبا', 'Johan', 'Walker', '،', 'إشعار', 'ال...   \n",
              "1  ['نحن', 'نقوم', 'بمراجعة', 'القضية', 'التي', '...   \n",
              "2  ['بسبب', 'اتفاقية', 'السرية', '،', 'لا', 'يمكن...   \n",
              "3  ['عزيزي', 'ولي', 'الأمر', '،', 'يلزم', 'الحصول...   \n",
              "4  ['تنظيم', 'اجتماع', 'حول', '7', 'سنوات', '(', ...   \n",
              "\n",
              "                                                tags  \\\n",
              "0  ['O', 'B-FIRSTNAME', 'B-LASTNAME', 'O', 'O', '...   \n",
              "1  ['O', 'O', 'O', 'O', 'O', 'O', 'B-FIRSTNAME', ...   \n",
              "2  ['O', 'O', 'O', 'O', 'O', 'O', 'O', 'B-SEX', '...   \n",
              "3  ['O', 'O', 'O', 'O', 'O', 'O', 'O', 'O', 'O', ...   \n",
              "4  ['O', 'O', 'O', 'B-AGE', 'I-AGE', 'O', 'B-GEND...   \n",
              "\n",
              "                                        clean_source  \n",
              "0  مرحبا Johan Walker، إشعار الامتثال: تتطلب التغ...  \n",
              "1  نحن نقوم بمراجعة القضية التي رفعها كادي شوبي ب...  \n",
              "2  بسبب اتفاقية السرية، لا يمكن للمريضة أنثى الدر...  \n",
              "3  عزيزي ولي الأمر، يلزم الحصول على إذن في 2018-0...  \n",
              "4  تنظيم اجتماع حول 7 سنوات (Genderqueer) وسلامة ...  "
            ],
            "text/html": [
              "\n",
              "  <div id=\"df-a2c3667f-33c2-4c02-851c-b8b8b4413702\" class=\"colab-df-container\">\n",
              "    <div>\n",
              "<style scoped>\n",
              "    .dataframe tbody tr th:only-of-type {\n",
              "        vertical-align: middle;\n",
              "    }\n",
              "\n",
              "    .dataframe tbody tr th {\n",
              "        vertical-align: top;\n",
              "    }\n",
              "\n",
              "    .dataframe thead th {\n",
              "        text-align: right;\n",
              "    }\n",
              "</style>\n",
              "<table border=\"1\" class=\"dataframe\">\n",
              "  <thead>\n",
              "    <tr style=\"text-align: right;\">\n",
              "      <th></th>\n",
              "      <th>source</th>\n",
              "      <th>tokens</th>\n",
              "      <th>tags</th>\n",
              "      <th>clean_source</th>\n",
              "    </tr>\n",
              "  </thead>\n",
              "  <tbody>\n",
              "    <tr>\n",
              "      <th>0</th>\n",
              "      <td>مرحبًا &lt;!FIRSTNAME_1!&gt; Johan &lt;/!FIRSTNAME_1!&gt; ...</td>\n",
              "      <td>['مرحبا', 'Johan', 'Walker', '،', 'إشعار', 'ال...</td>\n",
              "      <td>['O', 'B-FIRSTNAME', 'B-LASTNAME', 'O', 'O', '...</td>\n",
              "      <td>مرحبا Johan Walker، إشعار الامتثال: تتطلب التغ...</td>\n",
              "    </tr>\n",
              "    <tr>\n",
              "      <th>1</th>\n",
              "      <td>نحن نقوم بمراجعة القضية التي رفعها &lt;!FIRSTNAME...</td>\n",
              "      <td>['نحن', 'نقوم', 'بمراجعة', 'القضية', 'التي', '...</td>\n",
              "      <td>['O', 'O', 'O', 'O', 'O', 'O', 'B-FIRSTNAME', ...</td>\n",
              "      <td>نحن نقوم بمراجعة القضية التي رفعها كادي شوبي ب...</td>\n",
              "    </tr>\n",
              "    <tr>\n",
              "      <th>2</th>\n",
              "      <td>بسبب اتفاقية السرية، لا يمكن للمريضة &lt;!SEX_1!&gt;...</td>\n",
              "      <td>['بسبب', 'اتفاقية', 'السرية', '،', 'لا', 'يمكن...</td>\n",
              "      <td>['O', 'O', 'O', 'O', 'O', 'O', 'O', 'B-SEX', '...</td>\n",
              "      <td>بسبب اتفاقية السرية، لا يمكن للمريضة أنثى الدر...</td>\n",
              "    </tr>\n",
              "    <tr>\n",
              "      <th>3</th>\n",
              "      <td>عزيزي ولي الأمر، يلزم الحصول على إذن في &lt;!DATE...</td>\n",
              "      <td>['عزيزي', 'ولي', 'الأمر', '،', 'يلزم', 'الحصول...</td>\n",
              "      <td>['O', 'O', 'O', 'O', 'O', 'O', 'O', 'O', 'O', ...</td>\n",
              "      <td>عزيزي ولي الأمر، يلزم الحصول على إذن في 2018-0...</td>\n",
              "    </tr>\n",
              "    <tr>\n",
              "      <th>4</th>\n",
              "      <td>تنظيم اجتماع حول &lt;!AGE_1!&gt; 7 سنوات &lt;/!AGE_1!&gt; ...</td>\n",
              "      <td>['تنظيم', 'اجتماع', 'حول', '7', 'سنوات', '(', ...</td>\n",
              "      <td>['O', 'O', 'O', 'B-AGE', 'I-AGE', 'O', 'B-GEND...</td>\n",
              "      <td>تنظيم اجتماع حول 7 سنوات (Genderqueer) وسلامة ...</td>\n",
              "    </tr>\n",
              "  </tbody>\n",
              "</table>\n",
              "</div>\n",
              "    <div class=\"colab-df-buttons\">\n",
              "\n",
              "  <div class=\"colab-df-container\">\n",
              "    <button class=\"colab-df-convert\" onclick=\"convertToInteractive('df-a2c3667f-33c2-4c02-851c-b8b8b4413702')\"\n",
              "            title=\"Convert this dataframe to an interactive table.\"\n",
              "            style=\"display:none;\">\n",
              "\n",
              "  <svg xmlns=\"http://www.w3.org/2000/svg\" height=\"24px\" viewBox=\"0 -960 960 960\">\n",
              "    <path d=\"M120-120v-720h720v720H120Zm60-500h600v-160H180v160Zm220 220h160v-160H400v160Zm0 220h160v-160H400v160ZM180-400h160v-160H180v160Zm440 0h160v-160H620v160ZM180-180h160v-160H180v160Zm440 0h160v-160H620v160Z\"/>\n",
              "  </svg>\n",
              "    </button>\n",
              "\n",
              "  <style>\n",
              "    .colab-df-container {\n",
              "      display:flex;\n",
              "      gap: 12px;\n",
              "    }\n",
              "\n",
              "    .colab-df-convert {\n",
              "      background-color: #E8F0FE;\n",
              "      border: none;\n",
              "      border-radius: 50%;\n",
              "      cursor: pointer;\n",
              "      display: none;\n",
              "      fill: #1967D2;\n",
              "      height: 32px;\n",
              "      padding: 0 0 0 0;\n",
              "      width: 32px;\n",
              "    }\n",
              "\n",
              "    .colab-df-convert:hover {\n",
              "      background-color: #E2EBFA;\n",
              "      box-shadow: 0px 1px 2px rgba(60, 64, 67, 0.3), 0px 1px 3px 1px rgba(60, 64, 67, 0.15);\n",
              "      fill: #174EA6;\n",
              "    }\n",
              "\n",
              "    .colab-df-buttons div {\n",
              "      margin-bottom: 4px;\n",
              "    }\n",
              "\n",
              "    [theme=dark] .colab-df-convert {\n",
              "      background-color: #3B4455;\n",
              "      fill: #D2E3FC;\n",
              "    }\n",
              "\n",
              "    [theme=dark] .colab-df-convert:hover {\n",
              "      background-color: #434B5C;\n",
              "      box-shadow: 0px 1px 3px 1px rgba(0, 0, 0, 0.15);\n",
              "      filter: drop-shadow(0px 1px 2px rgba(0, 0, 0, 0.3));\n",
              "      fill: #FFFFFF;\n",
              "    }\n",
              "  </style>\n",
              "\n",
              "    <script>\n",
              "      const buttonEl =\n",
              "        document.querySelector('#df-a2c3667f-33c2-4c02-851c-b8b8b4413702 button.colab-df-convert');\n",
              "      buttonEl.style.display =\n",
              "        google.colab.kernel.accessAllowed ? 'block' : 'none';\n",
              "\n",
              "      async function convertToInteractive(key) {\n",
              "        const element = document.querySelector('#df-a2c3667f-33c2-4c02-851c-b8b8b4413702');\n",
              "        const dataTable =\n",
              "          await google.colab.kernel.invokeFunction('convertToInteractive',\n",
              "                                                    [key], {});\n",
              "        if (!dataTable) return;\n",
              "\n",
              "        const docLinkHtml = 'Like what you see? Visit the ' +\n",
              "          '<a target=\"_blank\" href=https://colab.research.google.com/notebooks/data_table.ipynb>data table notebook</a>'\n",
              "          + ' to learn more about interactive tables.';\n",
              "        element.innerHTML = '';\n",
              "        dataTable['output_type'] = 'display_data';\n",
              "        await google.colab.output.renderOutput(dataTable, element);\n",
              "        const docLink = document.createElement('div');\n",
              "        docLink.innerHTML = docLinkHtml;\n",
              "        element.appendChild(docLink);\n",
              "      }\n",
              "    </script>\n",
              "  </div>\n",
              "\n",
              "\n",
              "    <div id=\"df-0eabcf0b-3d02-4016-96e4-30ab6ea8b800\">\n",
              "      <button class=\"colab-df-quickchart\" onclick=\"quickchart('df-0eabcf0b-3d02-4016-96e4-30ab6ea8b800')\"\n",
              "                title=\"Suggest charts\"\n",
              "                style=\"display:none;\">\n",
              "\n",
              "<svg xmlns=\"http://www.w3.org/2000/svg\" height=\"24px\"viewBox=\"0 0 24 24\"\n",
              "     width=\"24px\">\n",
              "    <g>\n",
              "        <path d=\"M19 3H5c-1.1 0-2 .9-2 2v14c0 1.1.9 2 2 2h14c1.1 0 2-.9 2-2V5c0-1.1-.9-2-2-2zM9 17H7v-7h2v7zm4 0h-2V7h2v10zm4 0h-2v-4h2v4z\"/>\n",
              "    </g>\n",
              "</svg>\n",
              "      </button>\n",
              "\n",
              "<style>\n",
              "  .colab-df-quickchart {\n",
              "      --bg-color: #E8F0FE;\n",
              "      --fill-color: #1967D2;\n",
              "      --hover-bg-color: #E2EBFA;\n",
              "      --hover-fill-color: #174EA6;\n",
              "      --disabled-fill-color: #AAA;\n",
              "      --disabled-bg-color: #DDD;\n",
              "  }\n",
              "\n",
              "  [theme=dark] .colab-df-quickchart {\n",
              "      --bg-color: #3B4455;\n",
              "      --fill-color: #D2E3FC;\n",
              "      --hover-bg-color: #434B5C;\n",
              "      --hover-fill-color: #FFFFFF;\n",
              "      --disabled-bg-color: #3B4455;\n",
              "      --disabled-fill-color: #666;\n",
              "  }\n",
              "\n",
              "  .colab-df-quickchart {\n",
              "    background-color: var(--bg-color);\n",
              "    border: none;\n",
              "    border-radius: 50%;\n",
              "    cursor: pointer;\n",
              "    display: none;\n",
              "    fill: var(--fill-color);\n",
              "    height: 32px;\n",
              "    padding: 0;\n",
              "    width: 32px;\n",
              "  }\n",
              "\n",
              "  .colab-df-quickchart:hover {\n",
              "    background-color: var(--hover-bg-color);\n",
              "    box-shadow: 0 1px 2px rgba(60, 64, 67, 0.3), 0 1px 3px 1px rgba(60, 64, 67, 0.15);\n",
              "    fill: var(--button-hover-fill-color);\n",
              "  }\n",
              "\n",
              "  .colab-df-quickchart-complete:disabled,\n",
              "  .colab-df-quickchart-complete:disabled:hover {\n",
              "    background-color: var(--disabled-bg-color);\n",
              "    fill: var(--disabled-fill-color);\n",
              "    box-shadow: none;\n",
              "  }\n",
              "\n",
              "  .colab-df-spinner {\n",
              "    border: 2px solid var(--fill-color);\n",
              "    border-color: transparent;\n",
              "    border-bottom-color: var(--fill-color);\n",
              "    animation:\n",
              "      spin 1s steps(1) infinite;\n",
              "  }\n",
              "\n",
              "  @keyframes spin {\n",
              "    0% {\n",
              "      border-color: transparent;\n",
              "      border-bottom-color: var(--fill-color);\n",
              "      border-left-color: var(--fill-color);\n",
              "    }\n",
              "    20% {\n",
              "      border-color: transparent;\n",
              "      border-left-color: var(--fill-color);\n",
              "      border-top-color: var(--fill-color);\n",
              "    }\n",
              "    30% {\n",
              "      border-color: transparent;\n",
              "      border-left-color: var(--fill-color);\n",
              "      border-top-color: var(--fill-color);\n",
              "      border-right-color: var(--fill-color);\n",
              "    }\n",
              "    40% {\n",
              "      border-color: transparent;\n",
              "      border-right-color: var(--fill-color);\n",
              "      border-top-color: var(--fill-color);\n",
              "    }\n",
              "    60% {\n",
              "      border-color: transparent;\n",
              "      border-right-color: var(--fill-color);\n",
              "    }\n",
              "    80% {\n",
              "      border-color: transparent;\n",
              "      border-right-color: var(--fill-color);\n",
              "      border-bottom-color: var(--fill-color);\n",
              "    }\n",
              "    90% {\n",
              "      border-color: transparent;\n",
              "      border-bottom-color: var(--fill-color);\n",
              "    }\n",
              "  }\n",
              "</style>\n",
              "\n",
              "      <script>\n",
              "        async function quickchart(key) {\n",
              "          const quickchartButtonEl =\n",
              "            document.querySelector('#' + key + ' button');\n",
              "          quickchartButtonEl.disabled = true;  // To prevent multiple clicks.\n",
              "          quickchartButtonEl.classList.add('colab-df-spinner');\n",
              "          try {\n",
              "            const charts = await google.colab.kernel.invokeFunction(\n",
              "                'suggestCharts', [key], {});\n",
              "          } catch (error) {\n",
              "            console.error('Error during call to suggestCharts:', error);\n",
              "          }\n",
              "          quickchartButtonEl.classList.remove('colab-df-spinner');\n",
              "          quickchartButtonEl.classList.add('colab-df-quickchart-complete');\n",
              "        }\n",
              "        (() => {\n",
              "          let quickchartButtonEl =\n",
              "            document.querySelector('#df-0eabcf0b-3d02-4016-96e4-30ab6ea8b800 button');\n",
              "          quickchartButtonEl.style.display =\n",
              "            google.colab.kernel.accessAllowed ? 'block' : 'none';\n",
              "        })();\n",
              "      </script>\n",
              "    </div>\n",
              "\n",
              "    </div>\n",
              "  </div>\n"
            ],
            "application/vnd.google.colaboratory.intrinsic+json": {
              "type": "dataframe",
              "variable_name": "train"
            }
          },
          "metadata": {},
          "execution_count": 7
        }
      ]
    },
    {
      "cell_type": "code",
      "source": [
        "idx = random.randint(0, len(train))\n",
        "idx"
      ],
      "metadata": {
        "colab": {
          "base_uri": "https://localhost:8080/"
        },
        "id": "cP_-UOWLdGiY",
        "outputId": "9630e4b5-b0f2-45fc-8dfc-1ee9bdb1a35a"
      },
      "execution_count": 8,
      "outputs": [
        {
          "output_type": "execute_result",
          "data": {
            "text/plain": [
              "2383"
            ]
          },
          "metadata": {},
          "execution_count": 8
        }
      ]
    },
    {
      "cell_type": "code",
      "source": [
        "print(train.tokens[idx])\n",
        "print(train.tags[idx])\n",
        "print(len(train.tokens[idx]))\n",
        "print(len(train.tags[idx]))"
      ],
      "metadata": {
        "colab": {
          "base_uri": "https://localhost:8080/"
        },
        "id": "cOTox6jAdT_z",
        "outputId": "25ef22c2-f7d2-4ba5-f0d5-ee57f00c7cfd"
      },
      "execution_count": 9,
      "outputs": [
        {
          "output_type": "stream",
          "name": "stdout",
          "text": [
            "['تشير', 'أبحاث', 'جديدة', 'إلى', 'أن', 'الأشخاص', 'الذين', 'يعيشون', 'في', 'Grange', 'Road', 'أقل', 'عرضة', 'للإصابة', 'ببعض', 'الأمراض', 'المعدية', '.', 'عنوان', 'IP', 'الخاص', 'بك', 'd48d', ':', '3ce3', ':', '26ac', ':', 'aa6f', ':', '09ee', ':', '3cfc', ':', '10fd', ':', 'ae4c', 'متضمن', 'في', 'المنطقة', 'الآمنة', '.']\n",
            "['O', 'O', 'O', 'O', 'O', 'O', 'O', 'O', 'O', 'B-STREET', 'I-STREET', 'O', 'O', 'O', 'O', 'O', 'O', 'O', 'O', 'O', 'O', 'O', 'B-IP', 'I-IP', 'I-IP', 'I-IP', 'I-IP', 'I-IP', 'I-IP', 'I-IP', 'I-IP', 'I-IP', 'I-IP', 'I-IP', 'I-IP', 'I-IP', 'I-IP', 'O', 'O', 'O', 'O', 'O']\n",
            "324\n",
            "269\n"
          ]
        }
      ]
    },
    {
      "cell_type": "code",
      "source": [
        "import re\n",
        "import ast"
      ],
      "metadata": {
        "id": "dN-wNjnGimQX"
      },
      "execution_count": 10,
      "outputs": []
    },
    {
      "cell_type": "code",
      "source": [
        "tokens_list = ast.literal_eval(train.tokens[idx])\n",
        "print(tokens_list)\n",
        "print(type(tokens_list), len(tokens_list))\n",
        "\n",
        "tags_list = ast.literal_eval(train.tags[idx])\n",
        "print(tags_list)\n",
        "print(type(tags_list), len(tags_list))"
      ],
      "metadata": {
        "colab": {
          "base_uri": "https://localhost:8080/"
        },
        "id": "3bLD3jmHe0NH",
        "outputId": "bc5212b2-f8e5-4284-e482-4235caccabe6"
      },
      "execution_count": 11,
      "outputs": [
        {
          "output_type": "stream",
          "name": "stdout",
          "text": [
            "['تشير', 'أبحاث', 'جديدة', 'إلى', 'أن', 'الأشخاص', 'الذين', 'يعيشون', 'في', 'Grange', 'Road', 'أقل', 'عرضة', 'للإصابة', 'ببعض', 'الأمراض', 'المعدية', '.', 'عنوان', 'IP', 'الخاص', 'بك', 'd48d', ':', '3ce3', ':', '26ac', ':', 'aa6f', ':', '09ee', ':', '3cfc', ':', '10fd', ':', 'ae4c', 'متضمن', 'في', 'المنطقة', 'الآمنة', '.']\n",
            "<class 'list'> 42\n",
            "['O', 'O', 'O', 'O', 'O', 'O', 'O', 'O', 'O', 'B-STREET', 'I-STREET', 'O', 'O', 'O', 'O', 'O', 'O', 'O', 'O', 'O', 'O', 'O', 'B-IP', 'I-IP', 'I-IP', 'I-IP', 'I-IP', 'I-IP', 'I-IP', 'I-IP', 'I-IP', 'I-IP', 'I-IP', 'I-IP', 'I-IP', 'I-IP', 'I-IP', 'O', 'O', 'O', 'O', 'O']\n",
            "<class 'list'> 42\n"
          ]
        }
      ]
    },
    {
      "cell_type": "code",
      "source": [
        "# Convert tokens and tags columns to lists\n",
        "\n",
        "train['tokens'] = train[\"tokens\"].apply(ast.literal_eval)\n",
        "train['tags'] = train['tags'].apply(ast.literal_eval)"
      ],
      "metadata": {
        "id": "4JHYoNc5eyeQ"
      },
      "execution_count": 12,
      "outputs": []
    },
    {
      "cell_type": "code",
      "source": [
        "train.head()"
      ],
      "metadata": {
        "id": "Fsn26ncVimAc",
        "colab": {
          "base_uri": "https://localhost:8080/",
          "height": 380
        },
        "outputId": "9b4fe29d-31e7-4233-f091-6cf55d7dec87"
      },
      "execution_count": 13,
      "outputs": [
        {
          "output_type": "execute_result",
          "data": {
            "text/plain": [
              "                                              source  \\\n",
              "0  مرحبًا <!FIRSTNAME_1!> Johan </!FIRSTNAME_1!> ...   \n",
              "1  نحن نقوم بمراجعة القضية التي رفعها <!FIRSTNAME...   \n",
              "2  بسبب اتفاقية السرية، لا يمكن للمريضة <!SEX_1!>...   \n",
              "3  عزيزي ولي الأمر، يلزم الحصول على إذن في <!DATE...   \n",
              "4  تنظيم اجتماع حول <!AGE_1!> 7 سنوات </!AGE_1!> ...   \n",
              "\n",
              "                                              tokens  \\\n",
              "0  [مرحبا, Johan, Walker, ،, إشعار, الامتثال, :, ...   \n",
              "1  [نحن, نقوم, بمراجعة, القضية, التي, رفعها, كادي...   \n",
              "2  [بسبب, اتفاقية, السرية, ،, لا, يمكن, للمريضة, ...   \n",
              "3  [عزيزي, ولي, الأمر, ،, يلزم, الحصول, على, إذن,...   \n",
              "4  [تنظيم, اجتماع, حول, 7, سنوات, (, Genderqueer,...   \n",
              "\n",
              "                                                tags  \\\n",
              "0  [O, B-FIRSTNAME, B-LASTNAME, O, O, O, O, O, O,...   \n",
              "1  [O, O, O, O, O, O, B-FIRSTNAME, B-LASTNAME, O,...   \n",
              "2  [O, O, O, O, O, O, O, B-SEX, O, O, O, B-PREFIX...   \n",
              "3  [O, O, O, O, O, O, O, O, O, B-DATE, I-DATE, I-...   \n",
              "4  [O, O, O, B-AGE, I-AGE, O, B-GENDER, O, O, O, ...   \n",
              "\n",
              "                                        clean_source  \n",
              "0  مرحبا Johan Walker، إشعار الامتثال: تتطلب التغ...  \n",
              "1  نحن نقوم بمراجعة القضية التي رفعها كادي شوبي ب...  \n",
              "2  بسبب اتفاقية السرية، لا يمكن للمريضة أنثى الدر...  \n",
              "3  عزيزي ولي الأمر، يلزم الحصول على إذن في 2018-0...  \n",
              "4  تنظيم اجتماع حول 7 سنوات (Genderqueer) وسلامة ...  "
            ],
            "text/html": [
              "\n",
              "  <div id=\"df-5d334d2d-7442-45bd-9989-3bdac5c478ba\" class=\"colab-df-container\">\n",
              "    <div>\n",
              "<style scoped>\n",
              "    .dataframe tbody tr th:only-of-type {\n",
              "        vertical-align: middle;\n",
              "    }\n",
              "\n",
              "    .dataframe tbody tr th {\n",
              "        vertical-align: top;\n",
              "    }\n",
              "\n",
              "    .dataframe thead th {\n",
              "        text-align: right;\n",
              "    }\n",
              "</style>\n",
              "<table border=\"1\" class=\"dataframe\">\n",
              "  <thead>\n",
              "    <tr style=\"text-align: right;\">\n",
              "      <th></th>\n",
              "      <th>source</th>\n",
              "      <th>tokens</th>\n",
              "      <th>tags</th>\n",
              "      <th>clean_source</th>\n",
              "    </tr>\n",
              "  </thead>\n",
              "  <tbody>\n",
              "    <tr>\n",
              "      <th>0</th>\n",
              "      <td>مرحبًا &lt;!FIRSTNAME_1!&gt; Johan &lt;/!FIRSTNAME_1!&gt; ...</td>\n",
              "      <td>[مرحبا, Johan, Walker, ،, إشعار, الامتثال, :, ...</td>\n",
              "      <td>[O, B-FIRSTNAME, B-LASTNAME, O, O, O, O, O, O,...</td>\n",
              "      <td>مرحبا Johan Walker، إشعار الامتثال: تتطلب التغ...</td>\n",
              "    </tr>\n",
              "    <tr>\n",
              "      <th>1</th>\n",
              "      <td>نحن نقوم بمراجعة القضية التي رفعها &lt;!FIRSTNAME...</td>\n",
              "      <td>[نحن, نقوم, بمراجعة, القضية, التي, رفعها, كادي...</td>\n",
              "      <td>[O, O, O, O, O, O, B-FIRSTNAME, B-LASTNAME, O,...</td>\n",
              "      <td>نحن نقوم بمراجعة القضية التي رفعها كادي شوبي ب...</td>\n",
              "    </tr>\n",
              "    <tr>\n",
              "      <th>2</th>\n",
              "      <td>بسبب اتفاقية السرية، لا يمكن للمريضة &lt;!SEX_1!&gt;...</td>\n",
              "      <td>[بسبب, اتفاقية, السرية, ،, لا, يمكن, للمريضة, ...</td>\n",
              "      <td>[O, O, O, O, O, O, O, B-SEX, O, O, O, B-PREFIX...</td>\n",
              "      <td>بسبب اتفاقية السرية، لا يمكن للمريضة أنثى الدر...</td>\n",
              "    </tr>\n",
              "    <tr>\n",
              "      <th>3</th>\n",
              "      <td>عزيزي ولي الأمر، يلزم الحصول على إذن في &lt;!DATE...</td>\n",
              "      <td>[عزيزي, ولي, الأمر, ،, يلزم, الحصول, على, إذن,...</td>\n",
              "      <td>[O, O, O, O, O, O, O, O, O, B-DATE, I-DATE, I-...</td>\n",
              "      <td>عزيزي ولي الأمر، يلزم الحصول على إذن في 2018-0...</td>\n",
              "    </tr>\n",
              "    <tr>\n",
              "      <th>4</th>\n",
              "      <td>تنظيم اجتماع حول &lt;!AGE_1!&gt; 7 سنوات &lt;/!AGE_1!&gt; ...</td>\n",
              "      <td>[تنظيم, اجتماع, حول, 7, سنوات, (, Genderqueer,...</td>\n",
              "      <td>[O, O, O, B-AGE, I-AGE, O, B-GENDER, O, O, O, ...</td>\n",
              "      <td>تنظيم اجتماع حول 7 سنوات (Genderqueer) وسلامة ...</td>\n",
              "    </tr>\n",
              "  </tbody>\n",
              "</table>\n",
              "</div>\n",
              "    <div class=\"colab-df-buttons\">\n",
              "\n",
              "  <div class=\"colab-df-container\">\n",
              "    <button class=\"colab-df-convert\" onclick=\"convertToInteractive('df-5d334d2d-7442-45bd-9989-3bdac5c478ba')\"\n",
              "            title=\"Convert this dataframe to an interactive table.\"\n",
              "            style=\"display:none;\">\n",
              "\n",
              "  <svg xmlns=\"http://www.w3.org/2000/svg\" height=\"24px\" viewBox=\"0 -960 960 960\">\n",
              "    <path d=\"M120-120v-720h720v720H120Zm60-500h600v-160H180v160Zm220 220h160v-160H400v160Zm0 220h160v-160H400v160ZM180-400h160v-160H180v160Zm440 0h160v-160H620v160ZM180-180h160v-160H180v160Zm440 0h160v-160H620v160Z\"/>\n",
              "  </svg>\n",
              "    </button>\n",
              "\n",
              "  <style>\n",
              "    .colab-df-container {\n",
              "      display:flex;\n",
              "      gap: 12px;\n",
              "    }\n",
              "\n",
              "    .colab-df-convert {\n",
              "      background-color: #E8F0FE;\n",
              "      border: none;\n",
              "      border-radius: 50%;\n",
              "      cursor: pointer;\n",
              "      display: none;\n",
              "      fill: #1967D2;\n",
              "      height: 32px;\n",
              "      padding: 0 0 0 0;\n",
              "      width: 32px;\n",
              "    }\n",
              "\n",
              "    .colab-df-convert:hover {\n",
              "      background-color: #E2EBFA;\n",
              "      box-shadow: 0px 1px 2px rgba(60, 64, 67, 0.3), 0px 1px 3px 1px rgba(60, 64, 67, 0.15);\n",
              "      fill: #174EA6;\n",
              "    }\n",
              "\n",
              "    .colab-df-buttons div {\n",
              "      margin-bottom: 4px;\n",
              "    }\n",
              "\n",
              "    [theme=dark] .colab-df-convert {\n",
              "      background-color: #3B4455;\n",
              "      fill: #D2E3FC;\n",
              "    }\n",
              "\n",
              "    [theme=dark] .colab-df-convert:hover {\n",
              "      background-color: #434B5C;\n",
              "      box-shadow: 0px 1px 3px 1px rgba(0, 0, 0, 0.15);\n",
              "      filter: drop-shadow(0px 1px 2px rgba(0, 0, 0, 0.3));\n",
              "      fill: #FFFFFF;\n",
              "    }\n",
              "  </style>\n",
              "\n",
              "    <script>\n",
              "      const buttonEl =\n",
              "        document.querySelector('#df-5d334d2d-7442-45bd-9989-3bdac5c478ba button.colab-df-convert');\n",
              "      buttonEl.style.display =\n",
              "        google.colab.kernel.accessAllowed ? 'block' : 'none';\n",
              "\n",
              "      async function convertToInteractive(key) {\n",
              "        const element = document.querySelector('#df-5d334d2d-7442-45bd-9989-3bdac5c478ba');\n",
              "        const dataTable =\n",
              "          await google.colab.kernel.invokeFunction('convertToInteractive',\n",
              "                                                    [key], {});\n",
              "        if (!dataTable) return;\n",
              "\n",
              "        const docLinkHtml = 'Like what you see? Visit the ' +\n",
              "          '<a target=\"_blank\" href=https://colab.research.google.com/notebooks/data_table.ipynb>data table notebook</a>'\n",
              "          + ' to learn more about interactive tables.';\n",
              "        element.innerHTML = '';\n",
              "        dataTable['output_type'] = 'display_data';\n",
              "        await google.colab.output.renderOutput(dataTable, element);\n",
              "        const docLink = document.createElement('div');\n",
              "        docLink.innerHTML = docLinkHtml;\n",
              "        element.appendChild(docLink);\n",
              "      }\n",
              "    </script>\n",
              "  </div>\n",
              "\n",
              "\n",
              "    <div id=\"df-828e9186-1ec5-4004-92f1-e5bf36a1f62b\">\n",
              "      <button class=\"colab-df-quickchart\" onclick=\"quickchart('df-828e9186-1ec5-4004-92f1-e5bf36a1f62b')\"\n",
              "                title=\"Suggest charts\"\n",
              "                style=\"display:none;\">\n",
              "\n",
              "<svg xmlns=\"http://www.w3.org/2000/svg\" height=\"24px\"viewBox=\"0 0 24 24\"\n",
              "     width=\"24px\">\n",
              "    <g>\n",
              "        <path d=\"M19 3H5c-1.1 0-2 .9-2 2v14c0 1.1.9 2 2 2h14c1.1 0 2-.9 2-2V5c0-1.1-.9-2-2-2zM9 17H7v-7h2v7zm4 0h-2V7h2v10zm4 0h-2v-4h2v4z\"/>\n",
              "    </g>\n",
              "</svg>\n",
              "      </button>\n",
              "\n",
              "<style>\n",
              "  .colab-df-quickchart {\n",
              "      --bg-color: #E8F0FE;\n",
              "      --fill-color: #1967D2;\n",
              "      --hover-bg-color: #E2EBFA;\n",
              "      --hover-fill-color: #174EA6;\n",
              "      --disabled-fill-color: #AAA;\n",
              "      --disabled-bg-color: #DDD;\n",
              "  }\n",
              "\n",
              "  [theme=dark] .colab-df-quickchart {\n",
              "      --bg-color: #3B4455;\n",
              "      --fill-color: #D2E3FC;\n",
              "      --hover-bg-color: #434B5C;\n",
              "      --hover-fill-color: #FFFFFF;\n",
              "      --disabled-bg-color: #3B4455;\n",
              "      --disabled-fill-color: #666;\n",
              "  }\n",
              "\n",
              "  .colab-df-quickchart {\n",
              "    background-color: var(--bg-color);\n",
              "    border: none;\n",
              "    border-radius: 50%;\n",
              "    cursor: pointer;\n",
              "    display: none;\n",
              "    fill: var(--fill-color);\n",
              "    height: 32px;\n",
              "    padding: 0;\n",
              "    width: 32px;\n",
              "  }\n",
              "\n",
              "  .colab-df-quickchart:hover {\n",
              "    background-color: var(--hover-bg-color);\n",
              "    box-shadow: 0 1px 2px rgba(60, 64, 67, 0.3), 0 1px 3px 1px rgba(60, 64, 67, 0.15);\n",
              "    fill: var(--button-hover-fill-color);\n",
              "  }\n",
              "\n",
              "  .colab-df-quickchart-complete:disabled,\n",
              "  .colab-df-quickchart-complete:disabled:hover {\n",
              "    background-color: var(--disabled-bg-color);\n",
              "    fill: var(--disabled-fill-color);\n",
              "    box-shadow: none;\n",
              "  }\n",
              "\n",
              "  .colab-df-spinner {\n",
              "    border: 2px solid var(--fill-color);\n",
              "    border-color: transparent;\n",
              "    border-bottom-color: var(--fill-color);\n",
              "    animation:\n",
              "      spin 1s steps(1) infinite;\n",
              "  }\n",
              "\n",
              "  @keyframes spin {\n",
              "    0% {\n",
              "      border-color: transparent;\n",
              "      border-bottom-color: var(--fill-color);\n",
              "      border-left-color: var(--fill-color);\n",
              "    }\n",
              "    20% {\n",
              "      border-color: transparent;\n",
              "      border-left-color: var(--fill-color);\n",
              "      border-top-color: var(--fill-color);\n",
              "    }\n",
              "    30% {\n",
              "      border-color: transparent;\n",
              "      border-left-color: var(--fill-color);\n",
              "      border-top-color: var(--fill-color);\n",
              "      border-right-color: var(--fill-color);\n",
              "    }\n",
              "    40% {\n",
              "      border-color: transparent;\n",
              "      border-right-color: var(--fill-color);\n",
              "      border-top-color: var(--fill-color);\n",
              "    }\n",
              "    60% {\n",
              "      border-color: transparent;\n",
              "      border-right-color: var(--fill-color);\n",
              "    }\n",
              "    80% {\n",
              "      border-color: transparent;\n",
              "      border-right-color: var(--fill-color);\n",
              "      border-bottom-color: var(--fill-color);\n",
              "    }\n",
              "    90% {\n",
              "      border-color: transparent;\n",
              "      border-bottom-color: var(--fill-color);\n",
              "    }\n",
              "  }\n",
              "</style>\n",
              "\n",
              "      <script>\n",
              "        async function quickchart(key) {\n",
              "          const quickchartButtonEl =\n",
              "            document.querySelector('#' + key + ' button');\n",
              "          quickchartButtonEl.disabled = true;  // To prevent multiple clicks.\n",
              "          quickchartButtonEl.classList.add('colab-df-spinner');\n",
              "          try {\n",
              "            const charts = await google.colab.kernel.invokeFunction(\n",
              "                'suggestCharts', [key], {});\n",
              "          } catch (error) {\n",
              "            console.error('Error during call to suggestCharts:', error);\n",
              "          }\n",
              "          quickchartButtonEl.classList.remove('colab-df-spinner');\n",
              "          quickchartButtonEl.classList.add('colab-df-quickchart-complete');\n",
              "        }\n",
              "        (() => {\n",
              "          let quickchartButtonEl =\n",
              "            document.querySelector('#df-828e9186-1ec5-4004-92f1-e5bf36a1f62b button');\n",
              "          quickchartButtonEl.style.display =\n",
              "            google.colab.kernel.accessAllowed ? 'block' : 'none';\n",
              "        })();\n",
              "      </script>\n",
              "    </div>\n",
              "\n",
              "    </div>\n",
              "  </div>\n"
            ],
            "application/vnd.google.colaboratory.intrinsic+json": {
              "type": "dataframe",
              "variable_name": "train"
            }
          },
          "metadata": {},
          "execution_count": 13
        }
      ]
    },
    {
      "cell_type": "code",
      "source": [
        "length_comparison_result = train.apply(lambda row: len(train.tokens) == len(train.tags), axis=1)\n",
        "print(f\"\\nNumber of rows with mismatching lengths: {sum(~length_comparison_result)}\")"
      ],
      "metadata": {
        "collapsed": true,
        "id": "m4vw380mj6wb",
        "colab": {
          "base_uri": "https://localhost:8080/"
        },
        "outputId": "b1f14921-3a71-4021-f7d3-bff13a13f4c6"
      },
      "execution_count": 14,
      "outputs": [
        {
          "output_type": "stream",
          "name": "stdout",
          "text": [
            "\n",
            "Number of rows with mismatching lengths: 0\n"
          ]
        }
      ]
    },
    {
      "cell_type": "code",
      "source": [
        "tags_to_mask =  [\n",
        "'EMAIL',\n",
        "'IBAN',\n",
        "'PERSONNAME',\n",
        "'IPV6',\n",
        "'MASKEDNUMBER',\n",
        "'CREDITCARDNUMBER',\n",
        "'LITECOINADDRESS',\n",
        "'BIC',\n",
        "'PHONENUMBER',\n",
        "'ORDINALDIRECTION',\n",
        "'VEHICLEVRM',\n",
        "'CREDITCARDINUMBER',\n",
        "'USERNAME',\n",
        "'IPV4',\n",
        "'PASSWORD',\n",
        "'MAC',\n",
        "'BITCOINADDRESS',\n",
        "'SECONDARYADDRESS',\n",
        "'CREDITCARDCVV',\n",
        "'PHONEIMEI',\n",
        "'ACCOUNTNAME',\n",
        "'BUILDINGNUMBER',\n",
        "'VEHICLEVIN',\n",
        "'STREET',\n",
        "'URL',\n",
        "'IP',\n",
        "'ZIPCODE',\n",
        "'ACCOUNTNUMBER',\n",
        "'FIRSTNAME',\n",
        "'LASTNAME',\n",
        "'MIDDLENAME',\n",
        "'NEARBYGPSCOORDINATE',\n",
        "'ETHEREUMADDRESS',\n",
        "'PIN',\n",
        "'SSN',\n",
        "'COMPANYNAME',\n",
        "'HEIGHT',\n",
        "'CITY']"
      ],
      "metadata": {
        "id": "0QIMlSiacrFi"
      },
      "execution_count": 15,
      "outputs": []
    },
    {
      "source": [
        "def masker(row, tags_to_mask):\n",
        "    \"\"\"\n",
        "    Constructs a masked sentence by iterating through tokens and replacing PII based on tags, attempting to preserve original formatting.\n",
        "\n",
        "    Args:\n",
        "    row: A pandas DataFrame row with 'tokens', 'tags', and 'clean_source' columns.\n",
        "    tags_to_mask: List of tag entity types to mask.\n",
        "\n",
        "    Returns:\n",
        "    The constructed sentence with masked tokens for the given row, attempting to preserve spacing.\n",
        "    \"\"\"\n",
        "    tokens = row['tokens']\n",
        "    tags = row['tags']\n",
        "    clean_source = row['clean_source']\n",
        "    masked_sentence = \"\"\n",
        "    current_position = 0\n",
        "\n",
        "    for i in range(len(tokens)):\n",
        "        token = tokens[i]\n",
        "        tag = tags[i]\n",
        "\n",
        "        # Find the position of the current token in the original string starting from the last processed position\n",
        "        start_index = clean_source.find(token, current_position)\n",
        "\n",
        "        if start_index != -1:\n",
        "            # Append the text from the current position up to the start of the token\n",
        "            masked_sentence += clean_source[current_position:start_index]\n",
        "\n",
        "            if tag[2:] in tags_to_mask:\n",
        "                masked_sentence += '[MASK]'\n",
        "            else:\n",
        "                masked_sentence += token\n",
        "\n",
        "            # Update the current position to the end of the current token\n",
        "            current_position = start_index + len(token)\n",
        "        else:\n",
        "            # If token not found at or after current_position, it indicates a discrepancy\n",
        "            print(f\"Warning: Token '{token}' not found in clean_source at or after position {current_position}\")\n",
        "\n",
        "    # Append any remaining text after the last token\n",
        "    masked_sentence += clean_source[current_position:]\n",
        "\n",
        "    return masked_sentence"
      ],
      "cell_type": "code",
      "metadata": {
        "id": "uKH8rQGHlwlL"
      },
      "execution_count": 16,
      "outputs": []
    },
    {
      "cell_type": "code",
      "source": [
        "# Creating a new masked sentence\n",
        "\n",
        "train['masked_source'] = train.apply(lambda row: masker(row, tags_to_mask), axis=1)"
      ],
      "metadata": {
        "id": "bVS8iy2MlyXF"
      },
      "execution_count": 17,
      "outputs": []
    },
    {
      "cell_type": "code",
      "source": [
        "train[['clean_source','masked_source']]"
      ],
      "metadata": {
        "colab": {
          "base_uri": "https://localhost:8080/",
          "height": 424
        },
        "id": "r3XJgWW-l4d4",
        "outputId": "8653da72-eeda-4109-b338-2b751174fb68"
      },
      "execution_count": 18,
      "outputs": [
        {
          "output_type": "execute_result",
          "data": {
            "text/plain": [
              "                                             clean_source  \\\n",
              "0       مرحبا Johan Walker، إشعار الامتثال: تتطلب التغ...   \n",
              "1       نحن نقوم بمراجعة القضية التي رفعها كادي شوبي ب...   \n",
              "2       بسبب اتفاقية السرية، لا يمكن للمريضة أنثى الدر...   \n",
              "3       عزيزي ولي الأمر، يلزم الحصول على إذن في 2018-0...   \n",
              "4       تنظيم اجتماع حول 7 سنوات (Genderqueer) وسلامة ...   \n",
              "...                                                   ...   \n",
              "209256  عزيزتي الأنثى، حدث التعليم الفني في الشقة. تم ...   \n",
              "209257  هل يمكننا ترتيب موعد مع والدي نيكو؟ لقد طلبت إ...   \n",
              "209258  يرجى تأكيد استلام الزي الجديد عن طريق البريد ا...   \n",
              "209259  أظهر الشخص ذو العيون ذات اللون البني وطوله 3' ...   \n",
              "209260  قم بزيارتنا على https://striking-harmonise.com...   \n",
              "\n",
              "                                            masked_source  \n",
              "0       مرحبا [MASK] [MASK]، إشعار الامتثال: تتطلب الت...  \n",
              "1       نحن نقوم بمراجعة القضية التي رفعها [MASK] [MAS...  \n",
              "2       بسبب اتفاقية السرية، لا يمكن للمريضة أنثى الدر...  \n",
              "3       عزيزي ولي الأمر، يلزم الحصول على إذن في 2018-0...  \n",
              "4       تنظيم اجتماع حول 7 سنوات (Genderqueer) وسلامة ...  \n",
              "...                                                   ...  \n",
              "209256  عزيزتي الأنثى، حدث التعليم الفني في [MASK][MAS...  \n",
              "209257  هل يمكننا ترتيب موعد مع والدي [MASK]؟ لقد طلبت...  \n",
              "209258  يرجى تأكيد استلام الزي الجديد عن طريق البريد ا...  \n",
              "209259  أظهر الشخص ذو العيون ذات اللون البني وطوله [MA...  \n",
              "209260  قم بزيارتنا على [MASK][MASK][MASK][MASK][MASK]...  \n",
              "\n",
              "[209261 rows x 2 columns]"
            ],
            "text/html": [
              "\n",
              "  <div id=\"df-204ce3c2-e238-4c8e-8046-6e1d6b2baedd\" class=\"colab-df-container\">\n",
              "    <div>\n",
              "<style scoped>\n",
              "    .dataframe tbody tr th:only-of-type {\n",
              "        vertical-align: middle;\n",
              "    }\n",
              "\n",
              "    .dataframe tbody tr th {\n",
              "        vertical-align: top;\n",
              "    }\n",
              "\n",
              "    .dataframe thead th {\n",
              "        text-align: right;\n",
              "    }\n",
              "</style>\n",
              "<table border=\"1\" class=\"dataframe\">\n",
              "  <thead>\n",
              "    <tr style=\"text-align: right;\">\n",
              "      <th></th>\n",
              "      <th>clean_source</th>\n",
              "      <th>masked_source</th>\n",
              "    </tr>\n",
              "  </thead>\n",
              "  <tbody>\n",
              "    <tr>\n",
              "      <th>0</th>\n",
              "      <td>مرحبا Johan Walker، إشعار الامتثال: تتطلب التغ...</td>\n",
              "      <td>مرحبا [MASK] [MASK]، إشعار الامتثال: تتطلب الت...</td>\n",
              "    </tr>\n",
              "    <tr>\n",
              "      <th>1</th>\n",
              "      <td>نحن نقوم بمراجعة القضية التي رفعها كادي شوبي ب...</td>\n",
              "      <td>نحن نقوم بمراجعة القضية التي رفعها [MASK] [MAS...</td>\n",
              "    </tr>\n",
              "    <tr>\n",
              "      <th>2</th>\n",
              "      <td>بسبب اتفاقية السرية، لا يمكن للمريضة أنثى الدر...</td>\n",
              "      <td>بسبب اتفاقية السرية، لا يمكن للمريضة أنثى الدر...</td>\n",
              "    </tr>\n",
              "    <tr>\n",
              "      <th>3</th>\n",
              "      <td>عزيزي ولي الأمر، يلزم الحصول على إذن في 2018-0...</td>\n",
              "      <td>عزيزي ولي الأمر، يلزم الحصول على إذن في 2018-0...</td>\n",
              "    </tr>\n",
              "    <tr>\n",
              "      <th>4</th>\n",
              "      <td>تنظيم اجتماع حول 7 سنوات (Genderqueer) وسلامة ...</td>\n",
              "      <td>تنظيم اجتماع حول 7 سنوات (Genderqueer) وسلامة ...</td>\n",
              "    </tr>\n",
              "    <tr>\n",
              "      <th>...</th>\n",
              "      <td>...</td>\n",
              "      <td>...</td>\n",
              "    </tr>\n",
              "    <tr>\n",
              "      <th>209256</th>\n",
              "      <td>عزيزتي الأنثى، حدث التعليم الفني في الشقة. تم ...</td>\n",
              "      <td>عزيزتي الأنثى، حدث التعليم الفني في [MASK][MAS...</td>\n",
              "    </tr>\n",
              "    <tr>\n",
              "      <th>209257</th>\n",
              "      <td>هل يمكننا ترتيب موعد مع والدي نيكو؟ لقد طلبت إ...</td>\n",
              "      <td>هل يمكننا ترتيب موعد مع والدي [MASK]؟ لقد طلبت...</td>\n",
              "    </tr>\n",
              "    <tr>\n",
              "      <th>209258</th>\n",
              "      <td>يرجى تأكيد استلام الزي الجديد عن طريق البريد ا...</td>\n",
              "      <td>يرجى تأكيد استلام الزي الجديد عن طريق البريد ا...</td>\n",
              "    </tr>\n",
              "    <tr>\n",
              "      <th>209259</th>\n",
              "      <td>أظهر الشخص ذو العيون ذات اللون البني وطوله 3' ...</td>\n",
              "      <td>أظهر الشخص ذو العيون ذات اللون البني وطوله [MA...</td>\n",
              "    </tr>\n",
              "    <tr>\n",
              "      <th>209260</th>\n",
              "      <td>قم بزيارتنا على https://striking-harmonise.com...</td>\n",
              "      <td>قم بزيارتنا على [MASK][MASK][MASK][MASK][MASK]...</td>\n",
              "    </tr>\n",
              "  </tbody>\n",
              "</table>\n",
              "<p>209261 rows × 2 columns</p>\n",
              "</div>\n",
              "    <div class=\"colab-df-buttons\">\n",
              "\n",
              "  <div class=\"colab-df-container\">\n",
              "    <button class=\"colab-df-convert\" onclick=\"convertToInteractive('df-204ce3c2-e238-4c8e-8046-6e1d6b2baedd')\"\n",
              "            title=\"Convert this dataframe to an interactive table.\"\n",
              "            style=\"display:none;\">\n",
              "\n",
              "  <svg xmlns=\"http://www.w3.org/2000/svg\" height=\"24px\" viewBox=\"0 -960 960 960\">\n",
              "    <path d=\"M120-120v-720h720v720H120Zm60-500h600v-160H180v160Zm220 220h160v-160H400v160Zm0 220h160v-160H400v160ZM180-400h160v-160H180v160Zm440 0h160v-160H620v160ZM180-180h160v-160H180v160Zm440 0h160v-160H620v160Z\"/>\n",
              "  </svg>\n",
              "    </button>\n",
              "\n",
              "  <style>\n",
              "    .colab-df-container {\n",
              "      display:flex;\n",
              "      gap: 12px;\n",
              "    }\n",
              "\n",
              "    .colab-df-convert {\n",
              "      background-color: #E8F0FE;\n",
              "      border: none;\n",
              "      border-radius: 50%;\n",
              "      cursor: pointer;\n",
              "      display: none;\n",
              "      fill: #1967D2;\n",
              "      height: 32px;\n",
              "      padding: 0 0 0 0;\n",
              "      width: 32px;\n",
              "    }\n",
              "\n",
              "    .colab-df-convert:hover {\n",
              "      background-color: #E2EBFA;\n",
              "      box-shadow: 0px 1px 2px rgba(60, 64, 67, 0.3), 0px 1px 3px 1px rgba(60, 64, 67, 0.15);\n",
              "      fill: #174EA6;\n",
              "    }\n",
              "\n",
              "    .colab-df-buttons div {\n",
              "      margin-bottom: 4px;\n",
              "    }\n",
              "\n",
              "    [theme=dark] .colab-df-convert {\n",
              "      background-color: #3B4455;\n",
              "      fill: #D2E3FC;\n",
              "    }\n",
              "\n",
              "    [theme=dark] .colab-df-convert:hover {\n",
              "      background-color: #434B5C;\n",
              "      box-shadow: 0px 1px 3px 1px rgba(0, 0, 0, 0.15);\n",
              "      filter: drop-shadow(0px 1px 2px rgba(0, 0, 0, 0.3));\n",
              "      fill: #FFFFFF;\n",
              "    }\n",
              "  </style>\n",
              "\n",
              "    <script>\n",
              "      const buttonEl =\n",
              "        document.querySelector('#df-204ce3c2-e238-4c8e-8046-6e1d6b2baedd button.colab-df-convert');\n",
              "      buttonEl.style.display =\n",
              "        google.colab.kernel.accessAllowed ? 'block' : 'none';\n",
              "\n",
              "      async function convertToInteractive(key) {\n",
              "        const element = document.querySelector('#df-204ce3c2-e238-4c8e-8046-6e1d6b2baedd');\n",
              "        const dataTable =\n",
              "          await google.colab.kernel.invokeFunction('convertToInteractive',\n",
              "                                                    [key], {});\n",
              "        if (!dataTable) return;\n",
              "\n",
              "        const docLinkHtml = 'Like what you see? Visit the ' +\n",
              "          '<a target=\"_blank\" href=https://colab.research.google.com/notebooks/data_table.ipynb>data table notebook</a>'\n",
              "          + ' to learn more about interactive tables.';\n",
              "        element.innerHTML = '';\n",
              "        dataTable['output_type'] = 'display_data';\n",
              "        await google.colab.output.renderOutput(dataTable, element);\n",
              "        const docLink = document.createElement('div');\n",
              "        docLink.innerHTML = docLinkHtml;\n",
              "        element.appendChild(docLink);\n",
              "      }\n",
              "    </script>\n",
              "  </div>\n",
              "\n",
              "\n",
              "    <div id=\"df-72f6c4f2-9ab7-45d7-94e1-c2b4b7979b65\">\n",
              "      <button class=\"colab-df-quickchart\" onclick=\"quickchart('df-72f6c4f2-9ab7-45d7-94e1-c2b4b7979b65')\"\n",
              "                title=\"Suggest charts\"\n",
              "                style=\"display:none;\">\n",
              "\n",
              "<svg xmlns=\"http://www.w3.org/2000/svg\" height=\"24px\"viewBox=\"0 0 24 24\"\n",
              "     width=\"24px\">\n",
              "    <g>\n",
              "        <path d=\"M19 3H5c-1.1 0-2 .9-2 2v14c0 1.1.9 2 2 2h14c1.1 0 2-.9 2-2V5c0-1.1-.9-2-2-2zM9 17H7v-7h2v7zm4 0h-2V7h2v10zm4 0h-2v-4h2v4z\"/>\n",
              "    </g>\n",
              "</svg>\n",
              "      </button>\n",
              "\n",
              "<style>\n",
              "  .colab-df-quickchart {\n",
              "      --bg-color: #E8F0FE;\n",
              "      --fill-color: #1967D2;\n",
              "      --hover-bg-color: #E2EBFA;\n",
              "      --hover-fill-color: #174EA6;\n",
              "      --disabled-fill-color: #AAA;\n",
              "      --disabled-bg-color: #DDD;\n",
              "  }\n",
              "\n",
              "  [theme=dark] .colab-df-quickchart {\n",
              "      --bg-color: #3B4455;\n",
              "      --fill-color: #D2E3FC;\n",
              "      --hover-bg-color: #434B5C;\n",
              "      --hover-fill-color: #FFFFFF;\n",
              "      --disabled-bg-color: #3B4455;\n",
              "      --disabled-fill-color: #666;\n",
              "  }\n",
              "\n",
              "  .colab-df-quickchart {\n",
              "    background-color: var(--bg-color);\n",
              "    border: none;\n",
              "    border-radius: 50%;\n",
              "    cursor: pointer;\n",
              "    display: none;\n",
              "    fill: var(--fill-color);\n",
              "    height: 32px;\n",
              "    padding: 0;\n",
              "    width: 32px;\n",
              "  }\n",
              "\n",
              "  .colab-df-quickchart:hover {\n",
              "    background-color: var(--hover-bg-color);\n",
              "    box-shadow: 0 1px 2px rgba(60, 64, 67, 0.3), 0 1px 3px 1px rgba(60, 64, 67, 0.15);\n",
              "    fill: var(--button-hover-fill-color);\n",
              "  }\n",
              "\n",
              "  .colab-df-quickchart-complete:disabled,\n",
              "  .colab-df-quickchart-complete:disabled:hover {\n",
              "    background-color: var(--disabled-bg-color);\n",
              "    fill: var(--disabled-fill-color);\n",
              "    box-shadow: none;\n",
              "  }\n",
              "\n",
              "  .colab-df-spinner {\n",
              "    border: 2px solid var(--fill-color);\n",
              "    border-color: transparent;\n",
              "    border-bottom-color: var(--fill-color);\n",
              "    animation:\n",
              "      spin 1s steps(1) infinite;\n",
              "  }\n",
              "\n",
              "  @keyframes spin {\n",
              "    0% {\n",
              "      border-color: transparent;\n",
              "      border-bottom-color: var(--fill-color);\n",
              "      border-left-color: var(--fill-color);\n",
              "    }\n",
              "    20% {\n",
              "      border-color: transparent;\n",
              "      border-left-color: var(--fill-color);\n",
              "      border-top-color: var(--fill-color);\n",
              "    }\n",
              "    30% {\n",
              "      border-color: transparent;\n",
              "      border-left-color: var(--fill-color);\n",
              "      border-top-color: var(--fill-color);\n",
              "      border-right-color: var(--fill-color);\n",
              "    }\n",
              "    40% {\n",
              "      border-color: transparent;\n",
              "      border-right-color: var(--fill-color);\n",
              "      border-top-color: var(--fill-color);\n",
              "    }\n",
              "    60% {\n",
              "      border-color: transparent;\n",
              "      border-right-color: var(--fill-color);\n",
              "    }\n",
              "    80% {\n",
              "      border-color: transparent;\n",
              "      border-right-color: var(--fill-color);\n",
              "      border-bottom-color: var(--fill-color);\n",
              "    }\n",
              "    90% {\n",
              "      border-color: transparent;\n",
              "      border-bottom-color: var(--fill-color);\n",
              "    }\n",
              "  }\n",
              "</style>\n",
              "\n",
              "      <script>\n",
              "        async function quickchart(key) {\n",
              "          const quickchartButtonEl =\n",
              "            document.querySelector('#' + key + ' button');\n",
              "          quickchartButtonEl.disabled = true;  // To prevent multiple clicks.\n",
              "          quickchartButtonEl.classList.add('colab-df-spinner');\n",
              "          try {\n",
              "            const charts = await google.colab.kernel.invokeFunction(\n",
              "                'suggestCharts', [key], {});\n",
              "          } catch (error) {\n",
              "            console.error('Error during call to suggestCharts:', error);\n",
              "          }\n",
              "          quickchartButtonEl.classList.remove('colab-df-spinner');\n",
              "          quickchartButtonEl.classList.add('colab-df-quickchart-complete');\n",
              "        }\n",
              "        (() => {\n",
              "          let quickchartButtonEl =\n",
              "            document.querySelector('#df-72f6c4f2-9ab7-45d7-94e1-c2b4b7979b65 button');\n",
              "          quickchartButtonEl.style.display =\n",
              "            google.colab.kernel.accessAllowed ? 'block' : 'none';\n",
              "        })();\n",
              "      </script>\n",
              "    </div>\n",
              "\n",
              "    </div>\n",
              "  </div>\n"
            ],
            "application/vnd.google.colaboratory.intrinsic+json": {
              "type": "dataframe"
            }
          },
          "metadata": {},
          "execution_count": 18
        }
      ]
    },
    {
      "cell_type": "code",
      "source": [
        "train['tokens'][20]"
      ],
      "metadata": {
        "colab": {
          "base_uri": "https://localhost:8080/"
        },
        "id": "zvYbnrueNYiJ",
        "outputId": "2d3a5f75-e8e1-4653-e625-c9e838098cd4"
      },
      "execution_count": 19,
      "outputs": [
        {
          "output_type": "execute_result",
          "data": {
            "text/plain": [
              "['ترقيات',\n",
              " 'المختبر',\n",
              " 'في',\n",
              " 'مدرستنا',\n",
              " 'في',\n",
              " 'إيست',\n",
              " 'بيرسي',\n",
              " '.',\n",
              " 'هل',\n",
              " 'يمكننا',\n",
              " 'الحصول',\n",
              " 'على',\n",
              " 'عنوان',\n",
              " 'IP',\n",
              " '141',\n",
              " '.',\n",
              " '247',\n",
              " '.',\n",
              " '15',\n",
              " '.',\n",
              " '141',\n",
              " 'وعنوان',\n",
              " 'MAC',\n",
              " '8f',\n",
              " ':',\n",
              " '2f',\n",
              " ':',\n",
              " 'd6',\n",
              " ':',\n",
              " '6f',\n",
              " ':',\n",
              " 'f3',\n",
              " ':',\n",
              " '31',\n",
              " 'للتكوين',\n",
              " '؟']"
            ]
          },
          "metadata": {},
          "execution_count": 19
        }
      ]
    },
    {
      "cell_type": "code",
      "source": [
        "train['tags'][20]"
      ],
      "metadata": {
        "colab": {
          "base_uri": "https://localhost:8080/"
        },
        "id": "J5KuKGNNNSWD",
        "outputId": "7fb0087d-9766-4a9b-ee64-bff460ec0b36"
      },
      "execution_count": 20,
      "outputs": [
        {
          "output_type": "execute_result",
          "data": {
            "text/plain": [
              "['O',\n",
              " 'O',\n",
              " 'O',\n",
              " 'O',\n",
              " 'O',\n",
              " 'B-CITY',\n",
              " 'I-CITY',\n",
              " 'O',\n",
              " 'O',\n",
              " 'O',\n",
              " 'O',\n",
              " 'O',\n",
              " 'O',\n",
              " 'O',\n",
              " 'B-IP',\n",
              " 'I-IP',\n",
              " 'I-IP',\n",
              " 'I-IP',\n",
              " 'I-IP',\n",
              " 'I-IP',\n",
              " 'I-IP',\n",
              " 'O',\n",
              " 'O',\n",
              " 'B-MAC',\n",
              " 'I-MAC',\n",
              " 'I-MAC',\n",
              " 'I-MAC',\n",
              " 'I-MAC',\n",
              " 'I-MAC',\n",
              " 'I-MAC',\n",
              " 'I-MAC',\n",
              " 'I-MAC',\n",
              " 'I-MAC',\n",
              " 'I-MAC',\n",
              " 'O',\n",
              " 'O']"
            ]
          },
          "metadata": {},
          "execution_count": 20
        }
      ]
    },
    {
      "cell_type": "code",
      "source": [
        "train.clean_source[20]"
      ],
      "metadata": {
        "colab": {
          "base_uri": "https://localhost:8080/",
          "height": 53
        },
        "id": "sLXJDEWrutwh",
        "outputId": "e4d64388-9a81-4bd5-d05e-ae61068b3569"
      },
      "execution_count": 21,
      "outputs": [
        {
          "output_type": "execute_result",
          "data": {
            "text/plain": [
              "'ترقيات المختبر في مدرستنا في إيست بيرسي. هل يمكننا الحصول على عنوان IP 141.247.15.141 وعنوان MAC 8f:2f:d6:6f:f3:31 للتكوين؟'"
            ],
            "application/vnd.google.colaboratory.intrinsic+json": {
              "type": "string"
            }
          },
          "metadata": {},
          "execution_count": 21
        }
      ]
    },
    {
      "cell_type": "code",
      "source": [
        "masker(train.iloc[20], tags_to_mask)"
      ],
      "metadata": {
        "colab": {
          "base_uri": "https://localhost:8080/",
          "height": 53
        },
        "id": "-WA0e5BgudG_",
        "outputId": "18ce208b-3621-4323-9290-b4b48b380b3c"
      },
      "execution_count": 22,
      "outputs": [
        {
          "output_type": "execute_result",
          "data": {
            "text/plain": [
              "'ترقيات المختبر في مدرستنا في [MASK] [MASK]. هل يمكننا الحصول على عنوان IP [MASK][MASK][MASK][MASK][MASK][MASK][MASK] وعنوان MAC [MASK][MASK][MASK][MASK][MASK][MASK][MASK][MASK][MASK][MASK][MASK] للتكوين؟'"
            ],
            "application/vnd.google.colaboratory.intrinsic+json": {
              "type": "string"
            }
          },
          "metadata": {},
          "execution_count": 22
        }
      ]
    },
    {
      "cell_type": "code",
      "source": [
        "df = train[['clean_source', 'masked_source']]\n",
        "df.rename(columns={'clean_source': 'source', 'masked_source': 'target'}, inplace = True)\n",
        "\n",
        "# Save the train data after the updates\n",
        "df.to_csv('/content/drive/MyDrive/Colab Notebooks/ArabicPIIRedaction/data/masked_train_data.csv', index=False)"
      ],
      "metadata": {
        "id": "6kaaHn4_47KT",
        "outputId": "11bf84a3-1cee-4226-b519-624303212d79",
        "colab": {
          "base_uri": "https://localhost:8080/"
        }
      },
      "execution_count": 23,
      "outputs": [
        {
          "output_type": "stream",
          "name": "stderr",
          "text": [
            "<ipython-input-23-abc262e65a28>:2: SettingWithCopyWarning: \n",
            "A value is trying to be set on a copy of a slice from a DataFrame\n",
            "\n",
            "See the caveats in the documentation: https://pandas.pydata.org/pandas-docs/stable/user_guide/indexing.html#returning-a-view-versus-a-copy\n",
            "  df.rename(columns={'clean_source': 'source', 'masked_source': 'target'}, inplace = True)\n"
          ]
        }
      ]
    },
    {
      "cell_type": "markdown",
      "source": [
        "##### Augmenting data with Egyptian dialect"
      ],
      "metadata": {
        "id": "A0KzXLVE7EuE"
      }
    },
    {
      "cell_type": "code",
      "source": [
        "from google.colab import drive"
      ],
      "metadata": {
        "id": "CgxAXkZxd3ZJ"
      },
      "execution_count": null,
      "outputs": []
    },
    {
      "cell_type": "code",
      "source": [
        "drive.mount('/content/drive')"
      ],
      "metadata": {
        "id": "4qzh7K0aeAw_"
      },
      "execution_count": null,
      "outputs": []
    },
    {
      "cell_type": "code",
      "source": [
        "train = pd.read_csv('/content/drive/MyDrive/Colab Notebooks/ArabicPIIRedaction/data/masked_train_data.csv')"
      ],
      "metadata": {
        "id": "wtd9cDwvekN6"
      },
      "execution_count": null,
      "outputs": []
    },
    {
      "cell_type": "code",
      "source": [
        "train.head()"
      ],
      "metadata": {
        "id": "UrXR7jc1eqeF"
      },
      "execution_count": null,
      "outputs": []
    },
    {
      "cell_type": "code",
      "source": [
        "!pip install selenium\n",
        "from selenium import webdriver\n",
        "from selenium.webdriver.common.by import By\n",
        "from selenium.webdriver.chrome.service import Service\n",
        "from selenium.webdriver.chrome.options import Options\n",
        "from selenium.webdriver.support.ui import WebDriverWait\n",
        "from selenium.webdriver.support import expected_conditions as EC\n",
        "import time\n",
        "from tqdm.auto import tqdm\n",
        "import os"
      ],
      "metadata": {
        "id": "kzH90eeC7c9F"
      },
      "execution_count": null,
      "outputs": []
    },
    {
      "cell_type": "code",
      "source": [
        "train"
      ],
      "metadata": {
        "id": "0Atw2wHfdovp"
      },
      "execution_count": null,
      "outputs": []
    },
    {
      "cell_type": "code",
      "source": [
        "# Config\n",
        "input_csv = r\"C:\\Users\\mosaabsayed\\Downloads\\ar_dataset_translated_fixed_cleaned.csv\"\n",
        "output_csv = r\"C:\\Users\\mosaabsayed\\Downloads\\saudi_translated_sentences.csv\"\n",
        "target_dialect = \"arabic-egyptian\"  # choose from ['arabic-gulf', 'arabic-egyptian', 'arabic-levantine']\n",
        "batch_size = 20_000\n",
        "save_every = 10\n",
        "\n",
        "# Chrome setup\n",
        "options = Options()\n",
        "options.add_argument(\"--headless\")\n",
        "options.add_argument(\"--disable-gpu\")\n",
        "options.add_argument(\"--window-size=1920,1080\")\n",
        "\n",
        "service = Service()\n",
        "driver = webdriver.Chrome(service=service, options=options)\n",
        "driver.get(\"https://www.lingobright.com/tools/arabic-dialect-translator/\")\n",
        "\n",
        "wait = WebDriverWait(driver, timeout=10, poll_frequency=0.2)\n",
        "\n",
        "# Set dialects\n",
        "wait.until(EC.presence_of_element_located((By.ID, \"sourceDialect\")))\n",
        "driver.find_element(By.ID, \"sourceDialect\").find_element(By.XPATH, \".//option[@value='arabic-modern-standard']\").click()\n",
        "driver.find_element(By.ID, \"targetDialect\").find_element(By.XPATH, f\".//option[@value='{target_dialect}']\").click()\n",
        "\n",
        "# Input/output areas and button\n",
        "text_areas = wait.until(EC.presence_of_all_elements_located((By.CLASS_NAME, \"text-area\")))\n",
        "input_box, output_box = text_areas[0], text_areas[1]\n",
        "translate_button = driver.find_element(By.ID, \"submitBtn\")\n",
        "\n",
        "# Load data\n",
        "df = pd.read_csv(input_csv)\n",
        "sample_df = df.sample(batch_size).reset_index(drop=True)\n",
        "\n",
        "results = []\n",
        "\n",
        "# Loop\n",
        "for idx, msa_sentence in enumerate(tqdm(sample_df['source'], total=len(sample_df))):\n",
        "    try:\n",
        "        input_box.clear()\n",
        "        input_box.send_keys(msa_sentence)\n",
        "        translate_button.click()\n",
        "\n",
        "        WebDriverWait(driver, 8).until(\n",
        "            lambda d: (val := output_box.get_attribute(\"value\").strip()) != \"\" and val != \"Translating...\"\n",
        "        )\n",
        "        translated_text = output_box.get_attribute(\"value\").strip()\n",
        "\n",
        "    except Exception as e:\n",
        "        print(f\"❌ Error on sentence {idx}: {msa_sentence}\\n{e}\")\n",
        "        translated_text = \"ERROR\"\n",
        "\n",
        "    results.append((idx, translated_text))\n",
        "\n",
        "    # Save every N results\n",
        "    if (idx + 1) % save_every == 0 or (idx + 1) == len(sample_df):\n",
        "        print(f\"📁 Saving progress at {idx + 1} translations...\")\n",
        "        save_df = sample_df.iloc[[i for i, _ in results]].copy()\n",
        "        save_df['dialect_translation'] = [t for _, t in results]\n",
        "        save_df.to_csv(output_csv, mode='a', index=False, header=not os.path.exists(output_csv))\n",
        "        results = []  # Clear buffer\n",
        "\n",
        "    time.sleep(1)\n",
        "\n",
        "driver.quit()\n",
        "print(f\"✅ Done. Results saved to:\\n{output_csv}\")"
      ],
      "metadata": {
        "id": "USvliyg47TCo"
      },
      "execution_count": null,
      "outputs": []
    },
    {
      "cell_type": "markdown",
      "source": [
        "# Loading Model"
      ],
      "metadata": {
        "id": "EXJVZgY7QBLb"
      }
    },
    {
      "cell_type": "markdown",
      "source": [
        "### SILMA-2B-4bit"
      ],
      "metadata": {
        "id": "PFOFFoZunpk2"
      }
    },
    {
      "cell_type": "code",
      "source": [
        "# !pip install bitsandbytes accelerate\n",
        "from transformers import AutoTokenizer, AutoModelForCausalLM, BitsAndBytesConfig"
      ],
      "metadata": {
        "id": "msxzfcMAde1j"
      },
      "execution_count": null,
      "outputs": []
    },
    {
      "cell_type": "code",
      "source": [
        "model_id = \"silma-ai/SILMA-Kashif-2B-Instruct-v1.0-bnb-4bit\" # Quantized version\n",
        "quantization_config = BitsAndBytesConfig(load_in_4bit=True)\n",
        "tokenizer = AutoTokenizer.from_pretrained(model_id)\n",
        "\n",
        "model = AutoModelForCausalLM.from_pretrained(\n",
        "    model_id,\n",
        "    quantization_config = quantization_config,\n",
        ")"
      ],
      "metadata": {
        "id": "masiTJ6OdWt4"
      },
      "execution_count": null,
      "outputs": []
    },
    {
      "cell_type": "code",
      "source": [
        "messages = [\n",
        "    {\"role\": \"user\", \"content\": \"كم عدد أيام الأسبوع؟\"},\n",
        "]\n",
        "\n",
        "input_ids = tokenizer.apply_chat_template(messages, return_tensors=\"pt\", return_dict=True).to(\"cuda\")\n",
        "\n",
        "input_ids"
      ],
      "metadata": {
        "id": "RvMdoz8tiZFa"
      },
      "execution_count": null,
      "outputs": []
    },
    {
      "cell_type": "code",
      "source": [
        "outputs = model.generate(**input_ids, max_new_tokens=256)"
      ],
      "metadata": {
        "id": "4VpdHPFPi9Sb"
      },
      "execution_count": null,
      "outputs": []
    },
    {
      "cell_type": "code",
      "source": [
        "tokenizer.decode(outputs[0]).split(\"<start_of_turn>\")[-1]"
      ],
      "metadata": {
        "id": "E85GRMtol4fs"
      },
      "execution_count": null,
      "outputs": []
    },
    {
      "cell_type": "markdown",
      "source": [
        "### SILMA-2B"
      ],
      "metadata": {
        "id": "YRk7u6B4oIAh"
      }
    },
    {
      "cell_type": "code",
      "source": [
        "import torch\n",
        "from transformers import pipeline"
      ],
      "metadata": {
        "id": "HfyUaT6iqCcF"
      },
      "execution_count": null,
      "outputs": []
    },
    {
      "cell_type": "code",
      "source": [
        "pipe = pipeline(\n",
        "    \"text-generation\",\n",
        "    model=\"silma-ai/SILMA-Kashif-2B-Instruct-v1.0\",\n",
        "    model_kwargs={\"torch_dtype\": torch.bfloat16},\n",
        "    device=\"cuda\"\n",
        ")"
      ],
      "metadata": {
        "id": "KGt_QV4EoHP8"
      },
      "execution_count": null,
      "outputs": []
    },
    {
      "cell_type": "code",
      "source": [
        "messages = [\n",
        "    {\"role\": \"user\",\n",
        "     \"content\": \"\"\" Mask the PII as [masked] in the given source sentence\n",
        "\n",
        "     source: I sent my email address M.helmy@nu.edu.eg to my supervisor dr. gahda khoriba in Nile University.\n",
        "\n",
        "     target:\n",
        "     \"\"\"\n",
        "     }\n",
        "]\n",
        "\n",
        "outputs = pipe(messages, max_new_tokens=600)\n",
        "response = outputs[0][\"generated_text\"][-1][\"content\"].strip()"
      ],
      "metadata": {
        "id": "s3011Qx6qgGH"
      },
      "execution_count": null,
      "outputs": []
    },
    {
      "cell_type": "code",
      "source": [
        "response"
      ],
      "metadata": {
        "id": "xzoNrnzLrCuP"
      },
      "execution_count": null,
      "outputs": []
    },
    {
      "cell_type": "code",
      "source": [
        "messages = [\n",
        "    {\"role\": \"user\",\n",
        "     \"content\": f\"\"\" Mask the PII as [masked] in the given source sentence\n",
        "\n",
        "     source: {df[\"source\"][0]}\n",
        "\n",
        "     target:\n",
        "     \"\"\"\n",
        "     }\n",
        "]\n",
        "\n",
        "outputs = pipe(messages, max_new_tokens=600)\n",
        "response = outputs[0][\"generated_text\"][-1][\"content\"].strip()"
      ],
      "metadata": {
        "id": "x8_x4pNKwCqH"
      },
      "execution_count": null,
      "outputs": []
    },
    {
      "cell_type": "code",
      "source": [
        "print(df[\"source\"][0])\n",
        "print(response)"
      ],
      "metadata": {
        "id": "QWSCTXuQwLLk"
      },
      "execution_count": null,
      "outputs": []
    }
  ]
}