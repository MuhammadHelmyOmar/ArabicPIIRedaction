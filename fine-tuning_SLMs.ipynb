{
  "nbformat": 4,
  "nbformat_minor": 0,
  "metadata": {
    "colab": {
      "provenance": [],
      "include_colab_link": true
    },
    "kernelspec": {
      "name": "python3",
      "display_name": "Python 3"
    },
    "language_info": {
      "name": "python"
    }
  },
  "cells": [
    {
      "cell_type": "markdown",
      "metadata": {
        "id": "view-in-github",
        "colab_type": "text"
      },
      "source": [
        "<a href=\"https://colab.research.google.com/github/MuhammadHelmyOmar/ArabicPIIRedaction/blob/main/fine-tuning_SLMs.ipynb\" target=\"_parent\"><img src=\"https://colab.research.google.com/assets/colab-badge.svg\" alt=\"Open In Colab\"/></a>"
      ]
    },
    {
      "cell_type": "markdown",
      "source": [
        "# Data Preparation"
      ],
      "metadata": {
        "id": "vz0XTsAGP88t"
      }
    },
    {
      "cell_type": "code",
      "source": [
        "import pandas as pd"
      ],
      "metadata": {
        "id": "-SsmHMGiO3Sx"
      },
      "execution_count": 1,
      "outputs": []
    },
    {
      "cell_type": "markdown",
      "source": [
        "### Test data\n",
        "- Original Competition Data"
      ],
      "metadata": {
        "id": "uCthputZK4bO"
      }
    },
    {
      "cell_type": "code",
      "source": [
        "data_url = \"https://raw.githubusercontent.com/MuhammadHelmyOmar/ArabicPIIRedaction/main/data/data_final.xlsx\"\n",
        "\n",
        "test = pd.read_excel(data_url)\n",
        "\n",
        "test.head()"
      ],
      "metadata": {
        "colab": {
          "base_uri": "https://localhost:8080/",
          "height": 206
        },
        "id": "YZFHiCrhO5R4",
        "outputId": "da879de2-6fa3-45e6-dfcb-7be9bfdcc3b2"
      },
      "execution_count": null,
      "outputs": [
        {
          "output_type": "execute_result",
          "data": {
            "text/plain": [
              "                                              source  \\\n",
              "0  الأستاذ أدولفوس ريغان زييمان، بصفتك المدير الت...   \n",
              "1  مرحبًا يا هانا، ممكن لو سمحتي تتحققي من التداع...   \n",
              "2  نطلب أيضًا مراجعة سياساتنا فيما يتعلق بالتغيير...   \n",
              "3  عزيزي ديفان، مطلوب تقديم عرض تقديمي على مستوى ...   \n",
              "4  ممكن كمان نعمل جلسة عن كيفية إدارة التوتر والت...   \n",
              "\n",
              "                                              target    dialect  \n",
              "0  الأستاذ [MASK]، بصفتك المدير التنفيذي الرئيسي ...      EGYPT  \n",
              "1  مرحبًا يا [MASK]، ممكن لو سمحتي تتحققي من التد...      EGYPT  \n",
              "2  نطلب أيضًا مراجعة سياساتنا فيما يتعلق بالتغيير...      SAUDI  \n",
              "3  عزيزي [MASK]، مطلوب تقديم عرض تقديمي على مستوى...      EGYPT  \n",
              "4  The sentence doesn't contain any personal or s...  LEVANTINE  "
            ],
            "text/html": [
              "\n",
              "  <div id=\"df-c9c02862-2973-4548-a408-7b1047a14d76\" class=\"colab-df-container\">\n",
              "    <div>\n",
              "<style scoped>\n",
              "    .dataframe tbody tr th:only-of-type {\n",
              "        vertical-align: middle;\n",
              "    }\n",
              "\n",
              "    .dataframe tbody tr th {\n",
              "        vertical-align: top;\n",
              "    }\n",
              "\n",
              "    .dataframe thead th {\n",
              "        text-align: right;\n",
              "    }\n",
              "</style>\n",
              "<table border=\"1\" class=\"dataframe\">\n",
              "  <thead>\n",
              "    <tr style=\"text-align: right;\">\n",
              "      <th></th>\n",
              "      <th>source</th>\n",
              "      <th>target</th>\n",
              "      <th>dialect</th>\n",
              "    </tr>\n",
              "  </thead>\n",
              "  <tbody>\n",
              "    <tr>\n",
              "      <th>0</th>\n",
              "      <td>الأستاذ أدولفوس ريغان زييمان، بصفتك المدير الت...</td>\n",
              "      <td>الأستاذ [MASK]، بصفتك المدير التنفيذي الرئيسي ...</td>\n",
              "      <td>EGYPT</td>\n",
              "    </tr>\n",
              "    <tr>\n",
              "      <th>1</th>\n",
              "      <td>مرحبًا يا هانا، ممكن لو سمحتي تتحققي من التداع...</td>\n",
              "      <td>مرحبًا يا [MASK]، ممكن لو سمحتي تتحققي من التد...</td>\n",
              "      <td>EGYPT</td>\n",
              "    </tr>\n",
              "    <tr>\n",
              "      <th>2</th>\n",
              "      <td>نطلب أيضًا مراجعة سياساتنا فيما يتعلق بالتغيير...</td>\n",
              "      <td>نطلب أيضًا مراجعة سياساتنا فيما يتعلق بالتغيير...</td>\n",
              "      <td>SAUDI</td>\n",
              "    </tr>\n",
              "    <tr>\n",
              "      <th>3</th>\n",
              "      <td>عزيزي ديفان، مطلوب تقديم عرض تقديمي على مستوى ...</td>\n",
              "      <td>عزيزي [MASK]، مطلوب تقديم عرض تقديمي على مستوى...</td>\n",
              "      <td>EGYPT</td>\n",
              "    </tr>\n",
              "    <tr>\n",
              "      <th>4</th>\n",
              "      <td>ممكن كمان نعمل جلسة عن كيفية إدارة التوتر والت...</td>\n",
              "      <td>The sentence doesn't contain any personal or s...</td>\n",
              "      <td>LEVANTINE</td>\n",
              "    </tr>\n",
              "  </tbody>\n",
              "</table>\n",
              "</div>\n",
              "    <div class=\"colab-df-buttons\">\n",
              "\n",
              "  <div class=\"colab-df-container\">\n",
              "    <button class=\"colab-df-convert\" onclick=\"convertToInteractive('df-c9c02862-2973-4548-a408-7b1047a14d76')\"\n",
              "            title=\"Convert this dataframe to an interactive table.\"\n",
              "            style=\"display:none;\">\n",
              "\n",
              "  <svg xmlns=\"http://www.w3.org/2000/svg\" height=\"24px\" viewBox=\"0 -960 960 960\">\n",
              "    <path d=\"M120-120v-720h720v720H120Zm60-500h600v-160H180v160Zm220 220h160v-160H400v160Zm0 220h160v-160H400v160ZM180-400h160v-160H180v160Zm440 0h160v-160H620v160ZM180-180h160v-160H180v160Zm440 0h160v-160H620v160Z\"/>\n",
              "  </svg>\n",
              "    </button>\n",
              "\n",
              "  <style>\n",
              "    .colab-df-container {\n",
              "      display:flex;\n",
              "      gap: 12px;\n",
              "    }\n",
              "\n",
              "    .colab-df-convert {\n",
              "      background-color: #E8F0FE;\n",
              "      border: none;\n",
              "      border-radius: 50%;\n",
              "      cursor: pointer;\n",
              "      display: none;\n",
              "      fill: #1967D2;\n",
              "      height: 32px;\n",
              "      padding: 0 0 0 0;\n",
              "      width: 32px;\n",
              "    }\n",
              "\n",
              "    .colab-df-convert:hover {\n",
              "      background-color: #E2EBFA;\n",
              "      box-shadow: 0px 1px 2px rgba(60, 64, 67, 0.3), 0px 1px 3px 1px rgba(60, 64, 67, 0.15);\n",
              "      fill: #174EA6;\n",
              "    }\n",
              "\n",
              "    .colab-df-buttons div {\n",
              "      margin-bottom: 4px;\n",
              "    }\n",
              "\n",
              "    [theme=dark] .colab-df-convert {\n",
              "      background-color: #3B4455;\n",
              "      fill: #D2E3FC;\n",
              "    }\n",
              "\n",
              "    [theme=dark] .colab-df-convert:hover {\n",
              "      background-color: #434B5C;\n",
              "      box-shadow: 0px 1px 3px 1px rgba(0, 0, 0, 0.15);\n",
              "      filter: drop-shadow(0px 1px 2px rgba(0, 0, 0, 0.3));\n",
              "      fill: #FFFFFF;\n",
              "    }\n",
              "  </style>\n",
              "\n",
              "    <script>\n",
              "      const buttonEl =\n",
              "        document.querySelector('#df-c9c02862-2973-4548-a408-7b1047a14d76 button.colab-df-convert');\n",
              "      buttonEl.style.display =\n",
              "        google.colab.kernel.accessAllowed ? 'block' : 'none';\n",
              "\n",
              "      async function convertToInteractive(key) {\n",
              "        const element = document.querySelector('#df-c9c02862-2973-4548-a408-7b1047a14d76');\n",
              "        const dataTable =\n",
              "          await google.colab.kernel.invokeFunction('convertToInteractive',\n",
              "                                                    [key], {});\n",
              "        if (!dataTable) return;\n",
              "\n",
              "        const docLinkHtml = 'Like what you see? Visit the ' +\n",
              "          '<a target=\"_blank\" href=https://colab.research.google.com/notebooks/data_table.ipynb>data table notebook</a>'\n",
              "          + ' to learn more about interactive tables.';\n",
              "        element.innerHTML = '';\n",
              "        dataTable['output_type'] = 'display_data';\n",
              "        await google.colab.output.renderOutput(dataTable, element);\n",
              "        const docLink = document.createElement('div');\n",
              "        docLink.innerHTML = docLinkHtml;\n",
              "        element.appendChild(docLink);\n",
              "      }\n",
              "    </script>\n",
              "  </div>\n",
              "\n",
              "\n",
              "    <div id=\"df-942f5934-d569-432e-91ea-3cf4d62c312a\">\n",
              "      <button class=\"colab-df-quickchart\" onclick=\"quickchart('df-942f5934-d569-432e-91ea-3cf4d62c312a')\"\n",
              "                title=\"Suggest charts\"\n",
              "                style=\"display:none;\">\n",
              "\n",
              "<svg xmlns=\"http://www.w3.org/2000/svg\" height=\"24px\"viewBox=\"0 0 24 24\"\n",
              "     width=\"24px\">\n",
              "    <g>\n",
              "        <path d=\"M19 3H5c-1.1 0-2 .9-2 2v14c0 1.1.9 2 2 2h14c1.1 0 2-.9 2-2V5c0-1.1-.9-2-2-2zM9 17H7v-7h2v7zm4 0h-2V7h2v10zm4 0h-2v-4h2v4z\"/>\n",
              "    </g>\n",
              "</svg>\n",
              "      </button>\n",
              "\n",
              "<style>\n",
              "  .colab-df-quickchart {\n",
              "      --bg-color: #E8F0FE;\n",
              "      --fill-color: #1967D2;\n",
              "      --hover-bg-color: #E2EBFA;\n",
              "      --hover-fill-color: #174EA6;\n",
              "      --disabled-fill-color: #AAA;\n",
              "      --disabled-bg-color: #DDD;\n",
              "  }\n",
              "\n",
              "  [theme=dark] .colab-df-quickchart {\n",
              "      --bg-color: #3B4455;\n",
              "      --fill-color: #D2E3FC;\n",
              "      --hover-bg-color: #434B5C;\n",
              "      --hover-fill-color: #FFFFFF;\n",
              "      --disabled-bg-color: #3B4455;\n",
              "      --disabled-fill-color: #666;\n",
              "  }\n",
              "\n",
              "  .colab-df-quickchart {\n",
              "    background-color: var(--bg-color);\n",
              "    border: none;\n",
              "    border-radius: 50%;\n",
              "    cursor: pointer;\n",
              "    display: none;\n",
              "    fill: var(--fill-color);\n",
              "    height: 32px;\n",
              "    padding: 0;\n",
              "    width: 32px;\n",
              "  }\n",
              "\n",
              "  .colab-df-quickchart:hover {\n",
              "    background-color: var(--hover-bg-color);\n",
              "    box-shadow: 0 1px 2px rgba(60, 64, 67, 0.3), 0 1px 3px 1px rgba(60, 64, 67, 0.15);\n",
              "    fill: var(--button-hover-fill-color);\n",
              "  }\n",
              "\n",
              "  .colab-df-quickchart-complete:disabled,\n",
              "  .colab-df-quickchart-complete:disabled:hover {\n",
              "    background-color: var(--disabled-bg-color);\n",
              "    fill: var(--disabled-fill-color);\n",
              "    box-shadow: none;\n",
              "  }\n",
              "\n",
              "  .colab-df-spinner {\n",
              "    border: 2px solid var(--fill-color);\n",
              "    border-color: transparent;\n",
              "    border-bottom-color: var(--fill-color);\n",
              "    animation:\n",
              "      spin 1s steps(1) infinite;\n",
              "  }\n",
              "\n",
              "  @keyframes spin {\n",
              "    0% {\n",
              "      border-color: transparent;\n",
              "      border-bottom-color: var(--fill-color);\n",
              "      border-left-color: var(--fill-color);\n",
              "    }\n",
              "    20% {\n",
              "      border-color: transparent;\n",
              "      border-left-color: var(--fill-color);\n",
              "      border-top-color: var(--fill-color);\n",
              "    }\n",
              "    30% {\n",
              "      border-color: transparent;\n",
              "      border-left-color: var(--fill-color);\n",
              "      border-top-color: var(--fill-color);\n",
              "      border-right-color: var(--fill-color);\n",
              "    }\n",
              "    40% {\n",
              "      border-color: transparent;\n",
              "      border-right-color: var(--fill-color);\n",
              "      border-top-color: var(--fill-color);\n",
              "    }\n",
              "    60% {\n",
              "      border-color: transparent;\n",
              "      border-right-color: var(--fill-color);\n",
              "    }\n",
              "    80% {\n",
              "      border-color: transparent;\n",
              "      border-right-color: var(--fill-color);\n",
              "      border-bottom-color: var(--fill-color);\n",
              "    }\n",
              "    90% {\n",
              "      border-color: transparent;\n",
              "      border-bottom-color: var(--fill-color);\n",
              "    }\n",
              "  }\n",
              "</style>\n",
              "\n",
              "      <script>\n",
              "        async function quickchart(key) {\n",
              "          const quickchartButtonEl =\n",
              "            document.querySelector('#' + key + ' button');\n",
              "          quickchartButtonEl.disabled = true;  // To prevent multiple clicks.\n",
              "          quickchartButtonEl.classList.add('colab-df-spinner');\n",
              "          try {\n",
              "            const charts = await google.colab.kernel.invokeFunction(\n",
              "                'suggestCharts', [key], {});\n",
              "          } catch (error) {\n",
              "            console.error('Error during call to suggestCharts:', error);\n",
              "          }\n",
              "          quickchartButtonEl.classList.remove('colab-df-spinner');\n",
              "          quickchartButtonEl.classList.add('colab-df-quickchart-complete');\n",
              "        }\n",
              "        (() => {\n",
              "          let quickchartButtonEl =\n",
              "            document.querySelector('#df-942f5934-d569-432e-91ea-3cf4d62c312a button');\n",
              "          quickchartButtonEl.style.display =\n",
              "            google.colab.kernel.accessAllowed ? 'block' : 'none';\n",
              "        })();\n",
              "      </script>\n",
              "    </div>\n",
              "\n",
              "    </div>\n",
              "  </div>\n"
            ],
            "application/vnd.google.colaboratory.intrinsic+json": {
              "type": "dataframe",
              "variable_name": "test",
              "summary": "{\n  \"name\": \"test\",\n  \"rows\": 10447,\n  \"fields\": [\n    {\n      \"column\": \"source\",\n      \"properties\": {\n        \"dtype\": \"string\",\n        \"num_unique_values\": 10388,\n        \"samples\": [\n          \"\\u0628\\u0627\\u0644\\u0625\\u0636\\u0627\\u0641\\u0629 \\u0625\\u0644\\u0649 \\u0630\\u0644\\u0643\\u060c \\u0633\\u064a\\u0643\\u0648\\u0646 \\u0645\\u0646 \\u0627\\u0644\\u0645\\u0641\\u064a\\u062f \\u0625\\u0630\\u0627 \\u062a\\u0645\\u0643\\u0646\\u062a \\u0645\\u0646 \\u0645\\u0631\\u0627\\u062c\\u0639\\u0629 \\u0642\\u0648\\u0627\\u0646\\u064a\\u0646 \\u0627\\u0644\\u0625\\u062e\\u0644\\u0627\\u0621 \\u0627\\u0644\\u0645\\u062a\\u0639\\u0644\\u0642\\u0629 \\u0628\\u0628\\u062f\\u0641\\u0648\\u0631\\u062f\\u0634\\u064a\\u0631 \\u0643\\u062c\\u0632\\u0621 \\u0645\\u0646 \\u0628\\u062d\\u062b\\u0643.\",\n          \"\\u0627\\u0644\\u0645\\u0634\\u0627\\u0631\\u0643\\u060c \\u0625\\u0630\\u0627 \\u0644\\u0645 \\u062a\\u062a\\u0645\\u0643\\u0646 \\u0645\\u0646 \\u0645\\u062a\\u0627\\u0628\\u0639\\u0629 \\u0627\\u0644\\u0627\\u062e\\u062a\\u0628\\u0627\\u0631 \\u0627\\u0644\\u0646\\u0641\\u0633\\u064a \\u0645\\u0646 \\u0639\\u0646\\u0648\\u0627\\u0646 IP 124.56.187.21\\u060c \\u064a\\u0631\\u062c\\u0649 \\u0627\\u0644\\u062a\\u0648\\u0627\\u0635\\u0644 \\u0645\\u0639 \\u0641\\u0631\\u064a\\u0642 \\u0627\\u0644\\u062f\\u0639\\u0645 \\u0644\\u062f\\u064a\\u0646\\u0627. \\u0628\\u0633\\u0628\\u0628 \\u0627\\u0644\\u0628\\u0631\\u0648\\u062a\\u0648\\u0643\\u0648\\u0644\\u0627\\u062a \\u0627\\u0644\\u0635\\u0627\\u0631\\u0645\\u0629\\u060c \\u0627\\u0644\\u0645\\u0646\\u0635\\u0629 \\u062a\\u0633\\u0645\\u062d \\u0628\\u0627\\u0644\\u0648\\u0635\\u0648\\u0644 \\u0641\\u0642\\u0637 \\u0645\\u0646 \\u0639\\u0646\\u0648\\u0627\\u0646 IP \\u0627\\u0644\\u0645\\u0633\\u062c\\u0644.\",\n          \"\\u062a\\u0642\\u0631\\u064a\\u0631 \\u0645\\u0628\\u064a\\u0639\\u0627\\u062a \\u0627\\u0644\\u0641\\u0631\\u0646\\u0634\\u0627\\u064a\\u0632 \\u0628\\u062a\\u0627\\u0639\\u0643 \\u0628\\u0627\\u064a\\u0646 \\u0639\\u0644\\u064a\\u0647 \\u0646\\u0645\\u0637 \\u063a\\u064a\\u0631 \\u0639\\u0627\\u062f\\u064a \\u0641\\u064a \\u0627\\u0644\\u0639\\u0645\\u0644\\u064a\\u0627\\u062a. \\u0645\\u0645\\u0643\\u0646 \\u0646\\u062a\\u0639\\u0628\\u0643 \\u0625\\u0646\\u0643 \\u062a\\u0631\\u0627\\u062c\\u0639 \\u0627\\u0644\\u0633\\u062c\\u0644\\u0627\\u062a \\u0627\\u0644\\u0645\\u0631\\u062a\\u0628\\u0637\\u0629 \\u0628\\u0639\\u0646\\u0648\\u0627\\u0646 \\u0627\\u0644\\u0640 IP dbed:0a1c:432b:2df0:d1de:08d0:d99b:9ada\\u061f\"\n        ],\n        \"semantic_type\": \"\",\n        \"description\": \"\"\n      }\n    },\n    {\n      \"column\": \"target\",\n      \"properties\": {\n        \"dtype\": \"string\",\n        \"num_unique_values\": 9742,\n        \"samples\": [\n          \"\\u0627\\u0633\\u062a\\u0645\\u062a\\u0639\\u062a \\u0628\\u0642\\u0631\\u0627\\u0621\\u0629 \\u0645\\u0642\\u0627\\u0644\\u0627\\u062a\\u0643 \\u0639\\u0646 \\u0627\\u0644\\u0639\\u0644\\u0627\\u062c \\u0627\\u0644\\u0648\\u062c\\u0648\\u062f\\u064a\\u060c \\u064a\\u0627 [MASK]. \\u0645\\u0645\\u0643\\u0646 \\u062a\\u062d\\u062f\\u062f \\u0648\\u0642\\u062a \\u0634\\u0647\\u0631\\u064a \\u062a\\u0628\\u0639\\u062a\\u0644\\u064a \\u0641\\u064a\\u0647 \\u0623\\u062d\\u062f\\u062b \\u0627\\u0644\\u0645\\u0642\\u0627\\u0644\\u0627\\u062a \\u0639\\u0644\\u0649 \\u0628\\u0631\\u064a\\u062f\\u064a \\u0627\\u0644\\u0625\\u0644\\u0643\\u062a\\u0631\\u0648\\u0646\\u064a\\u061f \\u0648\\u0643\\u0645\\u0627\\u0646\\u060c \\u0645\\u0645\\u0643\\u0646 \\u062a\\u0634\\u0648\\u0641 \\u0625\\u0645\\u0643\\u0627\\u0646\\u064a\\u0629 \\u0646\\u0634\\u0631 \\u0645\\u0642\\u0627\\u0644\\u0627\\u062a\\u0643 \\u0641\\u064a \\u0645\\u062c\\u0644\\u0629 \\u0645\\u0637\\u0628\\u0648\\u0639\\u0629 \\u0641\\u064a [MASK]\\u061f\",\n          \"\\u0646\\u062d\\u0646 \\u0646\\u062d\\u062a\\u0631\\u0645 \\u0633\\u0631\\u064a\\u0629 \\u0627\\u0644\\u0645\\u0634\\u0627\\u0631\\u0643\\u064a\\u0646 \\u0644\\u062f\\u064a\\u0646\\u0627 \\u0648\\u0633\\u064a\\u062a\\u0645 \\u0627\\u0644\\u062d\\u0641\\u0627\\u0638 \\u0639\\u0644\\u0649 \\u062e\\u0635\\u0648\\u0635\\u064a\\u062a\\u0647\\u0645. \\u0625\\u0630\\u0627 \\u0643\\u0646\\u062a \\u062a\\u0631\\u063a\\u0628 \\u0641\\u064a \\u0627\\u0644\\u0628\\u0642\\u0627\\u0621 \\u0645\\u062c\\u0647\\u0648\\u0644\\u064b\\u0627 \\u062e\\u0644\\u0627\\u0644 \\u0627\\u0644\\u062c\\u0644\\u0633\\u0629\\u060c \\u064a\\u0631\\u062c\\u0649 \\u0627\\u0633\\u062a\\u062e\\u062f\\u0627\\u0645 \\u0631\\u0645\\u0632 \\u0627\\u0644\\u0645\\u0631\\u0648\\u0631 [MASK]. \\u0644\\u0646\\u0642\\u0644 \\u0647\\u0630\\u0627 \\u0627\\u0644\\u0631\\u0645\\u0632 \\u0628\\u0634\\u0643\\u0644 \\u0622\\u0645\\u0646\\u060c \\u0646\\u0642\\u062a\\u0631\\u062d \\u0627\\u0633\\u062a\\u062e\\u062f\\u0627\\u0645 \\u062e\\u062f\\u0645\\u0629 \\u0627\\u0644\\u0631\\u0633\\u0627\\u0626\\u0644 \\u0627\\u0644\\u0622\\u0645\\u0646\\u0629 \\u0627\\u0644\\u062e\\u0627\\u0635\\u0629 \\u0628\\u0646\\u0627 \\u0627\\u0644\\u0645\\u0648\\u062c\\u0648\\u062f\\u0629 \\u0639\\u0644\\u0649 [MASK].\",\n          \"\\u0627\\u0646\\u062a\\u0628\\u0627\\u0647\\u0643 \\u0636\\u0631\\u0648\\u0631\\u064a \\u0628\\u062e\\u0635\\u0648\\u0635 \\u0627\\u0646\\u062a\\u0647\\u0627\\u0643 \\u0644\\u0644\\u0642\\u0627\\u0646\\u0648\\u0646 \\u0627\\u0644\\u062f\\u0648\\u0644\\u064a \\u0641\\u064a \\u0627\\u0644\\u0641\\u0636\\u0627\\u0621 \\u0627\\u0644\\u0625\\u0644\\u0643\\u062a\\u0631\\u0648\\u0646\\u064a \\u062c\\u0627\\u064a \\u0645\\u0646 \\u0639\\u0646\\u0648\\u0627\\u0646 IP [MASK]. \\u0628\\u0635\\u0641\\u062a\\u0643 \\u0627\\u0644\\u0645\\u0646\\u062a\\u062c \\u0627\\u0644\\u0645\\u0628\\u0627\\u0634\\u0631 \\u0644\\u0644\\u0627\\u0633\\u062a\\u062e\\u062f\\u0627\\u0645\\u060c \\u0645\\u062f\\u062e\\u0644\\u0627\\u062a\\u0643 \\u0648\\u0625\\u062c\\u0631\\u0627\\u0621\\u0627\\u062a\\u0643 \\u0645\\u0647\\u0645\\u0629 \\u062c\\u062f\\u0627\\u064b.\"\n        ],\n        \"semantic_type\": \"\",\n        \"description\": \"\"\n      }\n    },\n    {\n      \"column\": \"dialect\",\n      \"properties\": {\n        \"dtype\": \"category\",\n        \"num_unique_values\": 4,\n        \"samples\": [\n          \"SAUDI\",\n          \"MSA\",\n          \"EGYPT\"\n        ],\n        \"semantic_type\": \"\",\n        \"description\": \"\"\n      }\n    }\n  ]\n}"
            }
          },
          "metadata": {},
          "execution_count": 10
        }
      ]
    },
    {
      "cell_type": "markdown",
      "source": [
        "### Train data\n",
        "- Created by Mosaab"
      ],
      "metadata": {
        "id": "Rc7U_0COLFBs"
      }
    },
    {
      "cell_type": "code",
      "source": [
        "from google.colab import drive\n",
        "import random"
      ],
      "metadata": {
        "id": "nSbGSaxnLEcb"
      },
      "execution_count": 2,
      "outputs": []
    },
    {
      "cell_type": "code",
      "source": [
        "drive.mount('/content/drive')"
      ],
      "metadata": {
        "id": "lf2iWcP3dK3X",
        "colab": {
          "base_uri": "https://localhost:8080/"
        },
        "outputId": "18bc08b0-9338-4e1d-8383-19e21020489d"
      },
      "execution_count": 3,
      "outputs": [
        {
          "output_type": "stream",
          "name": "stdout",
          "text": [
            "Mounted at /content/drive\n"
          ]
        }
      ]
    },
    {
      "cell_type": "code",
      "source": [
        "data_path = \"/content/drive/MyDrive/Colab Notebooks/ArabicPIIRedaction/data/ar_dataset_translated_fixed.csv\"\n",
        "\n",
        "train = pd.read_csv(data_path)"
      ],
      "metadata": {
        "id": "CMW4N-ORNfzY"
      },
      "execution_count": 4,
      "outputs": []
    },
    {
      "cell_type": "code",
      "source": [
        "train.drop([\"Unnamed: 0\",'lang'], axis=1, inplace=True)\n",
        "print(len(train))\n",
        "train.head()"
      ],
      "metadata": {
        "colab": {
          "base_uri": "https://localhost:8080/",
          "height": 345
        },
        "id": "5VXlg-xXcADE",
        "outputId": "92b03d04-c4c0-4032-a16b-22f27c179bfd"
      },
      "execution_count": 5,
      "outputs": [
        {
          "output_type": "stream",
          "name": "stdout",
          "text": [
            "209261\n"
          ]
        },
        {
          "output_type": "execute_result",
          "data": {
            "text/plain": [
              "                                              source  \\\n",
              "0  مرحبًا <!FIRSTNAME_1!> Johan </!FIRSTNAME_1!> ...   \n",
              "1  نحن نقوم بمراجعة القضية التي رفعها <!FIRSTNAME...   \n",
              "2  بسبب اتفاقية السرية، لا يمكن للمريضة <!SEX_1!>...   \n",
              "3  عزيزي ولي الأمر، يلزم الحصول على إذن في <!DATE...   \n",
              "4  تنظيم اجتماع حول <!AGE_1!> 7 سنوات </!AGE_1!> ...   \n",
              "\n",
              "                                              tokens  \\\n",
              "0  ['مرحبا', 'Johan', 'Walker', '،', 'إشعار', 'ال...   \n",
              "1  ['نحن', 'نقوم', 'بمراجعة', 'القضية', 'التي', '...   \n",
              "2  ['بسبب', 'اتفاقية', 'السرية', '،', 'لا', 'يمكن...   \n",
              "3  ['عزيزي', 'ولي', 'الأمر', '،', 'يلزم', 'الحصول...   \n",
              "4  ['تنظيم', 'اجتماع', 'حول', '7', 'سنوات', '(', ...   \n",
              "\n",
              "                                                tags  \\\n",
              "0  ['O', 'B-FIRSTNAME', 'B-LASTNAME', 'O', 'O', '...   \n",
              "1  ['O', 'O', 'O', 'O', 'O', 'O', 'B-FIRSTNAME', ...   \n",
              "2  ['O', 'O', 'O', 'O', 'O', 'O', 'O', 'B-SEX', '...   \n",
              "3  ['O', 'O', 'O', 'O', 'O', 'O', 'O', 'O', 'O', ...   \n",
              "4  ['O', 'O', 'O', 'B-AGE', 'I-AGE', 'O', 'B-GEND...   \n",
              "\n",
              "                                        clean_source  \n",
              "0  مرحبا Johan Walker، إشعار الامتثال: تتطلب التغ...  \n",
              "1  نحن نقوم بمراجعة القضية التي رفعها كادي شوبي ب...  \n",
              "2  بسبب اتفاقية السرية، لا يمكن للمريضة أنثى الدر...  \n",
              "3  عزيزي ولي الأمر، يلزم الحصول على إذن في 2018-0...  \n",
              "4  تنظيم اجتماع حول 7 سنوات (Genderqueer) وسلامة ...  "
            ],
            "text/html": [
              "\n",
              "  <div id=\"df-cb41ee19-96cf-4b03-94bf-783f5b55a633\" class=\"colab-df-container\">\n",
              "    <div>\n",
              "<style scoped>\n",
              "    .dataframe tbody tr th:only-of-type {\n",
              "        vertical-align: middle;\n",
              "    }\n",
              "\n",
              "    .dataframe tbody tr th {\n",
              "        vertical-align: top;\n",
              "    }\n",
              "\n",
              "    .dataframe thead th {\n",
              "        text-align: right;\n",
              "    }\n",
              "</style>\n",
              "<table border=\"1\" class=\"dataframe\">\n",
              "  <thead>\n",
              "    <tr style=\"text-align: right;\">\n",
              "      <th></th>\n",
              "      <th>source</th>\n",
              "      <th>tokens</th>\n",
              "      <th>tags</th>\n",
              "      <th>clean_source</th>\n",
              "    </tr>\n",
              "  </thead>\n",
              "  <tbody>\n",
              "    <tr>\n",
              "      <th>0</th>\n",
              "      <td>مرحبًا &lt;!FIRSTNAME_1!&gt; Johan &lt;/!FIRSTNAME_1!&gt; ...</td>\n",
              "      <td>['مرحبا', 'Johan', 'Walker', '،', 'إشعار', 'ال...</td>\n",
              "      <td>['O', 'B-FIRSTNAME', 'B-LASTNAME', 'O', 'O', '...</td>\n",
              "      <td>مرحبا Johan Walker، إشعار الامتثال: تتطلب التغ...</td>\n",
              "    </tr>\n",
              "    <tr>\n",
              "      <th>1</th>\n",
              "      <td>نحن نقوم بمراجعة القضية التي رفعها &lt;!FIRSTNAME...</td>\n",
              "      <td>['نحن', 'نقوم', 'بمراجعة', 'القضية', 'التي', '...</td>\n",
              "      <td>['O', 'O', 'O', 'O', 'O', 'O', 'B-FIRSTNAME', ...</td>\n",
              "      <td>نحن نقوم بمراجعة القضية التي رفعها كادي شوبي ب...</td>\n",
              "    </tr>\n",
              "    <tr>\n",
              "      <th>2</th>\n",
              "      <td>بسبب اتفاقية السرية، لا يمكن للمريضة &lt;!SEX_1!&gt;...</td>\n",
              "      <td>['بسبب', 'اتفاقية', 'السرية', '،', 'لا', 'يمكن...</td>\n",
              "      <td>['O', 'O', 'O', 'O', 'O', 'O', 'O', 'B-SEX', '...</td>\n",
              "      <td>بسبب اتفاقية السرية، لا يمكن للمريضة أنثى الدر...</td>\n",
              "    </tr>\n",
              "    <tr>\n",
              "      <th>3</th>\n",
              "      <td>عزيزي ولي الأمر، يلزم الحصول على إذن في &lt;!DATE...</td>\n",
              "      <td>['عزيزي', 'ولي', 'الأمر', '،', 'يلزم', 'الحصول...</td>\n",
              "      <td>['O', 'O', 'O', 'O', 'O', 'O', 'O', 'O', 'O', ...</td>\n",
              "      <td>عزيزي ولي الأمر، يلزم الحصول على إذن في 2018-0...</td>\n",
              "    </tr>\n",
              "    <tr>\n",
              "      <th>4</th>\n",
              "      <td>تنظيم اجتماع حول &lt;!AGE_1!&gt; 7 سنوات &lt;/!AGE_1!&gt; ...</td>\n",
              "      <td>['تنظيم', 'اجتماع', 'حول', '7', 'سنوات', '(', ...</td>\n",
              "      <td>['O', 'O', 'O', 'B-AGE', 'I-AGE', 'O', 'B-GEND...</td>\n",
              "      <td>تنظيم اجتماع حول 7 سنوات (Genderqueer) وسلامة ...</td>\n",
              "    </tr>\n",
              "  </tbody>\n",
              "</table>\n",
              "</div>\n",
              "    <div class=\"colab-df-buttons\">\n",
              "\n",
              "  <div class=\"colab-df-container\">\n",
              "    <button class=\"colab-df-convert\" onclick=\"convertToInteractive('df-cb41ee19-96cf-4b03-94bf-783f5b55a633')\"\n",
              "            title=\"Convert this dataframe to an interactive table.\"\n",
              "            style=\"display:none;\">\n",
              "\n",
              "  <svg xmlns=\"http://www.w3.org/2000/svg\" height=\"24px\" viewBox=\"0 -960 960 960\">\n",
              "    <path d=\"M120-120v-720h720v720H120Zm60-500h600v-160H180v160Zm220 220h160v-160H400v160Zm0 220h160v-160H400v160ZM180-400h160v-160H180v160Zm440 0h160v-160H620v160ZM180-180h160v-160H180v160Zm440 0h160v-160H620v160Z\"/>\n",
              "  </svg>\n",
              "    </button>\n",
              "\n",
              "  <style>\n",
              "    .colab-df-container {\n",
              "      display:flex;\n",
              "      gap: 12px;\n",
              "    }\n",
              "\n",
              "    .colab-df-convert {\n",
              "      background-color: #E8F0FE;\n",
              "      border: none;\n",
              "      border-radius: 50%;\n",
              "      cursor: pointer;\n",
              "      display: none;\n",
              "      fill: #1967D2;\n",
              "      height: 32px;\n",
              "      padding: 0 0 0 0;\n",
              "      width: 32px;\n",
              "    }\n",
              "\n",
              "    .colab-df-convert:hover {\n",
              "      background-color: #E2EBFA;\n",
              "      box-shadow: 0px 1px 2px rgba(60, 64, 67, 0.3), 0px 1px 3px 1px rgba(60, 64, 67, 0.15);\n",
              "      fill: #174EA6;\n",
              "    }\n",
              "\n",
              "    .colab-df-buttons div {\n",
              "      margin-bottom: 4px;\n",
              "    }\n",
              "\n",
              "    [theme=dark] .colab-df-convert {\n",
              "      background-color: #3B4455;\n",
              "      fill: #D2E3FC;\n",
              "    }\n",
              "\n",
              "    [theme=dark] .colab-df-convert:hover {\n",
              "      background-color: #434B5C;\n",
              "      box-shadow: 0px 1px 3px 1px rgba(0, 0, 0, 0.15);\n",
              "      filter: drop-shadow(0px 1px 2px rgba(0, 0, 0, 0.3));\n",
              "      fill: #FFFFFF;\n",
              "    }\n",
              "  </style>\n",
              "\n",
              "    <script>\n",
              "      const buttonEl =\n",
              "        document.querySelector('#df-cb41ee19-96cf-4b03-94bf-783f5b55a633 button.colab-df-convert');\n",
              "      buttonEl.style.display =\n",
              "        google.colab.kernel.accessAllowed ? 'block' : 'none';\n",
              "\n",
              "      async function convertToInteractive(key) {\n",
              "        const element = document.querySelector('#df-cb41ee19-96cf-4b03-94bf-783f5b55a633');\n",
              "        const dataTable =\n",
              "          await google.colab.kernel.invokeFunction('convertToInteractive',\n",
              "                                                    [key], {});\n",
              "        if (!dataTable) return;\n",
              "\n",
              "        const docLinkHtml = 'Like what you see? Visit the ' +\n",
              "          '<a target=\"_blank\" href=https://colab.research.google.com/notebooks/data_table.ipynb>data table notebook</a>'\n",
              "          + ' to learn more about interactive tables.';\n",
              "        element.innerHTML = '';\n",
              "        dataTable['output_type'] = 'display_data';\n",
              "        await google.colab.output.renderOutput(dataTable, element);\n",
              "        const docLink = document.createElement('div');\n",
              "        docLink.innerHTML = docLinkHtml;\n",
              "        element.appendChild(docLink);\n",
              "      }\n",
              "    </script>\n",
              "  </div>\n",
              "\n",
              "\n",
              "    <div id=\"df-f48138c4-eae6-4b9c-a7db-4f7ad5bb70e8\">\n",
              "      <button class=\"colab-df-quickchart\" onclick=\"quickchart('df-f48138c4-eae6-4b9c-a7db-4f7ad5bb70e8')\"\n",
              "                title=\"Suggest charts\"\n",
              "                style=\"display:none;\">\n",
              "\n",
              "<svg xmlns=\"http://www.w3.org/2000/svg\" height=\"24px\"viewBox=\"0 0 24 24\"\n",
              "     width=\"24px\">\n",
              "    <g>\n",
              "        <path d=\"M19 3H5c-1.1 0-2 .9-2 2v14c0 1.1.9 2 2 2h14c1.1 0 2-.9 2-2V5c0-1.1-.9-2-2-2zM9 17H7v-7h2v7zm4 0h-2V7h2v10zm4 0h-2v-4h2v4z\"/>\n",
              "    </g>\n",
              "</svg>\n",
              "      </button>\n",
              "\n",
              "<style>\n",
              "  .colab-df-quickchart {\n",
              "      --bg-color: #E8F0FE;\n",
              "      --fill-color: #1967D2;\n",
              "      --hover-bg-color: #E2EBFA;\n",
              "      --hover-fill-color: #174EA6;\n",
              "      --disabled-fill-color: #AAA;\n",
              "      --disabled-bg-color: #DDD;\n",
              "  }\n",
              "\n",
              "  [theme=dark] .colab-df-quickchart {\n",
              "      --bg-color: #3B4455;\n",
              "      --fill-color: #D2E3FC;\n",
              "      --hover-bg-color: #434B5C;\n",
              "      --hover-fill-color: #FFFFFF;\n",
              "      --disabled-bg-color: #3B4455;\n",
              "      --disabled-fill-color: #666;\n",
              "  }\n",
              "\n",
              "  .colab-df-quickchart {\n",
              "    background-color: var(--bg-color);\n",
              "    border: none;\n",
              "    border-radius: 50%;\n",
              "    cursor: pointer;\n",
              "    display: none;\n",
              "    fill: var(--fill-color);\n",
              "    height: 32px;\n",
              "    padding: 0;\n",
              "    width: 32px;\n",
              "  }\n",
              "\n",
              "  .colab-df-quickchart:hover {\n",
              "    background-color: var(--hover-bg-color);\n",
              "    box-shadow: 0 1px 2px rgba(60, 64, 67, 0.3), 0 1px 3px 1px rgba(60, 64, 67, 0.15);\n",
              "    fill: var(--button-hover-fill-color);\n",
              "  }\n",
              "\n",
              "  .colab-df-quickchart-complete:disabled,\n",
              "  .colab-df-quickchart-complete:disabled:hover {\n",
              "    background-color: var(--disabled-bg-color);\n",
              "    fill: var(--disabled-fill-color);\n",
              "    box-shadow: none;\n",
              "  }\n",
              "\n",
              "  .colab-df-spinner {\n",
              "    border: 2px solid var(--fill-color);\n",
              "    border-color: transparent;\n",
              "    border-bottom-color: var(--fill-color);\n",
              "    animation:\n",
              "      spin 1s steps(1) infinite;\n",
              "  }\n",
              "\n",
              "  @keyframes spin {\n",
              "    0% {\n",
              "      border-color: transparent;\n",
              "      border-bottom-color: var(--fill-color);\n",
              "      border-left-color: var(--fill-color);\n",
              "    }\n",
              "    20% {\n",
              "      border-color: transparent;\n",
              "      border-left-color: var(--fill-color);\n",
              "      border-top-color: var(--fill-color);\n",
              "    }\n",
              "    30% {\n",
              "      border-color: transparent;\n",
              "      border-left-color: var(--fill-color);\n",
              "      border-top-color: var(--fill-color);\n",
              "      border-right-color: var(--fill-color);\n",
              "    }\n",
              "    40% {\n",
              "      border-color: transparent;\n",
              "      border-right-color: var(--fill-color);\n",
              "      border-top-color: var(--fill-color);\n",
              "    }\n",
              "    60% {\n",
              "      border-color: transparent;\n",
              "      border-right-color: var(--fill-color);\n",
              "    }\n",
              "    80% {\n",
              "      border-color: transparent;\n",
              "      border-right-color: var(--fill-color);\n",
              "      border-bottom-color: var(--fill-color);\n",
              "    }\n",
              "    90% {\n",
              "      border-color: transparent;\n",
              "      border-bottom-color: var(--fill-color);\n",
              "    }\n",
              "  }\n",
              "</style>\n",
              "\n",
              "      <script>\n",
              "        async function quickchart(key) {\n",
              "          const quickchartButtonEl =\n",
              "            document.querySelector('#' + key + ' button');\n",
              "          quickchartButtonEl.disabled = true;  // To prevent multiple clicks.\n",
              "          quickchartButtonEl.classList.add('colab-df-spinner');\n",
              "          try {\n",
              "            const charts = await google.colab.kernel.invokeFunction(\n",
              "                'suggestCharts', [key], {});\n",
              "          } catch (error) {\n",
              "            console.error('Error during call to suggestCharts:', error);\n",
              "          }\n",
              "          quickchartButtonEl.classList.remove('colab-df-spinner');\n",
              "          quickchartButtonEl.classList.add('colab-df-quickchart-complete');\n",
              "        }\n",
              "        (() => {\n",
              "          let quickchartButtonEl =\n",
              "            document.querySelector('#df-f48138c4-eae6-4b9c-a7db-4f7ad5bb70e8 button');\n",
              "          quickchartButtonEl.style.display =\n",
              "            google.colab.kernel.accessAllowed ? 'block' : 'none';\n",
              "        })();\n",
              "      </script>\n",
              "    </div>\n",
              "\n",
              "    </div>\n",
              "  </div>\n"
            ],
            "application/vnd.google.colaboratory.intrinsic+json": {
              "type": "dataframe",
              "variable_name": "train"
            }
          },
          "metadata": {},
          "execution_count": 5
        }
      ]
    },
    {
      "cell_type": "code",
      "source": [
        "idx = random.randint(0, len(train))\n",
        "idx"
      ],
      "metadata": {
        "colab": {
          "base_uri": "https://localhost:8080/"
        },
        "id": "cP_-UOWLdGiY",
        "outputId": "162ac235-147a-436c-c99a-45a5cdc06101"
      },
      "execution_count": 6,
      "outputs": [
        {
          "output_type": "execute_result",
          "data": {
            "text/plain": [
              "127602"
            ]
          },
          "metadata": {},
          "execution_count": 6
        }
      ]
    },
    {
      "cell_type": "code",
      "source": [
        "print(train.tokens[idx])\n",
        "print(train.tags[idx])\n",
        "print(len(train.tokens[idx]))\n",
        "print(len(train.tags[idx]))"
      ],
      "metadata": {
        "colab": {
          "base_uri": "https://localhost:8080/"
        },
        "id": "cOTox6jAdT_z",
        "outputId": "5c0b64ec-7e04-470f-83ff-2a8e0cc2c7c6"
      },
      "execution_count": null,
      "outputs": [
        {
          "output_type": "stream",
          "name": "stdout",
          "text": [
            "['بالنسبة', 'للطلاب', 'ذوي', 'الإعاقة', 'البصرية', '،', 'يتم', 'توفير', 'خدمات', 'خاصة', 'من', 'قبل', 'Paradigm', '.', 'يرجى', 'الإشارة', 'إلى', 'ذلك', 'في', '02', '/', '09', '/', '1904', '.']\n",
            "['O', 'O', 'O', 'O', 'O', 'O', 'O', 'O', 'O', 'O', 'O', 'O', 'O', 'O', 'O', 'O', 'O', 'O', 'O', 'B-DOB', 'I-DOB', 'I-DOB', 'I-DOB', 'I-DOB', 'O']\n",
            "192\n",
            "145\n"
          ]
        }
      ]
    },
    {
      "cell_type": "markdown",
      "source": [
        "##### Cleaning and preprocessing"
      ],
      "metadata": {
        "id": "COAdxUm1jBNf"
      }
    },
    {
      "cell_type": "markdown",
      "source": [
        "##### Convert tokens and tags columns to lists"
      ],
      "metadata": {
        "id": "HMSQTfbmetSY"
      }
    },
    {
      "cell_type": "code",
      "source": [
        "import re\n",
        "import ast"
      ],
      "metadata": {
        "id": "dN-wNjnGimQX"
      },
      "execution_count": 9,
      "outputs": []
    },
    {
      "cell_type": "code",
      "source": [
        "tokens_list = ast.literal_eval(train.tokens[idx])\n",
        "print(tokens_list)\n",
        "print(type(tokens_list), len(tokens_list))\n",
        "\n",
        "tags_list = ast.literal_eval(train.tags[idx])\n",
        "print(tags_list)\n",
        "print(type(tags_list), len(tags_list))"
      ],
      "metadata": {
        "colab": {
          "base_uri": "https://localhost:8080/"
        },
        "id": "3bLD3jmHe0NH",
        "outputId": "95abb257-7e50-4905-a108-5ff91c3cea50"
      },
      "execution_count": 11,
      "outputs": [
        {
          "output_type": "stream",
          "name": "stdout",
          "text": [
            "['مرحبا', 'جينو', '،', 'لحماية', 'خصوصيتك', 'أثناء', 'المسابقات', 'الأكاديمية', '،', 'سوف', 'نتصل', 'بك', 'باسمك', 'الرمزي', 'Travon_Wintheiser', '@', 'hotmail', '.', 'com', '.', 'سيتم', 'استخدام', 'هذا', 'في', 'جميع', 'اتصالاتنا', '.']\n",
            "<class 'list'> 27\n",
            "['O', 'B-FIRSTNAME', 'O', 'O', 'O', 'O', 'O', 'O', 'O', 'O', 'O', 'O', 'O', 'O', 'B-EMAIL', 'I-EMAIL', 'I-EMAIL', 'I-EMAIL', 'I-EMAIL', 'O', 'O', 'O', 'O', 'O', 'O', 'O', 'O']\n",
            "<class 'list'> 27\n"
          ]
        }
      ]
    },
    {
      "cell_type": "code",
      "source": [
        "train['tokens'] = train[\"tokens\"].apply(ast.literal_eval)\n",
        "train['tags'] = train['tags'].apply(ast.literal_eval)"
      ],
      "metadata": {
        "id": "4JHYoNc5eyeQ"
      },
      "execution_count": 12,
      "outputs": []
    },
    {
      "cell_type": "code",
      "source": [
        "train.head()"
      ],
      "metadata": {
        "id": "Fsn26ncVimAc",
        "colab": {
          "base_uri": "https://localhost:8080/",
          "height": 380
        },
        "outputId": "ffa026fc-5122-49c0-8415-f572ab7dedf5"
      },
      "execution_count": 13,
      "outputs": [
        {
          "output_type": "execute_result",
          "data": {
            "text/plain": [
              "                                              source  \\\n",
              "0  مرحبًا <!FIRSTNAME_1!> Johan </!FIRSTNAME_1!> ...   \n",
              "1  نحن نقوم بمراجعة القضية التي رفعها <!FIRSTNAME...   \n",
              "2  بسبب اتفاقية السرية، لا يمكن للمريضة <!SEX_1!>...   \n",
              "3  عزيزي ولي الأمر، يلزم الحصول على إذن في <!DATE...   \n",
              "4  تنظيم اجتماع حول <!AGE_1!> 7 سنوات </!AGE_1!> ...   \n",
              "\n",
              "                                              tokens  \\\n",
              "0  [مرحبا, Johan, Walker, ،, إشعار, الامتثال, :, ...   \n",
              "1  [نحن, نقوم, بمراجعة, القضية, التي, رفعها, كادي...   \n",
              "2  [بسبب, اتفاقية, السرية, ،, لا, يمكن, للمريضة, ...   \n",
              "3  [عزيزي, ولي, الأمر, ،, يلزم, الحصول, على, إذن,...   \n",
              "4  [تنظيم, اجتماع, حول, 7, سنوات, (, Genderqueer,...   \n",
              "\n",
              "                                                tags  \\\n",
              "0  [O, B-FIRSTNAME, B-LASTNAME, O, O, O, O, O, O,...   \n",
              "1  [O, O, O, O, O, O, B-FIRSTNAME, B-LASTNAME, O,...   \n",
              "2  [O, O, O, O, O, O, O, B-SEX, O, O, O, B-PREFIX...   \n",
              "3  [O, O, O, O, O, O, O, O, O, B-DATE, I-DATE, I-...   \n",
              "4  [O, O, O, B-AGE, I-AGE, O, B-GENDER, O, O, O, ...   \n",
              "\n",
              "                                        clean_source  \n",
              "0  مرحبا Johan Walker، إشعار الامتثال: تتطلب التغ...  \n",
              "1  نحن نقوم بمراجعة القضية التي رفعها كادي شوبي ب...  \n",
              "2  بسبب اتفاقية السرية، لا يمكن للمريضة أنثى الدر...  \n",
              "3  عزيزي ولي الأمر، يلزم الحصول على إذن في 2018-0...  \n",
              "4  تنظيم اجتماع حول 7 سنوات (Genderqueer) وسلامة ...  "
            ],
            "text/html": [
              "\n",
              "  <div id=\"df-43164fc7-cd38-4ba3-a6cc-499e91c13b5f\" class=\"colab-df-container\">\n",
              "    <div>\n",
              "<style scoped>\n",
              "    .dataframe tbody tr th:only-of-type {\n",
              "        vertical-align: middle;\n",
              "    }\n",
              "\n",
              "    .dataframe tbody tr th {\n",
              "        vertical-align: top;\n",
              "    }\n",
              "\n",
              "    .dataframe thead th {\n",
              "        text-align: right;\n",
              "    }\n",
              "</style>\n",
              "<table border=\"1\" class=\"dataframe\">\n",
              "  <thead>\n",
              "    <tr style=\"text-align: right;\">\n",
              "      <th></th>\n",
              "      <th>source</th>\n",
              "      <th>tokens</th>\n",
              "      <th>tags</th>\n",
              "      <th>clean_source</th>\n",
              "    </tr>\n",
              "  </thead>\n",
              "  <tbody>\n",
              "    <tr>\n",
              "      <th>0</th>\n",
              "      <td>مرحبًا &lt;!FIRSTNAME_1!&gt; Johan &lt;/!FIRSTNAME_1!&gt; ...</td>\n",
              "      <td>[مرحبا, Johan, Walker, ،, إشعار, الامتثال, :, ...</td>\n",
              "      <td>[O, B-FIRSTNAME, B-LASTNAME, O, O, O, O, O, O,...</td>\n",
              "      <td>مرحبا Johan Walker، إشعار الامتثال: تتطلب التغ...</td>\n",
              "    </tr>\n",
              "    <tr>\n",
              "      <th>1</th>\n",
              "      <td>نحن نقوم بمراجعة القضية التي رفعها &lt;!FIRSTNAME...</td>\n",
              "      <td>[نحن, نقوم, بمراجعة, القضية, التي, رفعها, كادي...</td>\n",
              "      <td>[O, O, O, O, O, O, B-FIRSTNAME, B-LASTNAME, O,...</td>\n",
              "      <td>نحن نقوم بمراجعة القضية التي رفعها كادي شوبي ب...</td>\n",
              "    </tr>\n",
              "    <tr>\n",
              "      <th>2</th>\n",
              "      <td>بسبب اتفاقية السرية، لا يمكن للمريضة &lt;!SEX_1!&gt;...</td>\n",
              "      <td>[بسبب, اتفاقية, السرية, ،, لا, يمكن, للمريضة, ...</td>\n",
              "      <td>[O, O, O, O, O, O, O, B-SEX, O, O, O, B-PREFIX...</td>\n",
              "      <td>بسبب اتفاقية السرية، لا يمكن للمريضة أنثى الدر...</td>\n",
              "    </tr>\n",
              "    <tr>\n",
              "      <th>3</th>\n",
              "      <td>عزيزي ولي الأمر، يلزم الحصول على إذن في &lt;!DATE...</td>\n",
              "      <td>[عزيزي, ولي, الأمر, ،, يلزم, الحصول, على, إذن,...</td>\n",
              "      <td>[O, O, O, O, O, O, O, O, O, B-DATE, I-DATE, I-...</td>\n",
              "      <td>عزيزي ولي الأمر، يلزم الحصول على إذن في 2018-0...</td>\n",
              "    </tr>\n",
              "    <tr>\n",
              "      <th>4</th>\n",
              "      <td>تنظيم اجتماع حول &lt;!AGE_1!&gt; 7 سنوات &lt;/!AGE_1!&gt; ...</td>\n",
              "      <td>[تنظيم, اجتماع, حول, 7, سنوات, (, Genderqueer,...</td>\n",
              "      <td>[O, O, O, B-AGE, I-AGE, O, B-GENDER, O, O, O, ...</td>\n",
              "      <td>تنظيم اجتماع حول 7 سنوات (Genderqueer) وسلامة ...</td>\n",
              "    </tr>\n",
              "  </tbody>\n",
              "</table>\n",
              "</div>\n",
              "    <div class=\"colab-df-buttons\">\n",
              "\n",
              "  <div class=\"colab-df-container\">\n",
              "    <button class=\"colab-df-convert\" onclick=\"convertToInteractive('df-43164fc7-cd38-4ba3-a6cc-499e91c13b5f')\"\n",
              "            title=\"Convert this dataframe to an interactive table.\"\n",
              "            style=\"display:none;\">\n",
              "\n",
              "  <svg xmlns=\"http://www.w3.org/2000/svg\" height=\"24px\" viewBox=\"0 -960 960 960\">\n",
              "    <path d=\"M120-120v-720h720v720H120Zm60-500h600v-160H180v160Zm220 220h160v-160H400v160Zm0 220h160v-160H400v160ZM180-400h160v-160H180v160Zm440 0h160v-160H620v160ZM180-180h160v-160H180v160Zm440 0h160v-160H620v160Z\"/>\n",
              "  </svg>\n",
              "    </button>\n",
              "\n",
              "  <style>\n",
              "    .colab-df-container {\n",
              "      display:flex;\n",
              "      gap: 12px;\n",
              "    }\n",
              "\n",
              "    .colab-df-convert {\n",
              "      background-color: #E8F0FE;\n",
              "      border: none;\n",
              "      border-radius: 50%;\n",
              "      cursor: pointer;\n",
              "      display: none;\n",
              "      fill: #1967D2;\n",
              "      height: 32px;\n",
              "      padding: 0 0 0 0;\n",
              "      width: 32px;\n",
              "    }\n",
              "\n",
              "    .colab-df-convert:hover {\n",
              "      background-color: #E2EBFA;\n",
              "      box-shadow: 0px 1px 2px rgba(60, 64, 67, 0.3), 0px 1px 3px 1px rgba(60, 64, 67, 0.15);\n",
              "      fill: #174EA6;\n",
              "    }\n",
              "\n",
              "    .colab-df-buttons div {\n",
              "      margin-bottom: 4px;\n",
              "    }\n",
              "\n",
              "    [theme=dark] .colab-df-convert {\n",
              "      background-color: #3B4455;\n",
              "      fill: #D2E3FC;\n",
              "    }\n",
              "\n",
              "    [theme=dark] .colab-df-convert:hover {\n",
              "      background-color: #434B5C;\n",
              "      box-shadow: 0px 1px 3px 1px rgba(0, 0, 0, 0.15);\n",
              "      filter: drop-shadow(0px 1px 2px rgba(0, 0, 0, 0.3));\n",
              "      fill: #FFFFFF;\n",
              "    }\n",
              "  </style>\n",
              "\n",
              "    <script>\n",
              "      const buttonEl =\n",
              "        document.querySelector('#df-43164fc7-cd38-4ba3-a6cc-499e91c13b5f button.colab-df-convert');\n",
              "      buttonEl.style.display =\n",
              "        google.colab.kernel.accessAllowed ? 'block' : 'none';\n",
              "\n",
              "      async function convertToInteractive(key) {\n",
              "        const element = document.querySelector('#df-43164fc7-cd38-4ba3-a6cc-499e91c13b5f');\n",
              "        const dataTable =\n",
              "          await google.colab.kernel.invokeFunction('convertToInteractive',\n",
              "                                                    [key], {});\n",
              "        if (!dataTable) return;\n",
              "\n",
              "        const docLinkHtml = 'Like what you see? Visit the ' +\n",
              "          '<a target=\"_blank\" href=https://colab.research.google.com/notebooks/data_table.ipynb>data table notebook</a>'\n",
              "          + ' to learn more about interactive tables.';\n",
              "        element.innerHTML = '';\n",
              "        dataTable['output_type'] = 'display_data';\n",
              "        await google.colab.output.renderOutput(dataTable, element);\n",
              "        const docLink = document.createElement('div');\n",
              "        docLink.innerHTML = docLinkHtml;\n",
              "        element.appendChild(docLink);\n",
              "      }\n",
              "    </script>\n",
              "  </div>\n",
              "\n",
              "\n",
              "    <div id=\"df-3cedd0f2-8704-41bc-bbab-4f951e58f997\">\n",
              "      <button class=\"colab-df-quickchart\" onclick=\"quickchart('df-3cedd0f2-8704-41bc-bbab-4f951e58f997')\"\n",
              "                title=\"Suggest charts\"\n",
              "                style=\"display:none;\">\n",
              "\n",
              "<svg xmlns=\"http://www.w3.org/2000/svg\" height=\"24px\"viewBox=\"0 0 24 24\"\n",
              "     width=\"24px\">\n",
              "    <g>\n",
              "        <path d=\"M19 3H5c-1.1 0-2 .9-2 2v14c0 1.1.9 2 2 2h14c1.1 0 2-.9 2-2V5c0-1.1-.9-2-2-2zM9 17H7v-7h2v7zm4 0h-2V7h2v10zm4 0h-2v-4h2v4z\"/>\n",
              "    </g>\n",
              "</svg>\n",
              "      </button>\n",
              "\n",
              "<style>\n",
              "  .colab-df-quickchart {\n",
              "      --bg-color: #E8F0FE;\n",
              "      --fill-color: #1967D2;\n",
              "      --hover-bg-color: #E2EBFA;\n",
              "      --hover-fill-color: #174EA6;\n",
              "      --disabled-fill-color: #AAA;\n",
              "      --disabled-bg-color: #DDD;\n",
              "  }\n",
              "\n",
              "  [theme=dark] .colab-df-quickchart {\n",
              "      --bg-color: #3B4455;\n",
              "      --fill-color: #D2E3FC;\n",
              "      --hover-bg-color: #434B5C;\n",
              "      --hover-fill-color: #FFFFFF;\n",
              "      --disabled-bg-color: #3B4455;\n",
              "      --disabled-fill-color: #666;\n",
              "  }\n",
              "\n",
              "  .colab-df-quickchart {\n",
              "    background-color: var(--bg-color);\n",
              "    border: none;\n",
              "    border-radius: 50%;\n",
              "    cursor: pointer;\n",
              "    display: none;\n",
              "    fill: var(--fill-color);\n",
              "    height: 32px;\n",
              "    padding: 0;\n",
              "    width: 32px;\n",
              "  }\n",
              "\n",
              "  .colab-df-quickchart:hover {\n",
              "    background-color: var(--hover-bg-color);\n",
              "    box-shadow: 0 1px 2px rgba(60, 64, 67, 0.3), 0 1px 3px 1px rgba(60, 64, 67, 0.15);\n",
              "    fill: var(--button-hover-fill-color);\n",
              "  }\n",
              "\n",
              "  .colab-df-quickchart-complete:disabled,\n",
              "  .colab-df-quickchart-complete:disabled:hover {\n",
              "    background-color: var(--disabled-bg-color);\n",
              "    fill: var(--disabled-fill-color);\n",
              "    box-shadow: none;\n",
              "  }\n",
              "\n",
              "  .colab-df-spinner {\n",
              "    border: 2px solid var(--fill-color);\n",
              "    border-color: transparent;\n",
              "    border-bottom-color: var(--fill-color);\n",
              "    animation:\n",
              "      spin 1s steps(1) infinite;\n",
              "  }\n",
              "\n",
              "  @keyframes spin {\n",
              "    0% {\n",
              "      border-color: transparent;\n",
              "      border-bottom-color: var(--fill-color);\n",
              "      border-left-color: var(--fill-color);\n",
              "    }\n",
              "    20% {\n",
              "      border-color: transparent;\n",
              "      border-left-color: var(--fill-color);\n",
              "      border-top-color: var(--fill-color);\n",
              "    }\n",
              "    30% {\n",
              "      border-color: transparent;\n",
              "      border-left-color: var(--fill-color);\n",
              "      border-top-color: var(--fill-color);\n",
              "      border-right-color: var(--fill-color);\n",
              "    }\n",
              "    40% {\n",
              "      border-color: transparent;\n",
              "      border-right-color: var(--fill-color);\n",
              "      border-top-color: var(--fill-color);\n",
              "    }\n",
              "    60% {\n",
              "      border-color: transparent;\n",
              "      border-right-color: var(--fill-color);\n",
              "    }\n",
              "    80% {\n",
              "      border-color: transparent;\n",
              "      border-right-color: var(--fill-color);\n",
              "      border-bottom-color: var(--fill-color);\n",
              "    }\n",
              "    90% {\n",
              "      border-color: transparent;\n",
              "      border-bottom-color: var(--fill-color);\n",
              "    }\n",
              "  }\n",
              "</style>\n",
              "\n",
              "      <script>\n",
              "        async function quickchart(key) {\n",
              "          const quickchartButtonEl =\n",
              "            document.querySelector('#' + key + ' button');\n",
              "          quickchartButtonEl.disabled = true;  // To prevent multiple clicks.\n",
              "          quickchartButtonEl.classList.add('colab-df-spinner');\n",
              "          try {\n",
              "            const charts = await google.colab.kernel.invokeFunction(\n",
              "                'suggestCharts', [key], {});\n",
              "          } catch (error) {\n",
              "            console.error('Error during call to suggestCharts:', error);\n",
              "          }\n",
              "          quickchartButtonEl.classList.remove('colab-df-spinner');\n",
              "          quickchartButtonEl.classList.add('colab-df-quickchart-complete');\n",
              "        }\n",
              "        (() => {\n",
              "          let quickchartButtonEl =\n",
              "            document.querySelector('#df-3cedd0f2-8704-41bc-bbab-4f951e58f997 button');\n",
              "          quickchartButtonEl.style.display =\n",
              "            google.colab.kernel.accessAllowed ? 'block' : 'none';\n",
              "        })();\n",
              "      </script>\n",
              "    </div>\n",
              "\n",
              "    </div>\n",
              "  </div>\n"
            ],
            "application/vnd.google.colaboratory.intrinsic+json": {
              "type": "dataframe",
              "variable_name": "train"
            }
          },
          "metadata": {},
          "execution_count": 13
        }
      ]
    },
    {
      "cell_type": "code",
      "source": [
        "length_comparison_result = train.apply(lambda row: len(train.tokens) == len(train.tags), axis=1)\n",
        "print(f\"\\nNumber of rows with mismatching lengths: {sum(~length_comparison_result)}\")"
      ],
      "metadata": {
        "collapsed": true,
        "id": "m4vw380mj6wb",
        "colab": {
          "base_uri": "https://localhost:8080/"
        },
        "outputId": "d46784f5-3d94-4ea2-8c18-1db7635d0024"
      },
      "execution_count": 14,
      "outputs": [
        {
          "output_type": "stream",
          "name": "stdout",
          "text": [
            "\n",
            "Number of rows with mismatching lengths: 0\n"
          ]
        }
      ]
    },
    {
      "cell_type": "markdown",
      "source": [
        "---\n",
        "\n",
        "---\n",
        "\n",
        "\n",
        "\n",
        "---\n",
        "\n",
        "\n",
        "\n",
        "---\n",
        "\n"
      ],
      "metadata": {
        "id": "Fi0_pNdninid"
      }
    },
    {
      "cell_type": "markdown",
      "source": [
        "##### Use only the needed tags"
      ],
      "metadata": {
        "id": "sVWm53Nbu-ud"
      }
    },
    {
      "cell_type": "code",
      "source": [
        "tags_to_mask =  [\n",
        " 'EMAIL',\n",
        " 'IBAN',\n",
        " 'PERSONNAME',\n",
        " 'IPV6',\n",
        " 'MASKEDNUMBER',\n",
        " 'CREDITCARDNUMBER',\n",
        " 'LITECOINADDRESS',\n",
        " 'BIC',\n",
        " 'PHONENUMBER',\n",
        " 'ORDINALDIRECTION',\n",
        " 'VEHICLEVRM',\n",
        " 'CREDITCARDINUMBER',\n",
        " 'USERNAME',\n",
        " 'IPV4',\n",
        " 'PASSWORD',\n",
        " 'MAC',\n",
        " 'BITCOINADDRESS',\n",
        " 'SECONDARYADDRESS',\n",
        " 'CREDITCARDCVV',\n",
        " 'PHONEIMEI',\n",
        " 'ACCOUNTNAME',\n",
        " 'BUILDINGNUMBER',\n",
        " 'VEHICLEVIN',\n",
        " 'STREET',\n",
        " 'URL',\n",
        " 'IP',\n",
        " 'ZIPCODE',\n",
        " 'ACCOUNTNUMBER',\n",
        " 'FIRSTNAME',\n",
        " 'LASTNAME',\n",
        " 'MIDDLENAME',\n",
        " 'NEARBYGPSCOORDINATE',\n",
        " 'ETHEREUMADDRESS',\n",
        " 'PIN',\n",
        " 'SSN']"
      ],
      "metadata": {
        "id": "0QIMlSiacrFi"
      },
      "execution_count": null,
      "outputs": []
    },
    {
      "source": [
        "def mask_tags(tags_list, tags_to_mask):\n",
        "  \"\"\"Masks specified tags in a list.\n",
        "\n",
        "  Args:\n",
        "    tags_list: A list of tags.\n",
        "    tags_to_mask: A list of tags to be masked.\n",
        "\n",
        "  Returns:\n",
        "    A new list with the specified tags masked.\n",
        "  \"\"\"\n",
        "  masked_tags = []\n",
        "  for tag in tags_list:\n",
        "    if tag[2:] in tags_to_mask:\n",
        "      masked_tags.append(\"[MASKED]\")\n",
        "    else:\n",
        "      masked_tags.append(\"O\")\n",
        "  return masked_tags"
      ],
      "cell_type": "code",
      "metadata": {
        "id": "2BPXlhCOmSb-"
      },
      "execution_count": null,
      "outputs": []
    },
    {
      "cell_type": "code",
      "source": [
        "train['masked_tags'] = train['tags'].apply(lambda x: mask_tags(x, tags_to_mask))"
      ],
      "metadata": {
        "id": "FXM8oBrdmmtJ"
      },
      "execution_count": null,
      "outputs": []
    },
    {
      "cell_type": "code",
      "source": [
        "train['masked_tags'][5:11]"
      ],
      "metadata": {
        "colab": {
          "base_uri": "https://localhost:8080/",
          "height": 272
        },
        "id": "E9UF8OkFnb6K",
        "outputId": "6a37b1cd-1ebd-445c-ec03-851afc0261c8"
      },
      "execution_count": null,
      "outputs": [
        {
          "output_type": "execute_result",
          "data": {
            "text/plain": [
              "5     [O, [MASKED], O, O, O, O, O, O, O, O, O, O, [M...\n",
              "6     [O, O, O, O, O, O, O, O, O, O, O, O, [MASKED],...\n",
              "7     [O, [MASKED], O, O, O, O, O, O, O, O, O, O, O,...\n",
              "8     [O, O, O, O, O, O, O, O, [MASKED], [MASKED], O...\n",
              "9     [O, O, O, O, O, O, O, O, O, [MASKED], O, O, O,...\n",
              "10    [O, O, O, O, O, O, O, [MASKED], [MASKED], [MAS...\n",
              "Name: masked_tags, dtype: object"
            ],
            "text/html": [
              "<div>\n",
              "<style scoped>\n",
              "    .dataframe tbody tr th:only-of-type {\n",
              "        vertical-align: middle;\n",
              "    }\n",
              "\n",
              "    .dataframe tbody tr th {\n",
              "        vertical-align: top;\n",
              "    }\n",
              "\n",
              "    .dataframe thead th {\n",
              "        text-align: right;\n",
              "    }\n",
              "</style>\n",
              "<table border=\"1\" class=\"dataframe\">\n",
              "  <thead>\n",
              "    <tr style=\"text-align: right;\">\n",
              "      <th></th>\n",
              "      <th>masked_tags</th>\n",
              "    </tr>\n",
              "  </thead>\n",
              "  <tbody>\n",
              "    <tr>\n",
              "      <th>5</th>\n",
              "      <td>[O, [MASKED], O, O, O, O, O, O, O, O, O, O, [M...</td>\n",
              "    </tr>\n",
              "    <tr>\n",
              "      <th>6</th>\n",
              "      <td>[O, O, O, O, O, O, O, O, O, O, O, O, [MASKED],...</td>\n",
              "    </tr>\n",
              "    <tr>\n",
              "      <th>7</th>\n",
              "      <td>[O, [MASKED], O, O, O, O, O, O, O, O, O, O, O,...</td>\n",
              "    </tr>\n",
              "    <tr>\n",
              "      <th>8</th>\n",
              "      <td>[O, O, O, O, O, O, O, O, [MASKED], [MASKED], O...</td>\n",
              "    </tr>\n",
              "    <tr>\n",
              "      <th>9</th>\n",
              "      <td>[O, O, O, O, O, O, O, O, O, [MASKED], O, O, O,...</td>\n",
              "    </tr>\n",
              "    <tr>\n",
              "      <th>10</th>\n",
              "      <td>[O, O, O, O, O, O, O, [MASKED], [MASKED], [MAS...</td>\n",
              "    </tr>\n",
              "  </tbody>\n",
              "</table>\n",
              "</div><br><label><b>dtype:</b> object</label>"
            ]
          },
          "metadata": {},
          "execution_count": 103
        }
      ]
    },
    {
      "cell_type": "code",
      "source": [
        "print(train['masked_tags'][0])\n",
        "print(train['tokens'][0])\n",
        "print(train['tags'][0])"
      ],
      "metadata": {
        "colab": {
          "base_uri": "https://localhost:8080/"
        },
        "id": "RoL888urv-ht",
        "outputId": "494f1b04-7171-4688-96a3-f9bb8885e731"
      },
      "execution_count": null,
      "outputs": [
        {
          "output_type": "stream",
          "name": "stdout",
          "text": [
            "['O', '[MASKED]', '[MASKED]', 'O', 'O', 'O', 'O', 'O', 'O', 'O', 'O', 'O', 'O', 'O', 'O', 'O', 'O', '[MASKED]', '[MASKED]', 'O', 'O', 'O', 'O', 'O']\n",
            "['مرحبا', 'Johan', 'Walker', '،', 'إشعار', 'الامتثال', ':', 'تتطلب', 'التغييرات', 'الأخيرة', 'في', 'التشريعات', 'في', 'سانت', 'غالن', 'منك', 'تحديث', 'Suite', '559', 'الخاص', 'بك', 'في', 'سجلاتنا', '.']\n",
            "['O', 'B-FIRSTNAME', 'B-LASTNAME', 'O', 'O', 'O', 'O', 'O', 'O', 'O', 'O', 'O', 'O', 'B-STATE', 'I-STATE', 'O', 'O', 'B-SECONDARYADDRESS', 'I-SECONDARYADDRESS', 'O', 'O', 'O', 'O', 'O']\n"
          ]
        }
      ]
    },
    {
      "cell_type": "code",
      "source": [
        "print(train['masked_tags'][3])\n",
        "print(train['tokens'][3])\n",
        "print(train['tags'][3])"
      ],
      "metadata": {
        "colab": {
          "base_uri": "https://localhost:8080/"
        },
        "id": "3uPcER7_yAC4",
        "outputId": "6c6c690f-ac7d-47f1-8c55-06adc8835c95"
      },
      "execution_count": null,
      "outputs": [
        {
          "output_type": "stream",
          "name": "stdout",
          "text": [
            "['O', 'O', 'O', 'O', 'O', 'O', 'O', 'O', 'O', 'O', 'O', 'O', 'O', 'O', 'O', 'O', 'O', 'O', 'O', 'O', 'O', 'O', 'O', '[MASKED]', 'O', 'O', 'O', 'O', 'O', 'O', 'O']\n",
            "['عزيزي', 'ولي', 'الأمر', '،', 'يلزم', 'الحصول', 'على', 'إذن', 'في', '2018', '-', '04', '-', '17T03', ':', '32', ':', '46', '.', '898Z', 'للرحلة', 'المدرسية', 'لـ', 'Maximillian', '.', 'يرجى', 'الرجوع', 'إلى', 'النموذج', 'المرفق', '.']\n",
            "['O', 'O', 'O', 'O', 'O', 'O', 'O', 'O', 'O', 'B-DATE', 'I-DATE', 'I-DATE', 'I-DATE', 'I-DATE', 'I-DATE', 'I-DATE', 'I-DATE', 'I-DATE', 'I-DATE', 'I-DATE', 'O', 'O', 'O', 'B-FIRSTNAME', 'O', 'O', 'O', 'O', 'O', 'O', 'O']\n"
          ]
        }
      ]
    },
    {
      "cell_type": "code",
      "source": [
        "length_comparison_result = train.apply(lambda row: len(train.tokens) == len(train.masked_tags), axis=1)\n",
        "print(f\"\\nNumber of rows with mismatching lengths: {sum(~length_comparison_result)}\")"
      ],
      "metadata": {
        "colab": {
          "base_uri": "https://localhost:8080/"
        },
        "id": "sNf7QEXCo5El",
        "outputId": "30d76c80-619b-4c8f-ae68-00c58a03147c"
      },
      "execution_count": null,
      "outputs": [
        {
          "output_type": "stream",
          "name": "stdout",
          "text": [
            "\n",
            "Number of rows with mismatching lengths: 0\n"
          ]
        }
      ]
    },
    {
      "cell_type": "markdown",
      "source": [
        "##### Creating new masked sentences"
      ],
      "metadata": {
        "id": "7rmXEDnJvEZX"
      }
    },
    {
      "cell_type": "code",
      "source": [
        "import re"
      ],
      "metadata": {
        "id": "1NCJwFhEzGRr"
      },
      "execution_count": null,
      "outputs": []
    },
    {
      "source": [
        "def create_masked_sentence(row):\n",
        "    \"\"\"Creates a masked sentence from tokens and masked tags.\n",
        "\n",
        "    Args:\n",
        "    row: A pandas DataFrame row with 'tokens' and 'masked_tags' columns.\n",
        "\n",
        "    Returns:\n",
        "    A string representing the masked sentence.\n",
        "    \"\"\"\n",
        "    masked_sentence_tokens = []\n",
        "    for token, tag in zip(row['tokens'], row['masked_tags']):\n",
        "        if tag == '[MASKED]':\n",
        "            masked_sentence_tokens.append('[masked]')\n",
        "        else:\n",
        "            masked_sentence_tokens.append(token)\n",
        "\n",
        "    return ' '.join(masked_sentence_tokens)"
      ],
      "cell_type": "code",
      "metadata": {
        "id": "88fski98vhGu"
      },
      "execution_count": null,
      "outputs": []
    },
    {
      "cell_type": "code",
      "source": [
        "# Apply the function to each row to create the new masked sentence column\n",
        "train['masked_source'] = train.apply(create_masked_sentence, axis=1)"
      ],
      "metadata": {
        "id": "6vFvSBumvjhW"
      },
      "execution_count": null,
      "outputs": []
    },
    {
      "cell_type": "code",
      "source": [
        "print(train['masked_source'][3])\n",
        "print(train['clean_source'][3])\n",
        "print(train['masked_tags'][3])\n",
        "print(train['tokens'][3])\n",
        "print(train['tags'][3])"
      ],
      "metadata": {
        "colab": {
          "base_uri": "https://localhost:8080/"
        },
        "id": "5KBhnQ1Nzd7F",
        "outputId": "feb65faf-51b2-468e-df03-6e6263143b9a"
      },
      "execution_count": null,
      "outputs": [
        {
          "output_type": "stream",
          "name": "stdout",
          "text": [
            "عزيزي ولي الأمر ، يلزم الحصول على إذن في 2018 - 04 - 17T03 : 32 : 46 . 898Z للرحلة المدرسية لـ [masked] . يرجى الرجوع إلى النموذج المرفق .\n",
            "عزيزي ولي الأمر، يلزم الحصول على إذن في 2018-04-17T03:32:46.898Z للرحلة المدرسية لـ Maximillian. يرجى الرجوع إلى النموذج المرفق.\n",
            "['O', 'O', 'O', 'O', 'O', 'O', 'O', 'O', 'O', 'O', 'O', 'O', 'O', 'O', 'O', 'O', 'O', 'O', 'O', 'O', 'O', 'O', 'O', '[MASKED]', 'O', 'O', 'O', 'O', 'O', 'O', 'O']\n",
            "['عزيزي', 'ولي', 'الأمر', '،', 'يلزم', 'الحصول', 'على', 'إذن', 'في', '2018', '-', '04', '-', '17T03', ':', '32', ':', '46', '.', '898Z', 'للرحلة', 'المدرسية', 'لـ', 'Maximillian', '.', 'يرجى', 'الرجوع', 'إلى', 'النموذج', 'المرفق', '.']\n",
            "['O', 'O', 'O', 'O', 'O', 'O', 'O', 'O', 'O', 'B-DATE', 'I-DATE', 'I-DATE', 'I-DATE', 'I-DATE', 'I-DATE', 'I-DATE', 'I-DATE', 'I-DATE', 'I-DATE', 'I-DATE', 'O', 'O', 'O', 'B-FIRSTNAME', 'O', 'O', 'O', 'O', 'O', 'O', 'O']\n"
          ]
        }
      ]
    },
    {
      "cell_type": "code",
      "source": [
        "train.head()"
      ],
      "metadata": {
        "colab": {
          "base_uri": "https://localhost:8080/",
          "height": 414
        },
        "id": "jE5niiQi1eb_",
        "outputId": "b105a3cc-2136-4476-83f7-defb0d466f71"
      },
      "execution_count": null,
      "outputs": [
        {
          "output_type": "execute_result",
          "data": {
            "text/plain": [
              "                                              source  \\\n",
              "0  مرحبًا <!FIRSTNAME_1!> Johan </!FIRSTNAME_1!> ...   \n",
              "1  نحن نقوم بمراجعة القضية التي رفعها <!FIRSTNAME...   \n",
              "2  بسبب اتفاقية السرية، لا يمكن للمريضة <!SEX_1!>...   \n",
              "3  عزيزي ولي الأمر، يلزم الحصول على إذن في <!DATE...   \n",
              "4  تنظيم اجتماع حول <!AGE_1!> 7 سنوات </!AGE_1!> ...   \n",
              "\n",
              "                                              tokens  \\\n",
              "0  [مرحبا, Johan, Walker, ،, إشعار, الامتثال, :, ...   \n",
              "1  [نحن, نقوم, بمراجعة, القضية, التي, رفعها, كادي...   \n",
              "2  [بسبب, اتفاقية, السرية, ،, لا, يمكن, للمريضة, ...   \n",
              "3  [عزيزي, ولي, الأمر, ،, يلزم, الحصول, على, إذن,...   \n",
              "4  [تنظيم, اجتماع, حول, 7, سنوات, (, Genderqueer,...   \n",
              "\n",
              "                                                tags  \\\n",
              "0  [O, B-FIRSTNAME, B-LASTNAME, O, O, O, O, O, O,...   \n",
              "1  [O, O, O, O, O, O, B-FIRSTNAME, B-LASTNAME, O,...   \n",
              "2  [O, O, O, O, O, O, O, B-SEX, O, O, O, B-PREFIX...   \n",
              "3  [O, O, O, O, O, O, O, O, O, B-DATE, I-DATE, I-...   \n",
              "4  [O, O, O, B-AGE, I-AGE, O, B-GENDER, O, O, O, ...   \n",
              "\n",
              "                                        clean_source  \\\n",
              "0  مرحبا Johan Walker، إشعار الامتثال: تتطلب التغ...   \n",
              "1  نحن نقوم بمراجعة القضية التي رفعها كادي شوبي ب...   \n",
              "2  بسبب اتفاقية السرية، لا يمكن للمريضة أنثى الدر...   \n",
              "3  عزيزي ولي الأمر، يلزم الحصول على إذن في 2018-0...   \n",
              "4  تنظيم اجتماع حول 7 سنوات (Genderqueer) وسلامة ...   \n",
              "\n",
              "                                         masked_tags  \\\n",
              "0  [O, [MASKED], [MASKED], O, O, O, O, O, O, O, O...   \n",
              "1  [O, O, O, O, O, O, [MASKED], [MASKED], O, O, O...   \n",
              "2            [O, O, O, O, O, O, O, O, O, O, O, O, O]   \n",
              "3  [O, O, O, O, O, O, O, O, O, O, O, O, O, O, O, ...   \n",
              "4  [O, O, O, O, O, O, O, O, O, O, O, O, [MASKED],...   \n",
              "\n",
              "                                       masked_source  \n",
              "0  مرحبا [masked] [masked] ، إشعار الامتثال : تتط...  \n",
              "1  نحن نقوم بمراجعة القضية التي رفعها [masked] [m...  \n",
              "2  بسبب اتفاقية السرية ، لا يمكن للمريضة أنثى الد...  \n",
              "3  عزيزي ولي الأمر ، يلزم الحصول على إذن في 2018 ...  \n",
              "4  تنظيم اجتماع حول 7 سنوات ( Genderqueer ) وسلام...  "
            ],
            "text/html": [
              "\n",
              "  <div id=\"df-24c53d69-0aef-4f97-bf8a-9677d9f904d0\" class=\"colab-df-container\">\n",
              "    <div>\n",
              "<style scoped>\n",
              "    .dataframe tbody tr th:only-of-type {\n",
              "        vertical-align: middle;\n",
              "    }\n",
              "\n",
              "    .dataframe tbody tr th {\n",
              "        vertical-align: top;\n",
              "    }\n",
              "\n",
              "    .dataframe thead th {\n",
              "        text-align: right;\n",
              "    }\n",
              "</style>\n",
              "<table border=\"1\" class=\"dataframe\">\n",
              "  <thead>\n",
              "    <tr style=\"text-align: right;\">\n",
              "      <th></th>\n",
              "      <th>source</th>\n",
              "      <th>tokens</th>\n",
              "      <th>tags</th>\n",
              "      <th>clean_source</th>\n",
              "      <th>masked_tags</th>\n",
              "      <th>masked_source</th>\n",
              "    </tr>\n",
              "  </thead>\n",
              "  <tbody>\n",
              "    <tr>\n",
              "      <th>0</th>\n",
              "      <td>مرحبًا &lt;!FIRSTNAME_1!&gt; Johan &lt;/!FIRSTNAME_1!&gt; ...</td>\n",
              "      <td>[مرحبا, Johan, Walker, ،, إشعار, الامتثال, :, ...</td>\n",
              "      <td>[O, B-FIRSTNAME, B-LASTNAME, O, O, O, O, O, O,...</td>\n",
              "      <td>مرحبا Johan Walker، إشعار الامتثال: تتطلب التغ...</td>\n",
              "      <td>[O, [MASKED], [MASKED], O, O, O, O, O, O, O, O...</td>\n",
              "      <td>مرحبا [masked] [masked] ، إشعار الامتثال : تتط...</td>\n",
              "    </tr>\n",
              "    <tr>\n",
              "      <th>1</th>\n",
              "      <td>نحن نقوم بمراجعة القضية التي رفعها &lt;!FIRSTNAME...</td>\n",
              "      <td>[نحن, نقوم, بمراجعة, القضية, التي, رفعها, كادي...</td>\n",
              "      <td>[O, O, O, O, O, O, B-FIRSTNAME, B-LASTNAME, O,...</td>\n",
              "      <td>نحن نقوم بمراجعة القضية التي رفعها كادي شوبي ب...</td>\n",
              "      <td>[O, O, O, O, O, O, [MASKED], [MASKED], O, O, O...</td>\n",
              "      <td>نحن نقوم بمراجعة القضية التي رفعها [masked] [m...</td>\n",
              "    </tr>\n",
              "    <tr>\n",
              "      <th>2</th>\n",
              "      <td>بسبب اتفاقية السرية، لا يمكن للمريضة &lt;!SEX_1!&gt;...</td>\n",
              "      <td>[بسبب, اتفاقية, السرية, ،, لا, يمكن, للمريضة, ...</td>\n",
              "      <td>[O, O, O, O, O, O, O, B-SEX, O, O, O, B-PREFIX...</td>\n",
              "      <td>بسبب اتفاقية السرية، لا يمكن للمريضة أنثى الدر...</td>\n",
              "      <td>[O, O, O, O, O, O, O, O, O, O, O, O, O]</td>\n",
              "      <td>بسبب اتفاقية السرية ، لا يمكن للمريضة أنثى الد...</td>\n",
              "    </tr>\n",
              "    <tr>\n",
              "      <th>3</th>\n",
              "      <td>عزيزي ولي الأمر، يلزم الحصول على إذن في &lt;!DATE...</td>\n",
              "      <td>[عزيزي, ولي, الأمر, ،, يلزم, الحصول, على, إذن,...</td>\n",
              "      <td>[O, O, O, O, O, O, O, O, O, B-DATE, I-DATE, I-...</td>\n",
              "      <td>عزيزي ولي الأمر، يلزم الحصول على إذن في 2018-0...</td>\n",
              "      <td>[O, O, O, O, O, O, O, O, O, O, O, O, O, O, O, ...</td>\n",
              "      <td>عزيزي ولي الأمر ، يلزم الحصول على إذن في 2018 ...</td>\n",
              "    </tr>\n",
              "    <tr>\n",
              "      <th>4</th>\n",
              "      <td>تنظيم اجتماع حول &lt;!AGE_1!&gt; 7 سنوات &lt;/!AGE_1!&gt; ...</td>\n",
              "      <td>[تنظيم, اجتماع, حول, 7, سنوات, (, Genderqueer,...</td>\n",
              "      <td>[O, O, O, B-AGE, I-AGE, O, B-GENDER, O, O, O, ...</td>\n",
              "      <td>تنظيم اجتماع حول 7 سنوات (Genderqueer) وسلامة ...</td>\n",
              "      <td>[O, O, O, O, O, O, O, O, O, O, O, O, [MASKED],...</td>\n",
              "      <td>تنظيم اجتماع حول 7 سنوات ( Genderqueer ) وسلام...</td>\n",
              "    </tr>\n",
              "  </tbody>\n",
              "</table>\n",
              "</div>\n",
              "    <div class=\"colab-df-buttons\">\n",
              "\n",
              "  <div class=\"colab-df-container\">\n",
              "    <button class=\"colab-df-convert\" onclick=\"convertToInteractive('df-24c53d69-0aef-4f97-bf8a-9677d9f904d0')\"\n",
              "            title=\"Convert this dataframe to an interactive table.\"\n",
              "            style=\"display:none;\">\n",
              "\n",
              "  <svg xmlns=\"http://www.w3.org/2000/svg\" height=\"24px\" viewBox=\"0 -960 960 960\">\n",
              "    <path d=\"M120-120v-720h720v720H120Zm60-500h600v-160H180v160Zm220 220h160v-160H400v160Zm0 220h160v-160H400v160ZM180-400h160v-160H180v160Zm440 0h160v-160H620v160ZM180-180h160v-160H180v160Zm440 0h160v-160H620v160Z\"/>\n",
              "  </svg>\n",
              "    </button>\n",
              "\n",
              "  <style>\n",
              "    .colab-df-container {\n",
              "      display:flex;\n",
              "      gap: 12px;\n",
              "    }\n",
              "\n",
              "    .colab-df-convert {\n",
              "      background-color: #E8F0FE;\n",
              "      border: none;\n",
              "      border-radius: 50%;\n",
              "      cursor: pointer;\n",
              "      display: none;\n",
              "      fill: #1967D2;\n",
              "      height: 32px;\n",
              "      padding: 0 0 0 0;\n",
              "      width: 32px;\n",
              "    }\n",
              "\n",
              "    .colab-df-convert:hover {\n",
              "      background-color: #E2EBFA;\n",
              "      box-shadow: 0px 1px 2px rgba(60, 64, 67, 0.3), 0px 1px 3px 1px rgba(60, 64, 67, 0.15);\n",
              "      fill: #174EA6;\n",
              "    }\n",
              "\n",
              "    .colab-df-buttons div {\n",
              "      margin-bottom: 4px;\n",
              "    }\n",
              "\n",
              "    [theme=dark] .colab-df-convert {\n",
              "      background-color: #3B4455;\n",
              "      fill: #D2E3FC;\n",
              "    }\n",
              "\n",
              "    [theme=dark] .colab-df-convert:hover {\n",
              "      background-color: #434B5C;\n",
              "      box-shadow: 0px 1px 3px 1px rgba(0, 0, 0, 0.15);\n",
              "      filter: drop-shadow(0px 1px 2px rgba(0, 0, 0, 0.3));\n",
              "      fill: #FFFFFF;\n",
              "    }\n",
              "  </style>\n",
              "\n",
              "    <script>\n",
              "      const buttonEl =\n",
              "        document.querySelector('#df-24c53d69-0aef-4f97-bf8a-9677d9f904d0 button.colab-df-convert');\n",
              "      buttonEl.style.display =\n",
              "        google.colab.kernel.accessAllowed ? 'block' : 'none';\n",
              "\n",
              "      async function convertToInteractive(key) {\n",
              "        const element = document.querySelector('#df-24c53d69-0aef-4f97-bf8a-9677d9f904d0');\n",
              "        const dataTable =\n",
              "          await google.colab.kernel.invokeFunction('convertToInteractive',\n",
              "                                                    [key], {});\n",
              "        if (!dataTable) return;\n",
              "\n",
              "        const docLinkHtml = 'Like what you see? Visit the ' +\n",
              "          '<a target=\"_blank\" href=https://colab.research.google.com/notebooks/data_table.ipynb>data table notebook</a>'\n",
              "          + ' to learn more about interactive tables.';\n",
              "        element.innerHTML = '';\n",
              "        dataTable['output_type'] = 'display_data';\n",
              "        await google.colab.output.renderOutput(dataTable, element);\n",
              "        const docLink = document.createElement('div');\n",
              "        docLink.innerHTML = docLinkHtml;\n",
              "        element.appendChild(docLink);\n",
              "      }\n",
              "    </script>\n",
              "  </div>\n",
              "\n",
              "\n",
              "    <div id=\"df-3bcfc8ae-0675-4f18-bf0b-b57e1010a3eb\">\n",
              "      <button class=\"colab-df-quickchart\" onclick=\"quickchart('df-3bcfc8ae-0675-4f18-bf0b-b57e1010a3eb')\"\n",
              "                title=\"Suggest charts\"\n",
              "                style=\"display:none;\">\n",
              "\n",
              "<svg xmlns=\"http://www.w3.org/2000/svg\" height=\"24px\"viewBox=\"0 0 24 24\"\n",
              "     width=\"24px\">\n",
              "    <g>\n",
              "        <path d=\"M19 3H5c-1.1 0-2 .9-2 2v14c0 1.1.9 2 2 2h14c1.1 0 2-.9 2-2V5c0-1.1-.9-2-2-2zM9 17H7v-7h2v7zm4 0h-2V7h2v10zm4 0h-2v-4h2v4z\"/>\n",
              "    </g>\n",
              "</svg>\n",
              "      </button>\n",
              "\n",
              "<style>\n",
              "  .colab-df-quickchart {\n",
              "      --bg-color: #E8F0FE;\n",
              "      --fill-color: #1967D2;\n",
              "      --hover-bg-color: #E2EBFA;\n",
              "      --hover-fill-color: #174EA6;\n",
              "      --disabled-fill-color: #AAA;\n",
              "      --disabled-bg-color: #DDD;\n",
              "  }\n",
              "\n",
              "  [theme=dark] .colab-df-quickchart {\n",
              "      --bg-color: #3B4455;\n",
              "      --fill-color: #D2E3FC;\n",
              "      --hover-bg-color: #434B5C;\n",
              "      --hover-fill-color: #FFFFFF;\n",
              "      --disabled-bg-color: #3B4455;\n",
              "      --disabled-fill-color: #666;\n",
              "  }\n",
              "\n",
              "  .colab-df-quickchart {\n",
              "    background-color: var(--bg-color);\n",
              "    border: none;\n",
              "    border-radius: 50%;\n",
              "    cursor: pointer;\n",
              "    display: none;\n",
              "    fill: var(--fill-color);\n",
              "    height: 32px;\n",
              "    padding: 0;\n",
              "    width: 32px;\n",
              "  }\n",
              "\n",
              "  .colab-df-quickchart:hover {\n",
              "    background-color: var(--hover-bg-color);\n",
              "    box-shadow: 0 1px 2px rgba(60, 64, 67, 0.3), 0 1px 3px 1px rgba(60, 64, 67, 0.15);\n",
              "    fill: var(--button-hover-fill-color);\n",
              "  }\n",
              "\n",
              "  .colab-df-quickchart-complete:disabled,\n",
              "  .colab-df-quickchart-complete:disabled:hover {\n",
              "    background-color: var(--disabled-bg-color);\n",
              "    fill: var(--disabled-fill-color);\n",
              "    box-shadow: none;\n",
              "  }\n",
              "\n",
              "  .colab-df-spinner {\n",
              "    border: 2px solid var(--fill-color);\n",
              "    border-color: transparent;\n",
              "    border-bottom-color: var(--fill-color);\n",
              "    animation:\n",
              "      spin 1s steps(1) infinite;\n",
              "  }\n",
              "\n",
              "  @keyframes spin {\n",
              "    0% {\n",
              "      border-color: transparent;\n",
              "      border-bottom-color: var(--fill-color);\n",
              "      border-left-color: var(--fill-color);\n",
              "    }\n",
              "    20% {\n",
              "      border-color: transparent;\n",
              "      border-left-color: var(--fill-color);\n",
              "      border-top-color: var(--fill-color);\n",
              "    }\n",
              "    30% {\n",
              "      border-color: transparent;\n",
              "      border-left-color: var(--fill-color);\n",
              "      border-top-color: var(--fill-color);\n",
              "      border-right-color: var(--fill-color);\n",
              "    }\n",
              "    40% {\n",
              "      border-color: transparent;\n",
              "      border-right-color: var(--fill-color);\n",
              "      border-top-color: var(--fill-color);\n",
              "    }\n",
              "    60% {\n",
              "      border-color: transparent;\n",
              "      border-right-color: var(--fill-color);\n",
              "    }\n",
              "    80% {\n",
              "      border-color: transparent;\n",
              "      border-right-color: var(--fill-color);\n",
              "      border-bottom-color: var(--fill-color);\n",
              "    }\n",
              "    90% {\n",
              "      border-color: transparent;\n",
              "      border-bottom-color: var(--fill-color);\n",
              "    }\n",
              "  }\n",
              "</style>\n",
              "\n",
              "      <script>\n",
              "        async function quickchart(key) {\n",
              "          const quickchartButtonEl =\n",
              "            document.querySelector('#' + key + ' button');\n",
              "          quickchartButtonEl.disabled = true;  // To prevent multiple clicks.\n",
              "          quickchartButtonEl.classList.add('colab-df-spinner');\n",
              "          try {\n",
              "            const charts = await google.colab.kernel.invokeFunction(\n",
              "                'suggestCharts', [key], {});\n",
              "          } catch (error) {\n",
              "            console.error('Error during call to suggestCharts:', error);\n",
              "          }\n",
              "          quickchartButtonEl.classList.remove('colab-df-spinner');\n",
              "          quickchartButtonEl.classList.add('colab-df-quickchart-complete');\n",
              "        }\n",
              "        (() => {\n",
              "          let quickchartButtonEl =\n",
              "            document.querySelector('#df-3bcfc8ae-0675-4f18-bf0b-b57e1010a3eb button');\n",
              "          quickchartButtonEl.style.display =\n",
              "            google.colab.kernel.accessAllowed ? 'block' : 'none';\n",
              "        })();\n",
              "      </script>\n",
              "    </div>\n",
              "\n",
              "    </div>\n",
              "  </div>\n"
            ],
            "application/vnd.google.colaboratory.intrinsic+json": {
              "type": "dataframe",
              "variable_name": "train"
            }
          },
          "metadata": {},
          "execution_count": 111
        }
      ]
    },
    {
      "cell_type": "code",
      "source": [
        "# Save the train data after the updates\n",
        "train.to_csv('/content/drive/MyDrive/Colab Notebooks/ArabicPIIRedaction/data/masked_train_data.csv', index=False)"
      ],
      "metadata": {
        "id": "QaG-miWe1VBN"
      },
      "execution_count": null,
      "outputs": []
    },
    {
      "cell_type": "markdown",
      "source": [
        "# Loading Model"
      ],
      "metadata": {
        "id": "EXJVZgY7QBLb"
      }
    },
    {
      "cell_type": "markdown",
      "source": [
        "### SILMA-2B-4bit"
      ],
      "metadata": {
        "id": "PFOFFoZunpk2"
      }
    },
    {
      "cell_type": "code",
      "source": [
        "# !pip install bitsandbytes accelerate\n",
        "from transformers import AutoTokenizer, AutoModelForCausalLM, BitsAndBytesConfig"
      ],
      "metadata": {
        "id": "msxzfcMAde1j"
      },
      "execution_count": null,
      "outputs": []
    },
    {
      "cell_type": "code",
      "source": [
        "model_id = \"silma-ai/SILMA-Kashif-2B-Instruct-v1.0-bnb-4bit\" # Quantized version\n",
        "quantization_config = BitsAndBytesConfig(load_in_4bit=True)\n",
        "tokenizer = AutoTokenizer.from_pretrained(model_id)\n",
        "\n",
        "model = AutoModelForCausalLM.from_pretrained(\n",
        "    model_id,\n",
        "    quantization_config = quantization_config,\n",
        ")"
      ],
      "metadata": {
        "id": "masiTJ6OdWt4"
      },
      "execution_count": null,
      "outputs": []
    },
    {
      "cell_type": "code",
      "source": [
        "messages = [\n",
        "    {\"role\": \"user\", \"content\": \"كم عدد أيام الأسبوع؟\"},\n",
        "]\n",
        "\n",
        "input_ids = tokenizer.apply_chat_template(messages, return_tensors=\"pt\", return_dict=True).to(\"cuda\")\n",
        "\n",
        "input_ids"
      ],
      "metadata": {
        "id": "RvMdoz8tiZFa"
      },
      "execution_count": null,
      "outputs": []
    },
    {
      "cell_type": "code",
      "source": [
        "outputs = model.generate(**input_ids, max_new_tokens=256)"
      ],
      "metadata": {
        "id": "4VpdHPFPi9Sb"
      },
      "execution_count": null,
      "outputs": []
    },
    {
      "cell_type": "code",
      "source": [
        "tokenizer.decode(outputs[0]).split(\"<start_of_turn>\")[-1]"
      ],
      "metadata": {
        "id": "E85GRMtol4fs"
      },
      "execution_count": null,
      "outputs": []
    },
    {
      "cell_type": "markdown",
      "source": [
        "### SILMA-2B"
      ],
      "metadata": {
        "id": "YRk7u6B4oIAh"
      }
    },
    {
      "cell_type": "code",
      "source": [
        "import torch\n",
        "from transformers import pipeline"
      ],
      "metadata": {
        "id": "HfyUaT6iqCcF"
      },
      "execution_count": null,
      "outputs": []
    },
    {
      "cell_type": "code",
      "source": [
        "pipe = pipeline(\n",
        "    \"text-generation\",\n",
        "    model=\"silma-ai/SILMA-Kashif-2B-Instruct-v1.0\",\n",
        "    model_kwargs={\"torch_dtype\": torch.bfloat16},\n",
        "    device=\"cuda\"\n",
        ")"
      ],
      "metadata": {
        "id": "KGt_QV4EoHP8"
      },
      "execution_count": null,
      "outputs": []
    },
    {
      "cell_type": "code",
      "source": [
        "messages = [\n",
        "    {\"role\": \"user\",\n",
        "     \"content\": \"\"\" Mask the PII as [masked] in the given source sentence\n",
        "\n",
        "     source: I sent my email address M.helmy@nu.edu.eg to my supervisor dr. gahda khoriba in Nile University.\n",
        "\n",
        "     target:\n",
        "     \"\"\"\n",
        "     }\n",
        "]\n",
        "\n",
        "outputs = pipe(messages, max_new_tokens=600)\n",
        "response = outputs[0][\"generated_text\"][-1][\"content\"].strip()"
      ],
      "metadata": {
        "id": "s3011Qx6qgGH"
      },
      "execution_count": null,
      "outputs": []
    },
    {
      "cell_type": "code",
      "source": [
        "response"
      ],
      "metadata": {
        "id": "xzoNrnzLrCuP"
      },
      "execution_count": null,
      "outputs": []
    },
    {
      "cell_type": "code",
      "source": [
        "messages = [\n",
        "    {\"role\": \"user\",\n",
        "     \"content\": f\"\"\" Mask the PII as [masked] in the given source sentence\n",
        "\n",
        "     source: {df[\"source\"][0]}\n",
        "\n",
        "     target:\n",
        "     \"\"\"\n",
        "     }\n",
        "]\n",
        "\n",
        "outputs = pipe(messages, max_new_tokens=600)\n",
        "response = outputs[0][\"generated_text\"][-1][\"content\"].strip()"
      ],
      "metadata": {
        "id": "x8_x4pNKwCqH"
      },
      "execution_count": null,
      "outputs": []
    },
    {
      "cell_type": "code",
      "source": [
        "print(df[\"source\"][0])\n",
        "print(response)"
      ],
      "metadata": {
        "id": "QWSCTXuQwLLk"
      },
      "execution_count": null,
      "outputs": []
    }
  ]
}